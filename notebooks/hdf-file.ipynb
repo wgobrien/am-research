{
 "cells": [
  {
   "cell_type": "code",
   "execution_count": 2,
   "id": "7b79aabc",
   "metadata": {},
   "outputs": [
    {
     "name": "stdout",
     "output_type": "stream",
     "text": [
      "['data', 'image_data']\n"
     ]
    }
   ],
   "source": [
    "import pandas as pd\n",
    "import h5py as hdf\n",
    "\n",
    "fpath = \"../../P1.hdf5\"\n",
    "dataset = hdf.File(fpath, 'r')\n",
    "\n",
    "print(list(dataset))\n",
    "\n",
    "#data = pd.DataFrame(dataset['data'])\n",
    "#data.to_csv('..data/interim/file_out.csv')"
   ]
  },
  {
   "cell_type": "code",
   "execution_count": 3,
   "id": "4a6c1cb2",
   "metadata": {},
   "outputs": [
    {
     "name": "stdout",
     "output_type": "stream",
     "text": [
      "(89229, 2)\n"
     ]
    },
    {
     "data": {
      "text/html": [
       "<div>\n",
       "<style scoped>\n",
       "    .dataframe tbody tr th:only-of-type {\n",
       "        vertical-align: middle;\n",
       "    }\n",
       "\n",
       "    .dataframe tbody tr th {\n",
       "        vertical-align: top;\n",
       "    }\n",
       "\n",
       "    .dataframe thead th {\n",
       "        text-align: right;\n",
       "    }\n",
       "</style>\n",
       "<table border=\"1\" class=\"dataframe\">\n",
       "  <thead>\n",
       "    <tr style=\"text-align: right;\">\n",
       "      <th></th>\n",
       "      <th>Unnamed: 0</th>\n",
       "      <th>0</th>\n",
       "    </tr>\n",
       "  </thead>\n",
       "  <tbody>\n",
       "    <tr>\n",
       "      <th>0</th>\n",
       "      <td>0</td>\n",
       "      <td>(0, 1000, 194., 287., 0., 3998.45605469, 4003....</td>\n",
       "    </tr>\n",
       "    <tr>\n",
       "      <th>1</th>\n",
       "      <td>1</td>\n",
       "      <td>(0, 1000, 194., 287., 0., 3998.41674805, 4004....</td>\n",
       "    </tr>\n",
       "    <tr>\n",
       "      <th>2</th>\n",
       "      <td>2</td>\n",
       "      <td>(147, 1000, 194., 287., 193., 4001.4609375, 40...</td>\n",
       "    </tr>\n",
       "    <tr>\n",
       "      <th>3</th>\n",
       "      <td>3</td>\n",
       "      <td>(170, 1000, 194., 287., 211., 4002.00463867, 4...</td>\n",
       "    </tr>\n",
       "    <tr>\n",
       "      <th>4</th>\n",
       "      <td>4</td>\n",
       "      <td>(180, 1000, 194., 286., 218., 4002.50805664, 4...</td>\n",
       "    </tr>\n",
       "  </tbody>\n",
       "</table>\n",
       "</div>"
      ],
      "text/plain": [
       "   Unnamed: 0                                                  0\n",
       "0           0  (0, 1000, 194., 287., 0., 3998.45605469, 4003....\n",
       "1           1  (0, 1000, 194., 287., 0., 3998.41674805, 4004....\n",
       "2           2  (147, 1000, 194., 287., 193., 4001.4609375, 40...\n",
       "3           3  (170, 1000, 194., 287., 211., 4002.00463867, 4...\n",
       "4           4  (180, 1000, 194., 286., 218., 4002.50805664, 4..."
      ]
     },
     "execution_count": 3,
     "metadata": {},
     "output_type": "execute_result"
    }
   ],
   "source": [
    "df = pd.read_csv('../data/interim/hdf_P1.csv')\n",
    "print(df.shape)\n",
    "df.head()"
   ]
  },
  {
   "cell_type": "code",
   "execution_count": 3,
   "id": "1a34ff29",
   "metadata": {},
   "outputs": [],
   "source": [
    "df.columns = ['id', 'items']"
   ]
  },
  {
   "cell_type": "code",
   "execution_count": 6,
   "id": "1029806b",
   "metadata": {},
   "outputs": [
    {
     "name": "stdout",
     "output_type": "stream",
     "text": [
      "already dropped column\n"
     ]
    }
   ],
   "source": [
    "try:\n",
    "    df = df.drop(['id'], axis=1)\n",
    "    print('dropped column')\n",
    "except:\n",
    "    print('already dropped column')"
   ]
  },
  {
   "cell_type": "code",
   "execution_count": 5,
   "id": "5cf362be",
   "metadata": {},
   "outputs": [
    {
     "data": {
      "text/plain": [
       "'(0, 1000, 194., 287., 0., 3998.45605469, 4003., 3999.45605469, 3994., [ 5.59020957e+09, -3.73907609e+06,  1.62549442e+10,  2.08308185e-05,  6.88127050e+11, -8.21897541e+05,  5.59031382e+09,  2.08312070e-05,  1.04029181e+12, -7.56685633e-13, -6.19942536e+04, -2.57385170e+06, -2.31009416e-10, -2.36963430e-12,  2.18457141e+10,  1.04034158e+12,  1.63817720e+07,  5.16036790e+08, -6.94232113e+04, -6.39149577e-14, -3.44240616e-12,  5.16020971e+08,  2.18448217e+10,  6.88121788e+11], 0.91644186, 0., [0., 0., 0., 0., 0., 0., 0., 0.], 0., -3998.45605469, 0., 0., 0., 0., [0., 0., 0., 0., 0., 0., 0., 0., 0., 0., 0., 0., 0., 0., 0., 0., 0., 0., 0., 0., 0., 0., 0., 0.], 0., 0., 0., 0., [ 0.49671319,  0.50421568, -0.49195327,  0.50697586], [-0.22265625,  0.07357059,  0.35832469], 0., 0.06099096, 0., -3998.45605469, 0., 0., 0., 0., [0., 0., 0., 0., 0., 0., 0., 0., 0., 0., 0., 0., 0., 0., 0., 0., 0., 0., 0., 0., 0., 0., 0., 0.], 0., 0., 0., 1.55531464e+09, [0., 0., 0., 0., 0., 0., 0., 0.])'"
      ]
     },
     "execution_count": 5,
     "metadata": {},
     "output_type": "execute_result"
    }
   ],
   "source": [
    "df.iloc[0][0]"
   ]
  },
  {
   "cell_type": "code",
   "execution_count": null,
   "id": "3ce95636",
   "metadata": {},
   "outputs": [],
   "source": []
  }
 ],
 "metadata": {
  "kernelspec": {
   "display_name": "Python 3",
   "language": "python",
   "name": "python3"
  },
  "language_info": {
   "codemirror_mode": {
    "name": "ipython",
    "version": 3
   },
   "file_extension": ".py",
   "mimetype": "text/x-python",
   "name": "python",
   "nbconvert_exporter": "python",
   "pygments_lexer": "ipython3",
   "version": "3.9.5"
  }
 },
 "nbformat": 4,
 "nbformat_minor": 5
}
