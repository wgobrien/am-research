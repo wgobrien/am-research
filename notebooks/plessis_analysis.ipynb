{
 "cells": [
  {
   "cell_type": "code",
   "execution_count": 5,
   "id": "04e492e5",
   "metadata": {},
   "outputs": [],
   "source": [
    "import pandas as pd\n",
    "import numpy as np\n",
    "from sklearn import model_selection as sk\n",
    "import pickle"
   ]
  },
  {
   "cell_type": "code",
   "execution_count": 6,
   "id": "2ad72aaf",
   "metadata": {
    "scrolled": true
   },
   "outputs": [
    {
     "output_type": "execute_result",
     "data": {
      "text/plain": [
       "   ID  StudySample  LaserPowerHatch  LaserSpeedHatch  HatchSpacing  \\\n",
       "0   1  Plessis_1-1            280.0           1200.0          0.14   \n",
       "1   2  Plessis_1-2            252.0           1200.0          0.14   \n",
       "2   3  Plessis_1-3            224.0           1200.0          0.14   \n",
       "3   4  Plessis_1-4            197.0           1200.0          0.14   \n",
       "4   5  Plessis_1-5            308.0           1200.0          0.14   \n",
       "\n",
       "   LaserPowerContour  Porosity  LayerHeight  EnergyDensityCalculated  \\\n",
       "0              150.0     0.013         0.03                55.555556   \n",
       "1              135.0     0.008         0.03                50.000000   \n",
       "2              120.0     0.007         0.03                44.444444   \n",
       "3              105.0     0.045         0.03                39.087302   \n",
       "4              165.0     0.017         0.03                61.111111   \n",
       "\n",
       "    Machine                    Powder MicroCTScan  HatchOffsetFromCountour  \n",
       "0  EOS M290  EOS-supplied Ti6Al4V ELI         NaN                    0.015  \n",
       "1  EOS M290  EOS-supplied Ti6Al4V ELI         NaN                    0.015  \n",
       "2  EOS M290  EOS-supplied Ti6Al4V ELI         NaN                    0.015  \n",
       "3  EOS M290  EOS-supplied Ti6Al4V ELI         NaN                    0.015  \n",
       "4  EOS M290  EOS-supplied Ti6Al4V ELI         NaN                    0.015  "
      ],
      "text/html": "<div>\n<style scoped>\n    .dataframe tbody tr th:only-of-type {\n        vertical-align: middle;\n    }\n\n    .dataframe tbody tr th {\n        vertical-align: top;\n    }\n\n    .dataframe thead th {\n        text-align: right;\n    }\n</style>\n<table border=\"1\" class=\"dataframe\">\n  <thead>\n    <tr style=\"text-align: right;\">\n      <th></th>\n      <th>ID</th>\n      <th>StudySample</th>\n      <th>LaserPowerHatch</th>\n      <th>LaserSpeedHatch</th>\n      <th>HatchSpacing</th>\n      <th>LaserPowerContour</th>\n      <th>Porosity</th>\n      <th>LayerHeight</th>\n      <th>EnergyDensityCalculated</th>\n      <th>Machine</th>\n      <th>Powder</th>\n      <th>MicroCTScan</th>\n      <th>HatchOffsetFromCountour</th>\n    </tr>\n  </thead>\n  <tbody>\n    <tr>\n      <th>0</th>\n      <td>1</td>\n      <td>Plessis_1-1</td>\n      <td>280.0</td>\n      <td>1200.0</td>\n      <td>0.14</td>\n      <td>150.0</td>\n      <td>0.013</td>\n      <td>0.03</td>\n      <td>55.555556</td>\n      <td>EOS M290</td>\n      <td>EOS-supplied Ti6Al4V ELI</td>\n      <td>NaN</td>\n      <td>0.015</td>\n    </tr>\n    <tr>\n      <th>1</th>\n      <td>2</td>\n      <td>Plessis_1-2</td>\n      <td>252.0</td>\n      <td>1200.0</td>\n      <td>0.14</td>\n      <td>135.0</td>\n      <td>0.008</td>\n      <td>0.03</td>\n      <td>50.000000</td>\n      <td>EOS M290</td>\n      <td>EOS-supplied Ti6Al4V ELI</td>\n      <td>NaN</td>\n      <td>0.015</td>\n    </tr>\n    <tr>\n      <th>2</th>\n      <td>3</td>\n      <td>Plessis_1-3</td>\n      <td>224.0</td>\n      <td>1200.0</td>\n      <td>0.14</td>\n      <td>120.0</td>\n      <td>0.007</td>\n      <td>0.03</td>\n      <td>44.444444</td>\n      <td>EOS M290</td>\n      <td>EOS-supplied Ti6Al4V ELI</td>\n      <td>NaN</td>\n      <td>0.015</td>\n    </tr>\n    <tr>\n      <th>3</th>\n      <td>4</td>\n      <td>Plessis_1-4</td>\n      <td>197.0</td>\n      <td>1200.0</td>\n      <td>0.14</td>\n      <td>105.0</td>\n      <td>0.045</td>\n      <td>0.03</td>\n      <td>39.087302</td>\n      <td>EOS M290</td>\n      <td>EOS-supplied Ti6Al4V ELI</td>\n      <td>NaN</td>\n      <td>0.015</td>\n    </tr>\n    <tr>\n      <th>4</th>\n      <td>5</td>\n      <td>Plessis_1-5</td>\n      <td>308.0</td>\n      <td>1200.0</td>\n      <td>0.14</td>\n      <td>165.0</td>\n      <td>0.017</td>\n      <td>0.03</td>\n      <td>61.111111</td>\n      <td>EOS M290</td>\n      <td>EOS-supplied Ti6Al4V ELI</td>\n      <td>NaN</td>\n      <td>0.015</td>\n    </tr>\n  </tbody>\n</table>\n</div>"
     },
     "metadata": {},
     "execution_count": 6
    }
   ],
   "source": [
    "params = pd.read_csv(\"../data/interim/interim_data.csv\")\n",
    "params.head()"
   ]
  },
  {
   "cell_type": "code",
   "execution_count": 7,
   "id": "0184e2f0",
   "metadata": {},
   "outputs": [],
   "source": [
    "machine_title = params.Machine[0]\n",
    "alloy_title = params.Powder[0]"
   ]
  },
  {
   "cell_type": "code",
   "execution_count": 8,
   "id": "7afa0148",
   "metadata": {},
   "outputs": [
    {
     "output_type": "stream",
     "name": "stdout",
     "text": [
      "dropped columns\n"
     ]
    },
    {
     "output_type": "execute_result",
     "data": {
      "text/plain": [
       "   LaserPowerHatch  LaserSpeedHatch  HatchSpacing  LaserPowerContour  \\\n",
       "0            280.0           1200.0          0.14              150.0   \n",
       "1            252.0           1200.0          0.14              135.0   \n",
       "2            224.0           1200.0          0.14              120.0   \n",
       "3            197.0           1200.0          0.14              105.0   \n",
       "4            308.0           1200.0          0.14              165.0   \n",
       "\n",
       "   EnergyDensityCalculated   Porosity  \n",
       "0                    0.013  55.555556  \n",
       "1                    0.008  50.000000  \n",
       "2                    0.007  44.444444  \n",
       "3                    0.045  39.087302  \n",
       "4                    0.017  61.111111  "
      ],
      "text/html": "<div>\n<style scoped>\n    .dataframe tbody tr th:only-of-type {\n        vertical-align: middle;\n    }\n\n    .dataframe tbody tr th {\n        vertical-align: top;\n    }\n\n    .dataframe thead th {\n        text-align: right;\n    }\n</style>\n<table border=\"1\" class=\"dataframe\">\n  <thead>\n    <tr style=\"text-align: right;\">\n      <th></th>\n      <th>LaserPowerHatch</th>\n      <th>LaserSpeedHatch</th>\n      <th>HatchSpacing</th>\n      <th>LaserPowerContour</th>\n      <th>EnergyDensityCalculated</th>\n      <th>Porosity</th>\n    </tr>\n  </thead>\n  <tbody>\n    <tr>\n      <th>0</th>\n      <td>280.0</td>\n      <td>1200.0</td>\n      <td>0.14</td>\n      <td>150.0</td>\n      <td>0.013</td>\n      <td>55.555556</td>\n    </tr>\n    <tr>\n      <th>1</th>\n      <td>252.0</td>\n      <td>1200.0</td>\n      <td>0.14</td>\n      <td>135.0</td>\n      <td>0.008</td>\n      <td>50.000000</td>\n    </tr>\n    <tr>\n      <th>2</th>\n      <td>224.0</td>\n      <td>1200.0</td>\n      <td>0.14</td>\n      <td>120.0</td>\n      <td>0.007</td>\n      <td>44.444444</td>\n    </tr>\n    <tr>\n      <th>3</th>\n      <td>197.0</td>\n      <td>1200.0</td>\n      <td>0.14</td>\n      <td>105.0</td>\n      <td>0.045</td>\n      <td>39.087302</td>\n    </tr>\n    <tr>\n      <th>4</th>\n      <td>308.0</td>\n      <td>1200.0</td>\n      <td>0.14</td>\n      <td>165.0</td>\n      <td>0.017</td>\n      <td>61.111111</td>\n    </tr>\n  </tbody>\n</table>\n</div>"
     },
     "metadata": {},
     "execution_count": 8
    }
   ],
   "source": [
    "try:\n",
    "    params = params.drop([\"ID\",\"StudySample\",\"HatchOffsetFromCountour\", \"MicroCTScan\", \"LayerHeight\", \"Machine\", \"Powder\"], axis=1)\n",
    "    print(\"dropped columns\")\n",
    "except:\n",
    "    print(\"already dropped columns\")\n",
    "params.columns = [\"LaserPowerHatch\",\"LaserSpeedHatch\",\"HatchSpacing\",\"LaserPowerContour\",\"EnergyDensityCalculated\",\"Porosity\"]\n",
    "params.head()"
   ]
  },
  {
   "cell_type": "code",
   "execution_count": 21,
   "id": "982f2395",
   "metadata": {
    "scrolled": true
   },
   "outputs": [],
   "source": [
    "split_pct = .25\n",
    "seed = 100\n",
    "\n",
    "train_data = params.sample(frac=split_pct, random_state=seed)\n",
    "test_data = params.drop(train_data.index).sample(frac=1)"
   ]
  },
  {
   "cell_type": "code",
   "execution_count": 22,
   "id": "83fbf4cd",
   "metadata": {},
   "outputs": [
    {
     "output_type": "execute_result",
     "data": {
      "text/plain": [
       "    LaserPowerHatch  LaserSpeedHatch  HatchSpacing  LaserPowerContour  \\\n",
       "0             280.0           1200.0          0.14             150.00   \n",
       "1             252.0           1200.0          0.14             135.00   \n",
       "2             224.0           1200.0          0.14             120.00   \n",
       "3             197.0           1200.0          0.14             105.00   \n",
       "4             308.0           1200.0          0.14             165.00   \n",
       "5             336.0           1200.0          0.14             180.00   \n",
       "7             280.0           1200.0          0.14             150.00   \n",
       "8             280.0           1200.0          0.14             150.00   \n",
       "9             100.0           1200.0          0.14              53.55   \n",
       "10            150.0           1200.0          0.14              79.50   \n",
       "13            280.0           1200.0          0.23             150.00   \n",
       "14             90.0            800.0          0.14              48.00   \n",
       "15            120.0            800.0          0.14              64.00   \n",
       "16            160.0            800.0          0.14              85.00   \n",
       "18            240.0            800.0          0.14             128.00   \n",
       "21            360.0            800.0          0.14             192.00   \n",
       "22            280.0           1200.0          0.14             150.00   \n",
       "\n",
       "    EnergyDensityCalculated    Porosity  \n",
       "0                     0.013   55.555556  \n",
       "1                     0.008   50.000000  \n",
       "2                     0.007   44.444444  \n",
       "3                     0.045   39.087302  \n",
       "4                     0.017   61.111111  \n",
       "5                     0.021   66.666667  \n",
       "7                     0.034   27.777778  \n",
       "8                     0.011   55.555556  \n",
       "9                    18.200   19.841270  \n",
       "10                    1.990   29.761905  \n",
       "13                    0.616   33.816425  \n",
       "14                    7.700   26.785714  \n",
       "15                    0.580   35.714286  \n",
       "16                    0.014   47.619048  \n",
       "18                    0.109   71.428571  \n",
       "21                    0.327  107.142857  \n",
       "22                    0.011   55.555556  "
      ],
      "text/html": "<div>\n<style scoped>\n    .dataframe tbody tr th:only-of-type {\n        vertical-align: middle;\n    }\n\n    .dataframe tbody tr th {\n        vertical-align: top;\n    }\n\n    .dataframe thead th {\n        text-align: right;\n    }\n</style>\n<table border=\"1\" class=\"dataframe\">\n  <thead>\n    <tr style=\"text-align: right;\">\n      <th></th>\n      <th>LaserPowerHatch</th>\n      <th>LaserSpeedHatch</th>\n      <th>HatchSpacing</th>\n      <th>LaserPowerContour</th>\n      <th>EnergyDensityCalculated</th>\n      <th>Porosity</th>\n    </tr>\n  </thead>\n  <tbody>\n    <tr>\n      <th>0</th>\n      <td>280.0</td>\n      <td>1200.0</td>\n      <td>0.14</td>\n      <td>150.00</td>\n      <td>0.013</td>\n      <td>55.555556</td>\n    </tr>\n    <tr>\n      <th>1</th>\n      <td>252.0</td>\n      <td>1200.0</td>\n      <td>0.14</td>\n      <td>135.00</td>\n      <td>0.008</td>\n      <td>50.000000</td>\n    </tr>\n    <tr>\n      <th>2</th>\n      <td>224.0</td>\n      <td>1200.0</td>\n      <td>0.14</td>\n      <td>120.00</td>\n      <td>0.007</td>\n      <td>44.444444</td>\n    </tr>\n    <tr>\n      <th>3</th>\n      <td>197.0</td>\n      <td>1200.0</td>\n      <td>0.14</td>\n      <td>105.00</td>\n      <td>0.045</td>\n      <td>39.087302</td>\n    </tr>\n    <tr>\n      <th>4</th>\n      <td>308.0</td>\n      <td>1200.0</td>\n      <td>0.14</td>\n      <td>165.00</td>\n      <td>0.017</td>\n      <td>61.111111</td>\n    </tr>\n    <tr>\n      <th>5</th>\n      <td>336.0</td>\n      <td>1200.0</td>\n      <td>0.14</td>\n      <td>180.00</td>\n      <td>0.021</td>\n      <td>66.666667</td>\n    </tr>\n    <tr>\n      <th>7</th>\n      <td>280.0</td>\n      <td>1200.0</td>\n      <td>0.14</td>\n      <td>150.00</td>\n      <td>0.034</td>\n      <td>27.777778</td>\n    </tr>\n    <tr>\n      <th>8</th>\n      <td>280.0</td>\n      <td>1200.0</td>\n      <td>0.14</td>\n      <td>150.00</td>\n      <td>0.011</td>\n      <td>55.555556</td>\n    </tr>\n    <tr>\n      <th>9</th>\n      <td>100.0</td>\n      <td>1200.0</td>\n      <td>0.14</td>\n      <td>53.55</td>\n      <td>18.200</td>\n      <td>19.841270</td>\n    </tr>\n    <tr>\n      <th>10</th>\n      <td>150.0</td>\n      <td>1200.0</td>\n      <td>0.14</td>\n      <td>79.50</td>\n      <td>1.990</td>\n      <td>29.761905</td>\n    </tr>\n    <tr>\n      <th>13</th>\n      <td>280.0</td>\n      <td>1200.0</td>\n      <td>0.23</td>\n      <td>150.00</td>\n      <td>0.616</td>\n      <td>33.816425</td>\n    </tr>\n    <tr>\n      <th>14</th>\n      <td>90.0</td>\n      <td>800.0</td>\n      <td>0.14</td>\n      <td>48.00</td>\n      <td>7.700</td>\n      <td>26.785714</td>\n    </tr>\n    <tr>\n      <th>15</th>\n      <td>120.0</td>\n      <td>800.0</td>\n      <td>0.14</td>\n      <td>64.00</td>\n      <td>0.580</td>\n      <td>35.714286</td>\n    </tr>\n    <tr>\n      <th>16</th>\n      <td>160.0</td>\n      <td>800.0</td>\n      <td>0.14</td>\n      <td>85.00</td>\n      <td>0.014</td>\n      <td>47.619048</td>\n    </tr>\n    <tr>\n      <th>18</th>\n      <td>240.0</td>\n      <td>800.0</td>\n      <td>0.14</td>\n      <td>128.00</td>\n      <td>0.109</td>\n      <td>71.428571</td>\n    </tr>\n    <tr>\n      <th>21</th>\n      <td>360.0</td>\n      <td>800.0</td>\n      <td>0.14</td>\n      <td>192.00</td>\n      <td>0.327</td>\n      <td>107.142857</td>\n    </tr>\n    <tr>\n      <th>22</th>\n      <td>280.0</td>\n      <td>1200.0</td>\n      <td>0.14</td>\n      <td>150.00</td>\n      <td>0.011</td>\n      <td>55.555556</td>\n    </tr>\n  </tbody>\n</table>\n</div>"
     },
     "metadata": {},
     "execution_count": 22
    }
   ],
   "source": [
    "test_data"
   ]
  },
  {
   "cell_type": "code",
   "execution_count": null,
   "metadata": {},
   "outputs": [],
   "source": []
  }
 ],
 "metadata": {
  "kernelspec": {
   "name": "python3",
   "display_name": "Python 3.9.5 64-bit ('env': conda)"
  },
  "language_info": {
   "codemirror_mode": {
    "name": "ipython",
    "version": 3
   },
   "file_extension": ".py",
   "mimetype": "text/x-python",
   "name": "python",
   "nbconvert_exporter": "python",
   "pygments_lexer": "ipython3",
   "version": "3.9.5"
  },
  "interpreter": {
   "hash": "b4921a9159d4c4bdbaf69cf1fe56826a8877cf1960855b937c2d5ac89b6f7fc3"
  }
 },
 "nbformat": 4,
 "nbformat_minor": 5
}