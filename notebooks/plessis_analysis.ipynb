{
 "cells": [
  {
   "cell_type": "code",
   "execution_count": 50,
   "id": "04e492e5",
   "metadata": {},
   "outputs": [],
   "source": [
    "import pandas as pd\n",
    "import numpy as np\n",
    "import matplotlib.pyplot as plt\n",
    "import sklearn as sk"
   ]
  },
  {
   "cell_type": "code",
   "execution_count": 51,
   "id": "2ad72aaf",
   "metadata": {
    "scrolled": true
   },
   "outputs": [
    {
     "data": {
      "text/html": [
       "<div>\n",
       "<style scoped>\n",
       "    .dataframe tbody tr th:only-of-type {\n",
       "        vertical-align: middle;\n",
       "    }\n",
       "\n",
       "    .dataframe tbody tr th {\n",
       "        vertical-align: top;\n",
       "    }\n",
       "\n",
       "    .dataframe thead th {\n",
       "        text-align: right;\n",
       "    }\n",
       "</style>\n",
       "<table border=\"1\" class=\"dataframe\">\n",
       "  <thead>\n",
       "    <tr style=\"text-align: right;\">\n",
       "      <th></th>\n",
       "      <th>ID</th>\n",
       "      <th>StudySample</th>\n",
       "      <th>LaserPowerHatch</th>\n",
       "      <th>LaserSpeedHatch</th>\n",
       "      <th>HatchSpacing</th>\n",
       "      <th>LaserPowerContour</th>\n",
       "      <th>Porosity</th>\n",
       "      <th>LayerHeight</th>\n",
       "      <th>EnergyDensityCalculated</th>\n",
       "      <th>Machine</th>\n",
       "      <th>Powder</th>\n",
       "      <th>MicroCTScan</th>\n",
       "      <th>HatchOffsetFromCountour</th>\n",
       "    </tr>\n",
       "  </thead>\n",
       "  <tbody>\n",
       "    <tr>\n",
       "      <th>0</th>\n",
       "      <td>1</td>\n",
       "      <td>Plessis_1-1</td>\n",
       "      <td>280.0</td>\n",
       "      <td>1200.0</td>\n",
       "      <td>0.14</td>\n",
       "      <td>150.0</td>\n",
       "      <td>0.013</td>\n",
       "      <td>0.03</td>\n",
       "      <td>55.555556</td>\n",
       "      <td>EOS M290</td>\n",
       "      <td>EOS-supplied Ti6Al4V ELI</td>\n",
       "      <td>NaN</td>\n",
       "      <td>0.015</td>\n",
       "    </tr>\n",
       "    <tr>\n",
       "      <th>1</th>\n",
       "      <td>2</td>\n",
       "      <td>Plessis_1-2</td>\n",
       "      <td>252.0</td>\n",
       "      <td>1200.0</td>\n",
       "      <td>0.14</td>\n",
       "      <td>135.0</td>\n",
       "      <td>0.008</td>\n",
       "      <td>0.03</td>\n",
       "      <td>50.000000</td>\n",
       "      <td>EOS M290</td>\n",
       "      <td>EOS-supplied Ti6Al4V ELI</td>\n",
       "      <td>NaN</td>\n",
       "      <td>0.015</td>\n",
       "    </tr>\n",
       "    <tr>\n",
       "      <th>2</th>\n",
       "      <td>3</td>\n",
       "      <td>Plessis_1-3</td>\n",
       "      <td>224.0</td>\n",
       "      <td>1200.0</td>\n",
       "      <td>0.14</td>\n",
       "      <td>120.0</td>\n",
       "      <td>0.007</td>\n",
       "      <td>0.03</td>\n",
       "      <td>44.444444</td>\n",
       "      <td>EOS M290</td>\n",
       "      <td>EOS-supplied Ti6Al4V ELI</td>\n",
       "      <td>NaN</td>\n",
       "      <td>0.015</td>\n",
       "    </tr>\n",
       "    <tr>\n",
       "      <th>3</th>\n",
       "      <td>4</td>\n",
       "      <td>Plessis_1-4</td>\n",
       "      <td>197.0</td>\n",
       "      <td>1200.0</td>\n",
       "      <td>0.14</td>\n",
       "      <td>105.0</td>\n",
       "      <td>0.045</td>\n",
       "      <td>0.03</td>\n",
       "      <td>39.087302</td>\n",
       "      <td>EOS M290</td>\n",
       "      <td>EOS-supplied Ti6Al4V ELI</td>\n",
       "      <td>NaN</td>\n",
       "      <td>0.015</td>\n",
       "    </tr>\n",
       "    <tr>\n",
       "      <th>4</th>\n",
       "      <td>5</td>\n",
       "      <td>Plessis_1-5</td>\n",
       "      <td>308.0</td>\n",
       "      <td>1200.0</td>\n",
       "      <td>0.14</td>\n",
       "      <td>165.0</td>\n",
       "      <td>0.017</td>\n",
       "      <td>0.03</td>\n",
       "      <td>61.111111</td>\n",
       "      <td>EOS M290</td>\n",
       "      <td>EOS-supplied Ti6Al4V ELI</td>\n",
       "      <td>NaN</td>\n",
       "      <td>0.015</td>\n",
       "    </tr>\n",
       "  </tbody>\n",
       "</table>\n",
       "</div>"
      ],
      "text/plain": [
       "   ID  StudySample  LaserPowerHatch  LaserSpeedHatch  HatchSpacing  \\\n",
       "0   1  Plessis_1-1            280.0           1200.0          0.14   \n",
       "1   2  Plessis_1-2            252.0           1200.0          0.14   \n",
       "2   3  Plessis_1-3            224.0           1200.0          0.14   \n",
       "3   4  Plessis_1-4            197.0           1200.0          0.14   \n",
       "4   5  Plessis_1-5            308.0           1200.0          0.14   \n",
       "\n",
       "   LaserPowerContour  Porosity  LayerHeight  EnergyDensityCalculated  \\\n",
       "0              150.0     0.013         0.03                55.555556   \n",
       "1              135.0     0.008         0.03                50.000000   \n",
       "2              120.0     0.007         0.03                44.444444   \n",
       "3              105.0     0.045         0.03                39.087302   \n",
       "4              165.0     0.017         0.03                61.111111   \n",
       "\n",
       "    Machine                    Powder MicroCTScan  HatchOffsetFromCountour  \n",
       "0  EOS M290  EOS-supplied Ti6Al4V ELI         NaN                    0.015  \n",
       "1  EOS M290  EOS-supplied Ti6Al4V ELI         NaN                    0.015  \n",
       "2  EOS M290  EOS-supplied Ti6Al4V ELI         NaN                    0.015  \n",
       "3  EOS M290  EOS-supplied Ti6Al4V ELI         NaN                    0.015  \n",
       "4  EOS M290  EOS-supplied Ti6Al4V ELI         NaN                    0.015  "
      ]
     },
     "execution_count": 51,
     "metadata": {},
     "output_type": "execute_result"
    }
   ],
   "source": [
    "params = pd.read_csv(\"../data/am_data.csv\")\n",
    "params.head()"
   ]
  },
  {
   "cell_type": "code",
   "execution_count": 52,
   "id": "0184e2f0",
   "metadata": {},
   "outputs": [],
   "source": [
    "machine_title = params.Machine[0]\n",
    "alloy_title = params.Powder[0]"
   ]
  },
  {
   "cell_type": "code",
   "execution_count": 53,
   "id": "7afa0148",
   "metadata": {},
   "outputs": [
    {
     "name": "stdout",
     "output_type": "stream",
     "text": [
      "dropped columns\n"
     ]
    },
    {
     "data": {
      "text/html": [
       "<div>\n",
       "<style scoped>\n",
       "    .dataframe tbody tr th:only-of-type {\n",
       "        vertical-align: middle;\n",
       "    }\n",
       "\n",
       "    .dataframe tbody tr th {\n",
       "        vertical-align: top;\n",
       "    }\n",
       "\n",
       "    .dataframe thead th {\n",
       "        text-align: right;\n",
       "    }\n",
       "</style>\n",
       "<table border=\"1\" class=\"dataframe\">\n",
       "  <thead>\n",
       "    <tr style=\"text-align: right;\">\n",
       "      <th></th>\n",
       "      <th>LaserPowerHatch</th>\n",
       "      <th>LaserSpeedHatch</th>\n",
       "      <th>HatchSpacing</th>\n",
       "      <th>LaserPowerContour</th>\n",
       "      <th>EnergyDensityCalculated</th>\n",
       "      <th>Porosity</th>\n",
       "    </tr>\n",
       "  </thead>\n",
       "  <tbody>\n",
       "    <tr>\n",
       "      <th>0</th>\n",
       "      <td>280.0</td>\n",
       "      <td>1200.0</td>\n",
       "      <td>0.14</td>\n",
       "      <td>150.0</td>\n",
       "      <td>0.013</td>\n",
       "      <td>55.555556</td>\n",
       "    </tr>\n",
       "    <tr>\n",
       "      <th>1</th>\n",
       "      <td>252.0</td>\n",
       "      <td>1200.0</td>\n",
       "      <td>0.14</td>\n",
       "      <td>135.0</td>\n",
       "      <td>0.008</td>\n",
       "      <td>50.000000</td>\n",
       "    </tr>\n",
       "    <tr>\n",
       "      <th>2</th>\n",
       "      <td>224.0</td>\n",
       "      <td>1200.0</td>\n",
       "      <td>0.14</td>\n",
       "      <td>120.0</td>\n",
       "      <td>0.007</td>\n",
       "      <td>44.444444</td>\n",
       "    </tr>\n",
       "    <tr>\n",
       "      <th>3</th>\n",
       "      <td>197.0</td>\n",
       "      <td>1200.0</td>\n",
       "      <td>0.14</td>\n",
       "      <td>105.0</td>\n",
       "      <td>0.045</td>\n",
       "      <td>39.087302</td>\n",
       "    </tr>\n",
       "    <tr>\n",
       "      <th>4</th>\n",
       "      <td>308.0</td>\n",
       "      <td>1200.0</td>\n",
       "      <td>0.14</td>\n",
       "      <td>165.0</td>\n",
       "      <td>0.017</td>\n",
       "      <td>61.111111</td>\n",
       "    </tr>\n",
       "  </tbody>\n",
       "</table>\n",
       "</div>"
      ],
      "text/plain": [
       "   LaserPowerHatch  LaserSpeedHatch  HatchSpacing  LaserPowerContour  \\\n",
       "0            280.0           1200.0          0.14              150.0   \n",
       "1            252.0           1200.0          0.14              135.0   \n",
       "2            224.0           1200.0          0.14              120.0   \n",
       "3            197.0           1200.0          0.14              105.0   \n",
       "4            308.0           1200.0          0.14              165.0   \n",
       "\n",
       "   EnergyDensityCalculated   Porosity  \n",
       "0                    0.013  55.555556  \n",
       "1                    0.008  50.000000  \n",
       "2                    0.007  44.444444  \n",
       "3                    0.045  39.087302  \n",
       "4                    0.017  61.111111  "
      ]
     },
     "execution_count": 53,
     "metadata": {},
     "output_type": "execute_result"
    }
   ],
   "source": [
    "try:\n",
    "    params = params.drop([\"ID\",\"StudySample\",\"HatchOffsetFromCountour\", \"MicroCTScan\", \"LayerHeight\", \"Machine\", \"Powder\"], axis=1)\n",
    "    print(\"dropped columns\")\n",
    "except:\n",
    "    print(\"already dropped columns\")\n",
    "params.columns = [\"LaserPowerHatch\",\"LaserSpeedHatch\",\"HatchSpacing\",\"LaserPowerContour\",\"EnergyDensityCalculated\",\"Porosity\"]\n",
    "params.head()"
   ]
  },
  {
   "cell_type": "code",
   "execution_count": 54,
   "id": "982f2395",
   "metadata": {
    "scrolled": true
   },
   "outputs": [
    {
     "data": {
      "image/png": "[encoded data removed]",
      "text/plain": [
       "<Figure size 432x288 with 1 Axes>"
      ]
     },
     "metadata": {
      "needs_background": "light"
     },
     "output_type": "display_data"
    }
   ],
   "source": [
    "plt.scatter(params.EnergyDensityCalculated, params.Porosity)\n",
    "plt.show()"
   ]
  },
  {
   "cell_type": "markdown",
   "id": "40d3a54c",
   "metadata": {},
   "source": [
    "With this little data, probably not even worth trying to apply in ML to derive insight. Analytical methods would be far more effective. The Plessis paper finds the correlations between certain parameters and the production of keyhole pores/other pores, but still does not provide any standard to apply parameters to acheive a desired tensile strength or porosity.\n",
    "Further steps might drop rows with outlier energy density calculations and split the data into training and testing, and trying to work through some models, however at this point need to gather much more data first and allocate my time towards data aggregation."
   ]
  },
  {
   "cell_type": "code",
   "execution_count": null,
   "id": "83fbf4cd",
   "metadata": {},
   "outputs": [],
   "source": []
  }
 ],
 "metadata": {
  "kernelspec": {
   "display_name": "Python 3",
   "language": "python",
   "name": "python3"
  },
  "language_info": {
   "codemirror_mode": {
    "name": "ipython",
    "version": 3
   },
   "file_extension": ".py",
   "mimetype": "text/x-python",
   "name": "python",
   "nbconvert_exporter": "python",
   "pygments_lexer": "ipython3",
   "version": "3.9.5"
  }
 },
 "nbformat": 4,
 "nbformat_minor": 5
}
