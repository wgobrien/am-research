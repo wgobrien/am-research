{
 "cells": [
  {
   "cell_type": "code",
   "execution_count": 88,
   "id": "04e492e5",
   "metadata": {},
   "outputs": [],
   "source": [
    "import pandas as pd\n",
    "import numpy as np\n",
    "from sklearn import model_selection\n",
    "from sklearn.linear_model import LinearRegression"
   ]
  },
  {
   "cell_type": "code",
   "execution_count": 89,
   "id": "2ad72aaf",
   "metadata": {
    "scrolled": true
   },
   "outputs": [
    {
     "output_type": "execute_result",
     "data": {
      "text/plain": [
       "   ID  StudySample  LaserPowerHatch  LaserSpeedHatch  HatchSpacing  \\\n",
       "0   1  Plessis_1-1            280.0           1200.0          0.14   \n",
       "1   2  Plessis_1-2            252.0           1200.0          0.14   \n",
       "2   3  Plessis_1-3            224.0           1200.0          0.14   \n",
       "3   4  Plessis_1-4            197.0           1200.0          0.14   \n",
       "4   5  Plessis_1-5            308.0           1200.0          0.14   \n",
       "\n",
       "   LaserPowerContour  Porosity  LayerHeight  EnergyDensityCalculated  \\\n",
       "0              150.0     0.013         0.03                55.555556   \n",
       "1              135.0     0.008         0.03                50.000000   \n",
       "2              120.0     0.007         0.03                44.444444   \n",
       "3              105.0     0.045         0.03                39.087302   \n",
       "4              165.0     0.017         0.03                61.111111   \n",
       "\n",
       "    Machine                    Powder MicroCTScan  HatchOffsetFromCountour  \n",
       "0  EOS M290  EOS-supplied Ti6Al4V ELI         NaN                    0.015  \n",
       "1  EOS M290  EOS-supplied Ti6Al4V ELI         NaN                    0.015  \n",
       "2  EOS M290  EOS-supplied Ti6Al4V ELI         NaN                    0.015  \n",
       "3  EOS M290  EOS-supplied Ti6Al4V ELI         NaN                    0.015  \n",
       "4  EOS M290  EOS-supplied Ti6Al4V ELI         NaN                    0.015  "
      ],
      "text/html": "<div>\n<style scoped>\n    .dataframe tbody tr th:only-of-type {\n        vertical-align: middle;\n    }\n\n    .dataframe tbody tr th {\n        vertical-align: top;\n    }\n\n    .dataframe thead th {\n        text-align: right;\n    }\n</style>\n<table border=\"1\" class=\"dataframe\">\n  <thead>\n    <tr style=\"text-align: right;\">\n      <th></th>\n      <th>ID</th>\n      <th>StudySample</th>\n      <th>LaserPowerHatch</th>\n      <th>LaserSpeedHatch</th>\n      <th>HatchSpacing</th>\n      <th>LaserPowerContour</th>\n      <th>Porosity</th>\n      <th>LayerHeight</th>\n      <th>EnergyDensityCalculated</th>\n      <th>Machine</th>\n      <th>Powder</th>\n      <th>MicroCTScan</th>\n      <th>HatchOffsetFromCountour</th>\n    </tr>\n  </thead>\n  <tbody>\n    <tr>\n      <th>0</th>\n      <td>1</td>\n      <td>Plessis_1-1</td>\n      <td>280.0</td>\n      <td>1200.0</td>\n      <td>0.14</td>\n      <td>150.0</td>\n      <td>0.013</td>\n      <td>0.03</td>\n      <td>55.555556</td>\n      <td>EOS M290</td>\n      <td>EOS-supplied Ti6Al4V ELI</td>\n      <td>NaN</td>\n      <td>0.015</td>\n    </tr>\n    <tr>\n      <th>1</th>\n      <td>2</td>\n      <td>Plessis_1-2</td>\n      <td>252.0</td>\n      <td>1200.0</td>\n      <td>0.14</td>\n      <td>135.0</td>\n      <td>0.008</td>\n      <td>0.03</td>\n      <td>50.000000</td>\n      <td>EOS M290</td>\n      <td>EOS-supplied Ti6Al4V ELI</td>\n      <td>NaN</td>\n      <td>0.015</td>\n    </tr>\n    <tr>\n      <th>2</th>\n      <td>3</td>\n      <td>Plessis_1-3</td>\n      <td>224.0</td>\n      <td>1200.0</td>\n      <td>0.14</td>\n      <td>120.0</td>\n      <td>0.007</td>\n      <td>0.03</td>\n      <td>44.444444</td>\n      <td>EOS M290</td>\n      <td>EOS-supplied Ti6Al4V ELI</td>\n      <td>NaN</td>\n      <td>0.015</td>\n    </tr>\n    <tr>\n      <th>3</th>\n      <td>4</td>\n      <td>Plessis_1-4</td>\n      <td>197.0</td>\n      <td>1200.0</td>\n      <td>0.14</td>\n      <td>105.0</td>\n      <td>0.045</td>\n      <td>0.03</td>\n      <td>39.087302</td>\n      <td>EOS M290</td>\n      <td>EOS-supplied Ti6Al4V ELI</td>\n      <td>NaN</td>\n      <td>0.015</td>\n    </tr>\n    <tr>\n      <th>4</th>\n      <td>5</td>\n      <td>Plessis_1-5</td>\n      <td>308.0</td>\n      <td>1200.0</td>\n      <td>0.14</td>\n      <td>165.0</td>\n      <td>0.017</td>\n      <td>0.03</td>\n      <td>61.111111</td>\n      <td>EOS M290</td>\n      <td>EOS-supplied Ti6Al4V ELI</td>\n      <td>NaN</td>\n      <td>0.015</td>\n    </tr>\n  </tbody>\n</table>\n</div>"
     },
     "metadata": {},
     "execution_count": 89
    }
   ],
   "source": [
    "params = pd.read_csv(\"../data/interim/interim_data.csv\")\n",
    "params.head()"
   ]
  },
  {
   "cell_type": "code",
   "execution_count": 90,
   "id": "0184e2f0",
   "metadata": {},
   "outputs": [],
   "source": [
    "machine_title = params.Machine[0]\n",
    "alloy_title = params.Powder[0]"
   ]
  },
  {
   "cell_type": "code",
   "execution_count": 91,
   "id": "7afa0148",
   "metadata": {},
   "outputs": [
    {
     "output_type": "stream",
     "name": "stdout",
     "text": [
      "dropped columns\n"
     ]
    },
    {
     "output_type": "execute_result",
     "data": {
      "text/plain": [
       "   LaserPowerHatch  LaserSpeedHatch  HatchSpacing  LaserPowerContour  \\\n",
       "0            280.0           1200.0          0.14              150.0   \n",
       "1            252.0           1200.0          0.14              135.0   \n",
       "2            224.0           1200.0          0.14              120.0   \n",
       "3            197.0           1200.0          0.14              105.0   \n",
       "4            308.0           1200.0          0.14              165.0   \n",
       "\n",
       "   EnergyDensityCalculated   Porosity  \n",
       "0                    0.013  55.555556  \n",
       "1                    0.008  50.000000  \n",
       "2                    0.007  44.444444  \n",
       "3                    0.045  39.087302  \n",
       "4                    0.017  61.111111  "
      ],
      "text/html": "<div>\n<style scoped>\n    .dataframe tbody tr th:only-of-type {\n        vertical-align: middle;\n    }\n\n    .dataframe tbody tr th {\n        vertical-align: top;\n    }\n\n    .dataframe thead th {\n        text-align: right;\n    }\n</style>\n<table border=\"1\" class=\"dataframe\">\n  <thead>\n    <tr style=\"text-align: right;\">\n      <th></th>\n      <th>LaserPowerHatch</th>\n      <th>LaserSpeedHatch</th>\n      <th>HatchSpacing</th>\n      <th>LaserPowerContour</th>\n      <th>EnergyDensityCalculated</th>\n      <th>Porosity</th>\n    </tr>\n  </thead>\n  <tbody>\n    <tr>\n      <th>0</th>\n      <td>280.0</td>\n      <td>1200.0</td>\n      <td>0.14</td>\n      <td>150.0</td>\n      <td>0.013</td>\n      <td>55.555556</td>\n    </tr>\n    <tr>\n      <th>1</th>\n      <td>252.0</td>\n      <td>1200.0</td>\n      <td>0.14</td>\n      <td>135.0</td>\n      <td>0.008</td>\n      <td>50.000000</td>\n    </tr>\n    <tr>\n      <th>2</th>\n      <td>224.0</td>\n      <td>1200.0</td>\n      <td>0.14</td>\n      <td>120.0</td>\n      <td>0.007</td>\n      <td>44.444444</td>\n    </tr>\n    <tr>\n      <th>3</th>\n      <td>197.0</td>\n      <td>1200.0</td>\n      <td>0.14</td>\n      <td>105.0</td>\n      <td>0.045</td>\n      <td>39.087302</td>\n    </tr>\n    <tr>\n      <th>4</th>\n      <td>308.0</td>\n      <td>1200.0</td>\n      <td>0.14</td>\n      <td>165.0</td>\n      <td>0.017</td>\n      <td>61.111111</td>\n    </tr>\n  </tbody>\n</table>\n</div>"
     },
     "metadata": {},
     "execution_count": 91
    }
   ],
   "source": [
    "try:\n",
    "    params = params.drop([\"ID\",\"StudySample\",\"HatchOffsetFromCountour\", \"MicroCTScan\", \"LayerHeight\", \"Machine\", \"Powder\"], axis=1)\n",
    "    print(\"dropped columns\")\n",
    "except:\n",
    "    print(\"already dropped columns\")\n",
    "params.columns = [\"LaserPowerHatch\",\"LaserSpeedHatch\",\"HatchSpacing\",\"LaserPowerContour\",\"EnergyDensityCalculated\",\"Porosity\"]\n",
    "params.head()"
   ]
  },
  {
   "cell_type": "code",
   "execution_count": 104,
   "id": "982f2395",
   "metadata": {
    "scrolled": true
   },
   "outputs": [
    {
     "output_type": "execute_result",
     "data": {
      "text/plain": [
       "   index  LaserPowerHatch  LaserSpeedHatch  HatchSpacing  LaserPowerContour  \\\n",
       "0      6            364.0           1200.0          0.14              195.0   \n",
       "1     19            280.0            800.0          0.14              150.0   \n",
       "2     11            280.0           1200.0          0.17              150.0   \n",
       "3     20            320.0            800.0          0.14              171.0   \n",
       "4     17            200.0            800.0          0.14              107.0   \n",
       "\n",
       "   EnergyDensityCalculated   Porosity  \n",
       "0                    0.037  72.222222  \n",
       "1                    0.179  83.333333  \n",
       "2                    0.026  45.751634  \n",
       "3                    0.199  95.238095  \n",
       "4                    0.036  59.523810  "
      ],
      "text/html": "<div>\n<style scoped>\n    .dataframe tbody tr th:only-of-type {\n        vertical-align: middle;\n    }\n\n    .dataframe tbody tr th {\n        vertical-align: top;\n    }\n\n    .dataframe thead th {\n        text-align: right;\n    }\n</style>\n<table border=\"1\" class=\"dataframe\">\n  <thead>\n    <tr style=\"text-align: right;\">\n      <th></th>\n      <th>index</th>\n      <th>LaserPowerHatch</th>\n      <th>LaserSpeedHatch</th>\n      <th>HatchSpacing</th>\n      <th>LaserPowerContour</th>\n      <th>EnergyDensityCalculated</th>\n      <th>Porosity</th>\n    </tr>\n  </thead>\n  <tbody>\n    <tr>\n      <th>0</th>\n      <td>6</td>\n      <td>364.0</td>\n      <td>1200.0</td>\n      <td>0.14</td>\n      <td>195.0</td>\n      <td>0.037</td>\n      <td>72.222222</td>\n    </tr>\n    <tr>\n      <th>1</th>\n      <td>19</td>\n      <td>280.0</td>\n      <td>800.0</td>\n      <td>0.14</td>\n      <td>150.0</td>\n      <td>0.179</td>\n      <td>83.333333</td>\n    </tr>\n    <tr>\n      <th>2</th>\n      <td>11</td>\n      <td>280.0</td>\n      <td>1200.0</td>\n      <td>0.17</td>\n      <td>150.0</td>\n      <td>0.026</td>\n      <td>45.751634</td>\n    </tr>\n    <tr>\n      <th>3</th>\n      <td>20</td>\n      <td>320.0</td>\n      <td>800.0</td>\n      <td>0.14</td>\n      <td>171.0</td>\n      <td>0.199</td>\n      <td>95.238095</td>\n    </tr>\n    <tr>\n      <th>4</th>\n      <td>17</td>\n      <td>200.0</td>\n      <td>800.0</td>\n      <td>0.14</td>\n      <td>107.0</td>\n      <td>0.036</td>\n      <td>59.523810</td>\n    </tr>\n  </tbody>\n</table>\n</div>"
     },
     "metadata": {},
     "execution_count": 104
    }
   ],
   "source": [
    "split_pct = .25\n",
    "seed = 100\n",
    "\n",
    "train_data = params.sample(frac=1-split_pct, random_state=seed).reset_index()\n",
    "test_data = params.drop(train_data.index).sample(frac=1, random_state=seed).reset_index()\n",
    "train_data.head()"
   ]
  },
  {
   "cell_type": "code",
   "execution_count": 100,
   "metadata": {},
   "outputs": [
    {
     "output_type": "stream",
     "name": "stdout",
     "text": [
      "0.9747616264918479\n0.9747616264918479\n"
     ]
    }
   ],
   "source": [
    "train_vals = train_data.values\n",
    "test_vals = test_data.values\n",
    "X = train_vals[:,1:-2]\n",
    "y = train_vals[:,:-2:-1]\n",
    "Xtest = test_vals[:,1:-2]\n",
    "ytest = test_vals[:,:-2:-1]\n",
    "\n",
    "model1 = LinearRegression()\n",
    "model1.fit(X, y)\n",
    "\n",
    "model2 = LinearRegression()\n",
    "model2.fit(X, y.T[0])\n",
    "\n",
    "print(model1.score(Xtest, ytest))\n",
    "print(model2.score(Xtest, ytest))"
   ]
  },
  {
   "cell_type": "code",
   "execution_count": 103,
   "metadata": {},
   "outputs": [
    {
     "output_type": "execute_result",
     "data": {
      "text/plain": [
       "array([[3.70e-02],\n",
       "       [1.79e-01],\n",
       "       [2.60e-02],\n",
       "       [1.99e-01],\n",
       "       [3.60e-02],\n",
       "       [1.74e-01],\n",
       "       [1.82e+01],\n",
       "       [3.27e-01],\n",
       "       [1.70e-02],\n",
       "       [1.10e-02],\n",
       "       [1.30e-02],\n",
       "       [8.00e-03],\n",
       "       [6.16e-01],\n",
       "       [7.70e+00],\n",
       "       [1.09e-01],\n",
       "       [2.10e-02],\n",
       "       [7.00e-03]])"
      ]
     },
     "metadata": {},
     "execution_count": 103
    }
   ],
   "source": [
    "X = train_vals[:,-2:-1]\n",
    "X"
   ]
  },
  {
   "cell_type": "code",
   "execution_count": null,
   "metadata": {},
   "outputs": [],
   "source": []
  }
 ],
 "metadata": {
  "kernelspec": {
   "name": "python3",
   "display_name": "Python 3.9.5 64-bit ('env': conda)"
  },
  "language_info": {
   "codemirror_mode": {
    "name": "ipython",
    "version": 3
   },
   "file_extension": ".py",
   "mimetype": "text/x-python",
   "name": "python",
   "nbconvert_exporter": "python",
   "pygments_lexer": "ipython3",
   "version": "3.9.5"
  },
  "interpreter": {
   "hash": "b4921a9159d4c4bdbaf69cf1fe56826a8877cf1960855b937c2d5ac89b6f7fc3"
  }
 },
 "nbformat": 4,
 "nbformat_minor": 5
}