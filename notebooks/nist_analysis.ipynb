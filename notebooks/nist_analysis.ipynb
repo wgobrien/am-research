{
 "cells": [
  {
   "cell_type": "code",
   "execution_count": 1,
   "metadata": {},
   "outputs": [],
   "source": [
    "import pandas as pd"
   ]
  },
  {
   "cell_type": "code",
   "execution_count": 2,
   "metadata": {},
   "outputs": [],
   "source": [
    "tensile = pd.read_csv('../data/interim/tensile.csv')\n",
    "parameters = pd.read_csv('../data/interim/parameters.csv')\n",
    "orientation = pd.read_csv('../data/interim/orientation.csv')"
   ]
  },
  {
   "cell_type": "code",
   "execution_count": 38,
   "metadata": {},
   "outputs": [
    {
     "output_type": "execute_result",
     "data": {
      "text/plain": [
       "   ID       Project ID               Build ID Part Number Part Name  \\\n",
       "0   1  EWI-IN625-RR-12  EWI_JIP_625_NISTbuild      Part_1     T-Z-X   \n",
       "1   2  EWI-IN625-RR-12  EWI_JIP_625_NISTbuild      Part_2      MET3   \n",
       "2   3  EWI-IN625-RR-12  EWI_JIP_625_NISTbuild      Part_3     F-Z-Y   \n",
       "3   4  EWI-IN625-RR-12  EWI_JIP_625_NISTbuild      Part_4    T-XY-Y   \n",
       "4   5  EWI-IN625-RR-12  EWI_JIP_625_NISTbuild      Part_5      MET4   \n",
       "\n",
       "   Build Location X  Build Location Y  Build Location Z  \n",
       "0        198.380005         28.370001         35.560001  \n",
       "1         94.129997         47.619999         26.040001  \n",
       "2         50.500000         52.950001         45.090000  \n",
       "3        137.600006         60.380001         34.279999  \n",
       "4        205.080002         77.029999         26.040001  "
      ],
      "text/html": "<div>\n<style scoped>\n    .dataframe tbody tr th:only-of-type {\n        vertical-align: middle;\n    }\n\n    .dataframe tbody tr th {\n        vertical-align: top;\n    }\n\n    .dataframe thead th {\n        text-align: right;\n    }\n</style>\n<table border=\"1\" class=\"dataframe\">\n  <thead>\n    <tr style=\"text-align: right;\">\n      <th></th>\n      <th>ID</th>\n      <th>Project ID</th>\n      <th>Build ID</th>\n      <th>Part Number</th>\n      <th>Part Name</th>\n      <th>Build Location X</th>\n      <th>Build Location Y</th>\n      <th>Build Location Z</th>\n    </tr>\n  </thead>\n  <tbody>\n    <tr>\n      <th>0</th>\n      <td>1</td>\n      <td>EWI-IN625-RR-12</td>\n      <td>EWI_JIP_625_NISTbuild</td>\n      <td>Part_1</td>\n      <td>T-Z-X</td>\n      <td>198.380005</td>\n      <td>28.370001</td>\n      <td>35.560001</td>\n    </tr>\n    <tr>\n      <th>1</th>\n      <td>2</td>\n      <td>EWI-IN625-RR-12</td>\n      <td>EWI_JIP_625_NISTbuild</td>\n      <td>Part_2</td>\n      <td>MET3</td>\n      <td>94.129997</td>\n      <td>47.619999</td>\n      <td>26.040001</td>\n    </tr>\n    <tr>\n      <th>2</th>\n      <td>3</td>\n      <td>EWI-IN625-RR-12</td>\n      <td>EWI_JIP_625_NISTbuild</td>\n      <td>Part_3</td>\n      <td>F-Z-Y</td>\n      <td>50.500000</td>\n      <td>52.950001</td>\n      <td>45.090000</td>\n    </tr>\n    <tr>\n      <th>3</th>\n      <td>4</td>\n      <td>EWI-IN625-RR-12</td>\n      <td>EWI_JIP_625_NISTbuild</td>\n      <td>Part_4</td>\n      <td>T-XY-Y</td>\n      <td>137.600006</td>\n      <td>60.380001</td>\n      <td>34.279999</td>\n    </tr>\n    <tr>\n      <th>4</th>\n      <td>5</td>\n      <td>EWI-IN625-RR-12</td>\n      <td>EWI_JIP_625_NISTbuild</td>\n      <td>Part_5</td>\n      <td>MET4</td>\n      <td>205.080002</td>\n      <td>77.029999</td>\n      <td>26.040001</td>\n    </tr>\n  </tbody>\n</table>\n</div>"
     },
     "metadata": {},
     "execution_count": 38
    }
   ],
   "source": [
    "orientation.head()"
   ]
  },
  {
   "cell_type": "code",
   "execution_count": 39,
   "metadata": {},
   "outputs": [
    {
     "output_type": "execute_result",
     "data": {
      "text/plain": [
       "    ID       Project ID                Build ID  \\\n",
       "0    1  EWI-IN625-RR-12   EWI_JIP_625_NISTbuild   \n",
       "1    2  EWI-IN625-RR-12   EWI_JIP_625_NISTbuild   \n",
       "2    3  EWI-IN625-RR-12   EWI_JIP_625_NISTbuild   \n",
       "3    4  EWI-IN625-RR-12   EWI_JIP_625_NISTbuild   \n",
       "4    5  EWI-IN625-RR-12   EWI_JIP_625_NISTbuild   \n",
       "5    6  EWI-IN625-RR-12   EWI_JIP_625_NISTbuild   \n",
       "6    7  EWI-IN625-RR-12   EWI_JIP_625_NISTbuild   \n",
       "7    8  EWI-IN625-RR-12   EWI_JIP_625_NISTbuild   \n",
       "8    9  EWI-IN625-RR-12   EWI_JIP_625_NISTbuild   \n",
       "9   10  EWI-IN625-RR-12   EWI_JIP_625_NISTbuild   \n",
       "10  11  EWI-IN625-RR-12  EWI_JIP_625_DMC_Build2   \n",
       "11  12  EWI-IN625-RR-12  EWI_JIP_625_DMC_Build2   \n",
       "12  13  EWI-IN625-RR-12  EWI_JIP_625_DMC_Build2   \n",
       "13  14  EWI-IN625-RR-12  EWI_JIP_625_DMC_Build2   \n",
       "14  15  EWI-IN625-RR-12  EWI_JIP_625_DMC_Build2   \n",
       "15  16  EWI-IN625-RR-12  EWI_JIP_625_DMC_Build2   \n",
       "16  17  EWI-IN625-RR-12  EWI_JIP_625_DMC_Build2   \n",
       "17  18  EWI-IN625-RR-12  EWI_JIP_625_DMC_Build2   \n",
       "18  19  EWI-IN625-RR-12  EWI_JIP_625_DMC_Build2   \n",
       "19  20  EWI-IN625-RR-12  EWI_JIP_625_DMC_Build2   \n",
       "20  22  EWI-IN625-RR-12  EWI_JIP_625_DMC_Build3   \n",
       "21  23  EWI-IN625-RR-12  EWI_JIP_625_DMC_Build3   \n",
       "22  24  EWI-IN625-RR-12  EWI_JIP_625_DMC_Build3   \n",
       "23  25  EWI-IN625-RR-12  EWI_JIP_625_DMC_Build3   \n",
       "24  27  EWI-IN625-RR-12  EWI_JIP_625_DMC_Build3   \n",
       "\n",
       "                      Test Filename          Test Name  Tester  Test Location  \\\n",
       "0    EWI_IN625_RR_Tensiltest1_1.xml  EWI_IN625_RR_T_01     NaN            NaN   \n",
       "1   EWI_IN625_RR_Tensiltest1_10.xml  EWI_IN625_RR_T_20     NaN            NaN   \n",
       "2    EWI_IN625_RR_Tensiltest1_2.xml  EWI_IN625_RR_T_03     NaN            NaN   \n",
       "3    EWI_IN625_RR_Tensiltest1_3.xml  EWI_IN625_RR_T_04     NaN            NaN   \n",
       "4    EWI_IN625_RR_Tensiltest1_4.xml  EWI_IN625_RR_T_07     NaN            NaN   \n",
       "5    EWI_IN625_RR_Tensiltest1_5.xml  EWI_IN625_RR_T_10     NaN            NaN   \n",
       "6    EWI_IN625_RR_Tensiltest1_6.xml  EWI_IN625_RR_T_11     NaN            NaN   \n",
       "7    EWI_IN625_RR_Tensiltest1_7.xml  EWI_IN625_RR_T_13     NaN            NaN   \n",
       "8    EWI_IN625_RR_Tensiltest1_8.xml  EWI_IN625_RR_T_14     NaN            NaN   \n",
       "9    EWI_IN625_RR_Tensiltest1_9.xml  EWI_IN625_RR_T_17     NaN            NaN   \n",
       "10   EWI_IN625_RR_Tensiltest2_1.xml  EWI_IN625_RR_T_21     NaN            NaN   \n",
       "11  EWI_IN625_RR_Tensiltest2_10.xml  EWI_IN625_RR_T_40     NaN            NaN   \n",
       "12   EWI_IN625_RR_Tensiltest2_2.xml  EWI_IN625_RR_T_23     NaN            NaN   \n",
       "13   EWI_IN625_RR_Tensiltest2_3.xml  EWI_IN625_RR_T_24     NaN            NaN   \n",
       "14   EWI_IN625_RR_Tensiltest2_4.xml  EWI_IN625_RR_T_27     NaN            NaN   \n",
       "15   EWI_IN625_RR_Tensiltest2_5.xml  EWI_IN625_RR_T_30     NaN            NaN   \n",
       "16   EWI_IN625_RR_Tensiltest2_6.xml  EWI_IN625_RR_T_31     NaN            NaN   \n",
       "17   EWI_IN625_RR_Tensiltest2_7.xml  EWI_IN625_RR_T_33     NaN            NaN   \n",
       "18   EWI_IN625_RR_Tensiltest2_8.xml  EWI_IN625_RR_T_34     NaN            NaN   \n",
       "19   EWI_IN625_RR_Tensiltest2_9.xml  EWI_IN625_RR_T_37     NaN            NaN   \n",
       "20   EWI_IN625_RR_Tensiltest3_1.xml  EWI_IN625_RR_T_41     NaN            NaN   \n",
       "21  EWI_IN625_RR_Tensiltest3_10.xml  EWI_IN625_RR_T_60     NaN            NaN   \n",
       "22   EWI_IN625_RR_Tensiltest3_2.xml  EWI_IN625_RR_T_43     NaN            NaN   \n",
       "23   EWI_IN625_RR_Tensiltest3_3.xml  EWI_IN625_RR_T_44     NaN            NaN   \n",
       "24   EWI_IN625_RR_Tensiltest3_4.xml  EWI_IN625_RR_T_47     NaN            NaN   \n",
       "\n",
       "   Test Time Specimen ID Test Standards  Test Preparation  \\\n",
       "0        NaN    T-XY-X_1            NaN               NaN   \n",
       "1        NaN     T-Z-X-5            NaN               NaN   \n",
       "2        NaN    T-XY-X_1            NaN               NaN   \n",
       "3        NaN    T-XY-X_4            NaN               NaN   \n",
       "4        NaN    T-XY-Y_2            NaN               NaN   \n",
       "5        NaN    T-XY-Y_1            NaN               NaN   \n",
       "6        NaN     T-Z-X_1            NaN               NaN   \n",
       "7        NaN     T-Z-X_3            NaN               NaN   \n",
       "8        NaN     T-Z-X_3            NaN               NaN   \n",
       "9        NaN     T-Z-Y_2            NaN               NaN   \n",
       "10       NaN    T-XY-X_1            NaN               NaN   \n",
       "11       NaN     T-Z-Y-5            NaN               NaN   \n",
       "12       NaN    T-XY-X_3            NaN               NaN   \n",
       "13       NaN    T-XY-X_4            NaN               NaN   \n",
       "14       NaN    T-XY-Y_2            NaN               NaN   \n",
       "15       NaN    T-XY-Y_5            NaN               NaN   \n",
       "16       NaN     T-Z-X_1            NaN               NaN   \n",
       "17       NaN     T-Z-X_3            NaN               NaN   \n",
       "18       NaN     T-Z-X_4            NaN               NaN   \n",
       "19       NaN     T-Z-Y_2            NaN               NaN   \n",
       "20       NaN    T-XY-X_1            NaN               NaN   \n",
       "21       NaN     T-Z-Y-5            NaN               NaN   \n",
       "22       NaN    T-XY-X_3            NaN               NaN   \n",
       "23       NaN    T-XY-X_4            NaN               NaN   \n",
       "24       NaN    T-XY-Y_2            NaN               NaN   \n",
       "\n",
       "    Ultimate Tensile Strength (MPa)  Yield Strength (MPa)  \\\n",
       "0                            979.11                563.04   \n",
       "1                            892.86                531.30   \n",
       "2                            962.55                559.59   \n",
       "3                            962.55                561.66   \n",
       "4                            978.42                565.90   \n",
       "5                            967.38                561.66   \n",
       "6                            886.65                530.61   \n",
       "7                            888.03                531.30   \n",
       "8                            881.82                529.92   \n",
       "9                            890.10                529.92   \n",
       "10                           981.87                572.70   \n",
       "11                           888.03                543.72   \n",
       "12                           966.00                549.24   \n",
       "13                           968.76                569.94   \n",
       "14                           986.70                583.74   \n",
       "15                           982.56                575.46   \n",
       "16                           886.65                549.24   \n",
       "17                           892.17                545.79   \n",
       "18                           888.72                547.17   \n",
       "19                          1079.85                540.96   \n",
       "20                           969.45                555.45   \n",
       "21                           883.89                526.47   \n",
       "22                           962.55                552.69   \n",
       "23                           970.83                556.83   \n",
       "24                           988.08                563.73   \n",
       "\n",
       "    Young's Modulus (GPa)  Reduction of Area (%)  \n",
       "0                  198.03                   29.0  \n",
       "1                  161.46                   53.0  \n",
       "2                  184.23                   28.0  \n",
       "3                  171.12                   25.0  \n",
       "4                  198.03                   28.0  \n",
       "5                  188.37                   30.0  \n",
       "6                  154.56                   51.0  \n",
       "7                  147.66                   50.0  \n",
       "8                  170.43                   51.0  \n",
       "9                  166.98                   50.0  \n",
       "10                 198.03                   29.0  \n",
       "11                 177.33                   43.0  \n",
       "12                 180.09                   25.0  \n",
       "13                 191.82                   25.0  \n",
       "14                 184.92                   27.0  \n",
       "15                 192.51                   28.0  \n",
       "16                 168.36                   46.0  \n",
       "17                 173.88                   48.0  \n",
       "18                 188.37                   44.0  \n",
       "19                 175.26                   47.0  \n",
       "20                 193.89                   31.0  \n",
       "21                 168.36                   51.0  \n",
       "22                 195.96                   29.0  \n",
       "23                 198.03                   25.0  \n",
       "24                 191.82                   30.0  "
      ],
      "text/html": "<div>\n<style scoped>\n    .dataframe tbody tr th:only-of-type {\n        vertical-align: middle;\n    }\n\n    .dataframe tbody tr th {\n        vertical-align: top;\n    }\n\n    .dataframe thead th {\n        text-align: right;\n    }\n</style>\n<table border=\"1\" class=\"dataframe\">\n  <thead>\n    <tr style=\"text-align: right;\">\n      <th></th>\n      <th>ID</th>\n      <th>Project ID</th>\n      <th>Build ID</th>\n      <th>Test Filename</th>\n      <th>Test Name</th>\n      <th>Tester</th>\n      <th>Test Location</th>\n      <th>Test Time</th>\n      <th>Specimen ID</th>\n      <th>Test Standards</th>\n      <th>Test Preparation</th>\n      <th>Ultimate Tensile Strength (MPa)</th>\n      <th>Yield Strength (MPa)</th>\n      <th>Young's Modulus (GPa)</th>\n      <th>Reduction of Area (%)</th>\n    </tr>\n  </thead>\n  <tbody>\n    <tr>\n      <th>0</th>\n      <td>1</td>\n      <td>EWI-IN625-RR-12</td>\n      <td>EWI_JIP_625_NISTbuild</td>\n      <td>EWI_IN625_RR_Tensiltest1_1.xml</td>\n      <td>EWI_IN625_RR_T_01</td>\n      <td>NaN</td>\n      <td>NaN</td>\n      <td>NaN</td>\n      <td>T-XY-X_1</td>\n      <td>NaN</td>\n      <td>NaN</td>\n      <td>979.11</td>\n      <td>563.04</td>\n      <td>198.03</td>\n      <td>29.0</td>\n    </tr>\n    <tr>\n      <th>1</th>\n      <td>2</td>\n      <td>EWI-IN625-RR-12</td>\n      <td>EWI_JIP_625_NISTbuild</td>\n      <td>EWI_IN625_RR_Tensiltest1_10.xml</td>\n      <td>EWI_IN625_RR_T_20</td>\n      <td>NaN</td>\n      <td>NaN</td>\n      <td>NaN</td>\n      <td>T-Z-X-5</td>\n      <td>NaN</td>\n      <td>NaN</td>\n      <td>892.86</td>\n      <td>531.30</td>\n      <td>161.46</td>\n      <td>53.0</td>\n    </tr>\n    <tr>\n      <th>2</th>\n      <td>3</td>\n      <td>EWI-IN625-RR-12</td>\n      <td>EWI_JIP_625_NISTbuild</td>\n      <td>EWI_IN625_RR_Tensiltest1_2.xml</td>\n      <td>EWI_IN625_RR_T_03</td>\n      <td>NaN</td>\n      <td>NaN</td>\n      <td>NaN</td>\n      <td>T-XY-X_1</td>\n      <td>NaN</td>\n      <td>NaN</td>\n      <td>962.55</td>\n      <td>559.59</td>\n      <td>184.23</td>\n      <td>28.0</td>\n    </tr>\n    <tr>\n      <th>3</th>\n      <td>4</td>\n      <td>EWI-IN625-RR-12</td>\n      <td>EWI_JIP_625_NISTbuild</td>\n      <td>EWI_IN625_RR_Tensiltest1_3.xml</td>\n      <td>EWI_IN625_RR_T_04</td>\n      <td>NaN</td>\n      <td>NaN</td>\n      <td>NaN</td>\n      <td>T-XY-X_4</td>\n      <td>NaN</td>\n      <td>NaN</td>\n      <td>962.55</td>\n      <td>561.66</td>\n      <td>171.12</td>\n      <td>25.0</td>\n    </tr>\n    <tr>\n      <th>4</th>\n      <td>5</td>\n      <td>EWI-IN625-RR-12</td>\n      <td>EWI_JIP_625_NISTbuild</td>\n      <td>EWI_IN625_RR_Tensiltest1_4.xml</td>\n      <td>EWI_IN625_RR_T_07</td>\n      <td>NaN</td>\n      <td>NaN</td>\n      <td>NaN</td>\n      <td>T-XY-Y_2</td>\n      <td>NaN</td>\n      <td>NaN</td>\n      <td>978.42</td>\n      <td>565.90</td>\n      <td>198.03</td>\n      <td>28.0</td>\n    </tr>\n    <tr>\n      <th>5</th>\n      <td>6</td>\n      <td>EWI-IN625-RR-12</td>\n      <td>EWI_JIP_625_NISTbuild</td>\n      <td>EWI_IN625_RR_Tensiltest1_5.xml</td>\n      <td>EWI_IN625_RR_T_10</td>\n      <td>NaN</td>\n      <td>NaN</td>\n      <td>NaN</td>\n      <td>T-XY-Y_1</td>\n      <td>NaN</td>\n      <td>NaN</td>\n      <td>967.38</td>\n      <td>561.66</td>\n      <td>188.37</td>\n      <td>30.0</td>\n    </tr>\n    <tr>\n      <th>6</th>\n      <td>7</td>\n      <td>EWI-IN625-RR-12</td>\n      <td>EWI_JIP_625_NISTbuild</td>\n      <td>EWI_IN625_RR_Tensiltest1_6.xml</td>\n      <td>EWI_IN625_RR_T_11</td>\n      <td>NaN</td>\n      <td>NaN</td>\n      <td>NaN</td>\n      <td>T-Z-X_1</td>\n      <td>NaN</td>\n      <td>NaN</td>\n      <td>886.65</td>\n      <td>530.61</td>\n      <td>154.56</td>\n      <td>51.0</td>\n    </tr>\n    <tr>\n      <th>7</th>\n      <td>8</td>\n      <td>EWI-IN625-RR-12</td>\n      <td>EWI_JIP_625_NISTbuild</td>\n      <td>EWI_IN625_RR_Tensiltest1_7.xml</td>\n      <td>EWI_IN625_RR_T_13</td>\n      <td>NaN</td>\n      <td>NaN</td>\n      <td>NaN</td>\n      <td>T-Z-X_3</td>\n      <td>NaN</td>\n      <td>NaN</td>\n      <td>888.03</td>\n      <td>531.30</td>\n      <td>147.66</td>\n      <td>50.0</td>\n    </tr>\n    <tr>\n      <th>8</th>\n      <td>9</td>\n      <td>EWI-IN625-RR-12</td>\n      <td>EWI_JIP_625_NISTbuild</td>\n      <td>EWI_IN625_RR_Tensiltest1_8.xml</td>\n      <td>EWI_IN625_RR_T_14</td>\n      <td>NaN</td>\n      <td>NaN</td>\n      <td>NaN</td>\n      <td>T-Z-X_3</td>\n      <td>NaN</td>\n      <td>NaN</td>\n      <td>881.82</td>\n      <td>529.92</td>\n      <td>170.43</td>\n      <td>51.0</td>\n    </tr>\n    <tr>\n      <th>9</th>\n      <td>10</td>\n      <td>EWI-IN625-RR-12</td>\n      <td>EWI_JIP_625_NISTbuild</td>\n      <td>EWI_IN625_RR_Tensiltest1_9.xml</td>\n      <td>EWI_IN625_RR_T_17</td>\n      <td>NaN</td>\n      <td>NaN</td>\n      <td>NaN</td>\n      <td>T-Z-Y_2</td>\n      <td>NaN</td>\n      <td>NaN</td>\n      <td>890.10</td>\n      <td>529.92</td>\n      <td>166.98</td>\n      <td>50.0</td>\n    </tr>\n    <tr>\n      <th>10</th>\n      <td>11</td>\n      <td>EWI-IN625-RR-12</td>\n      <td>EWI_JIP_625_DMC_Build2</td>\n      <td>EWI_IN625_RR_Tensiltest2_1.xml</td>\n      <td>EWI_IN625_RR_T_21</td>\n      <td>NaN</td>\n      <td>NaN</td>\n      <td>NaN</td>\n      <td>T-XY-X_1</td>\n      <td>NaN</td>\n      <td>NaN</td>\n      <td>981.87</td>\n      <td>572.70</td>\n      <td>198.03</td>\n      <td>29.0</td>\n    </tr>\n    <tr>\n      <th>11</th>\n      <td>12</td>\n      <td>EWI-IN625-RR-12</td>\n      <td>EWI_JIP_625_DMC_Build2</td>\n      <td>EWI_IN625_RR_Tensiltest2_10.xml</td>\n      <td>EWI_IN625_RR_T_40</td>\n      <td>NaN</td>\n      <td>NaN</td>\n      <td>NaN</td>\n      <td>T-Z-Y-5</td>\n      <td>NaN</td>\n      <td>NaN</td>\n      <td>888.03</td>\n      <td>543.72</td>\n      <td>177.33</td>\n      <td>43.0</td>\n    </tr>\n    <tr>\n      <th>12</th>\n      <td>13</td>\n      <td>EWI-IN625-RR-12</td>\n      <td>EWI_JIP_625_DMC_Build2</td>\n      <td>EWI_IN625_RR_Tensiltest2_2.xml</td>\n      <td>EWI_IN625_RR_T_23</td>\n      <td>NaN</td>\n      <td>NaN</td>\n      <td>NaN</td>\n      <td>T-XY-X_3</td>\n      <td>NaN</td>\n      <td>NaN</td>\n      <td>966.00</td>\n      <td>549.24</td>\n      <td>180.09</td>\n      <td>25.0</td>\n    </tr>\n    <tr>\n      <th>13</th>\n      <td>14</td>\n      <td>EWI-IN625-RR-12</td>\n      <td>EWI_JIP_625_DMC_Build2</td>\n      <td>EWI_IN625_RR_Tensiltest2_3.xml</td>\n      <td>EWI_IN625_RR_T_24</td>\n      <td>NaN</td>\n      <td>NaN</td>\n      <td>NaN</td>\n      <td>T-XY-X_4</td>\n      <td>NaN</td>\n      <td>NaN</td>\n      <td>968.76</td>\n      <td>569.94</td>\n      <td>191.82</td>\n      <td>25.0</td>\n    </tr>\n    <tr>\n      <th>14</th>\n      <td>15</td>\n      <td>EWI-IN625-RR-12</td>\n      <td>EWI_JIP_625_DMC_Build2</td>\n      <td>EWI_IN625_RR_Tensiltest2_4.xml</td>\n      <td>EWI_IN625_RR_T_27</td>\n      <td>NaN</td>\n      <td>NaN</td>\n      <td>NaN</td>\n      <td>T-XY-Y_2</td>\n      <td>NaN</td>\n      <td>NaN</td>\n      <td>986.70</td>\n      <td>583.74</td>\n      <td>184.92</td>\n      <td>27.0</td>\n    </tr>\n    <tr>\n      <th>15</th>\n      <td>16</td>\n      <td>EWI-IN625-RR-12</td>\n      <td>EWI_JIP_625_DMC_Build2</td>\n      <td>EWI_IN625_RR_Tensiltest2_5.xml</td>\n      <td>EWI_IN625_RR_T_30</td>\n      <td>NaN</td>\n      <td>NaN</td>\n      <td>NaN</td>\n      <td>T-XY-Y_5</td>\n      <td>NaN</td>\n      <td>NaN</td>\n      <td>982.56</td>\n      <td>575.46</td>\n      <td>192.51</td>\n      <td>28.0</td>\n    </tr>\n    <tr>\n      <th>16</th>\n      <td>17</td>\n      <td>EWI-IN625-RR-12</td>\n      <td>EWI_JIP_625_DMC_Build2</td>\n      <td>EWI_IN625_RR_Tensiltest2_6.xml</td>\n      <td>EWI_IN625_RR_T_31</td>\n      <td>NaN</td>\n      <td>NaN</td>\n      <td>NaN</td>\n      <td>T-Z-X_1</td>\n      <td>NaN</td>\n      <td>NaN</td>\n      <td>886.65</td>\n      <td>549.24</td>\n      <td>168.36</td>\n      <td>46.0</td>\n    </tr>\n    <tr>\n      <th>17</th>\n      <td>18</td>\n      <td>EWI-IN625-RR-12</td>\n      <td>EWI_JIP_625_DMC_Build2</td>\n      <td>EWI_IN625_RR_Tensiltest2_7.xml</td>\n      <td>EWI_IN625_RR_T_33</td>\n      <td>NaN</td>\n      <td>NaN</td>\n      <td>NaN</td>\n      <td>T-Z-X_3</td>\n      <td>NaN</td>\n      <td>NaN</td>\n      <td>892.17</td>\n      <td>545.79</td>\n      <td>173.88</td>\n      <td>48.0</td>\n    </tr>\n    <tr>\n      <th>18</th>\n      <td>19</td>\n      <td>EWI-IN625-RR-12</td>\n      <td>EWI_JIP_625_DMC_Build2</td>\n      <td>EWI_IN625_RR_Tensiltest2_8.xml</td>\n      <td>EWI_IN625_RR_T_34</td>\n      <td>NaN</td>\n      <td>NaN</td>\n      <td>NaN</td>\n      <td>T-Z-X_4</td>\n      <td>NaN</td>\n      <td>NaN</td>\n      <td>888.72</td>\n      <td>547.17</td>\n      <td>188.37</td>\n      <td>44.0</td>\n    </tr>\n    <tr>\n      <th>19</th>\n      <td>20</td>\n      <td>EWI-IN625-RR-12</td>\n      <td>EWI_JIP_625_DMC_Build2</td>\n      <td>EWI_IN625_RR_Tensiltest2_9.xml</td>\n      <td>EWI_IN625_RR_T_37</td>\n      <td>NaN</td>\n      <td>NaN</td>\n      <td>NaN</td>\n      <td>T-Z-Y_2</td>\n      <td>NaN</td>\n      <td>NaN</td>\n      <td>1079.85</td>\n      <td>540.96</td>\n      <td>175.26</td>\n      <td>47.0</td>\n    </tr>\n    <tr>\n      <th>20</th>\n      <td>22</td>\n      <td>EWI-IN625-RR-12</td>\n      <td>EWI_JIP_625_DMC_Build3</td>\n      <td>EWI_IN625_RR_Tensiltest3_1.xml</td>\n      <td>EWI_IN625_RR_T_41</td>\n      <td>NaN</td>\n      <td>NaN</td>\n      <td>NaN</td>\n      <td>T-XY-X_1</td>\n      <td>NaN</td>\n      <td>NaN</td>\n      <td>969.45</td>\n      <td>555.45</td>\n      <td>193.89</td>\n      <td>31.0</td>\n    </tr>\n    <tr>\n      <th>21</th>\n      <td>23</td>\n      <td>EWI-IN625-RR-12</td>\n      <td>EWI_JIP_625_DMC_Build3</td>\n      <td>EWI_IN625_RR_Tensiltest3_10.xml</td>\n      <td>EWI_IN625_RR_T_60</td>\n      <td>NaN</td>\n      <td>NaN</td>\n      <td>NaN</td>\n      <td>T-Z-Y-5</td>\n      <td>NaN</td>\n      <td>NaN</td>\n      <td>883.89</td>\n      <td>526.47</td>\n      <td>168.36</td>\n      <td>51.0</td>\n    </tr>\n    <tr>\n      <th>22</th>\n      <td>24</td>\n      <td>EWI-IN625-RR-12</td>\n      <td>EWI_JIP_625_DMC_Build3</td>\n      <td>EWI_IN625_RR_Tensiltest3_2.xml</td>\n      <td>EWI_IN625_RR_T_43</td>\n      <td>NaN</td>\n      <td>NaN</td>\n      <td>NaN</td>\n      <td>T-XY-X_3</td>\n      <td>NaN</td>\n      <td>NaN</td>\n      <td>962.55</td>\n      <td>552.69</td>\n      <td>195.96</td>\n      <td>29.0</td>\n    </tr>\n    <tr>\n      <th>23</th>\n      <td>25</td>\n      <td>EWI-IN625-RR-12</td>\n      <td>EWI_JIP_625_DMC_Build3</td>\n      <td>EWI_IN625_RR_Tensiltest3_3.xml</td>\n      <td>EWI_IN625_RR_T_44</td>\n      <td>NaN</td>\n      <td>NaN</td>\n      <td>NaN</td>\n      <td>T-XY-X_4</td>\n      <td>NaN</td>\n      <td>NaN</td>\n      <td>970.83</td>\n      <td>556.83</td>\n      <td>198.03</td>\n      <td>25.0</td>\n    </tr>\n    <tr>\n      <th>24</th>\n      <td>27</td>\n      <td>EWI-IN625-RR-12</td>\n      <td>EWI_JIP_625_DMC_Build3</td>\n      <td>EWI_IN625_RR_Tensiltest3_4.xml</td>\n      <td>EWI_IN625_RR_T_47</td>\n      <td>NaN</td>\n      <td>NaN</td>\n      <td>NaN</td>\n      <td>T-XY-Y_2</td>\n      <td>NaN</td>\n      <td>NaN</td>\n      <td>988.08</td>\n      <td>563.73</td>\n      <td>191.82</td>\n      <td>30.0</td>\n    </tr>\n  </tbody>\n</table>\n</div>"
     },
     "metadata": {},
     "execution_count": 39
    }
   ],
   "source": [
    "tensile.head(25)"
   ]
  },
  {
   "cell_type": "code",
   "execution_count": 5,
   "metadata": {},
   "outputs": [],
   "source": [
    "nist = parameters.merge(tensile, on=['Build ID'], how='right')"
   ]
  },
  {
   "cell_type": "code",
   "execution_count": 6,
   "metadata": {},
   "outputs": [
    {
     "output_type": "stream",
     "name": "stdout",
     "text": [
      "shape: (79, 14)\ncolummns: ['Build ID' 'Build Platform Pre-heated Temperature (deg C)'\n 'Maximal O2 Set (%)' 'Start Height (mm)' 'Final Height (mm)'\n 'Layer Thickness (mm)' 'Recoating Positive Speed (mm/sec)'\n 'Recoating Negative Speed (mm/sec)' 'Atmosphere Gas Type' 'Specimen ID'\n 'Ultimate Tensile Strength (MPa)' 'Yield Strength (MPa)'\n \"Young's Modulus (GPa)\" 'Reduction of Area (%)']\n"
     ]
    },
    {
     "output_type": "execute_result",
     "data": {
      "text/plain": [
       "                Build ID  Build Platform Pre-heated Temperature (deg C)  \\\n",
       "0  EWI_JIP_625_NISTbuild                                           80.0   \n",
       "1  EWI_JIP_625_NISTbuild                                           80.0   \n",
       "2  EWI_JIP_625_NISTbuild                                           80.0   \n",
       "3  EWI_JIP_625_NISTbuild                                           80.0   \n",
       "4  EWI_JIP_625_NISTbuild                                           80.0   \n",
       "\n",
       "   Maximal O2 Set (%)  Start Height (mm)  Final Height (mm)  \\\n",
       "0                 1.3               0.02              90.18   \n",
       "1                 1.3               0.02              90.18   \n",
       "2                 1.3               0.02              90.18   \n",
       "3                 1.3               0.02              90.18   \n",
       "4                 1.3               0.02              90.18   \n",
       "\n",
       "   Layer Thickness (mm)  Recoating Positive Speed (mm/sec)  \\\n",
       "0                  0.02                              500.0   \n",
       "1                  0.02                              500.0   \n",
       "2                  0.02                              500.0   \n",
       "3                  0.02                              500.0   \n",
       "4                  0.02                              500.0   \n",
       "\n",
       "   Recoating Negative Speed (mm/sec) Atmosphere Gas Type Specimen ID  \\\n",
       "0                               80.0            Nitrogen    T-XY-X_1   \n",
       "1                               80.0            Nitrogen     T-Z-X-5   \n",
       "2                               80.0            Nitrogen    T-XY-X_1   \n",
       "3                               80.0            Nitrogen    T-XY-X_4   \n",
       "4                               80.0            Nitrogen    T-XY-Y_2   \n",
       "\n",
       "   Ultimate Tensile Strength (MPa)  Yield Strength (MPa)  \\\n",
       "0                           979.11                563.04   \n",
       "1                           892.86                531.30   \n",
       "2                           962.55                559.59   \n",
       "3                           962.55                561.66   \n",
       "4                           978.42                565.90   \n",
       "\n",
       "   Young's Modulus (GPa)  Reduction of Area (%)  \n",
       "0                 198.03                   29.0  \n",
       "1                 161.46                   53.0  \n",
       "2                 184.23                   28.0  \n",
       "3                 171.12                   25.0  \n",
       "4                 198.03                   28.0  "
      ],
      "text/html": "<div>\n<style scoped>\n    .dataframe tbody tr th:only-of-type {\n        vertical-align: middle;\n    }\n\n    .dataframe tbody tr th {\n        vertical-align: top;\n    }\n\n    .dataframe thead th {\n        text-align: right;\n    }\n</style>\n<table border=\"1\" class=\"dataframe\">\n  <thead>\n    <tr style=\"text-align: right;\">\n      <th></th>\n      <th>Build ID</th>\n      <th>Build Platform Pre-heated Temperature (deg C)</th>\n      <th>Maximal O2 Set (%)</th>\n      <th>Start Height (mm)</th>\n      <th>Final Height (mm)</th>\n      <th>Layer Thickness (mm)</th>\n      <th>Recoating Positive Speed (mm/sec)</th>\n      <th>Recoating Negative Speed (mm/sec)</th>\n      <th>Atmosphere Gas Type</th>\n      <th>Specimen ID</th>\n      <th>Ultimate Tensile Strength (MPa)</th>\n      <th>Yield Strength (MPa)</th>\n      <th>Young's Modulus (GPa)</th>\n      <th>Reduction of Area (%)</th>\n    </tr>\n  </thead>\n  <tbody>\n    <tr>\n      <th>0</th>\n      <td>EWI_JIP_625_NISTbuild</td>\n      <td>80.0</td>\n      <td>1.3</td>\n      <td>0.02</td>\n      <td>90.18</td>\n      <td>0.02</td>\n      <td>500.0</td>\n      <td>80.0</td>\n      <td>Nitrogen</td>\n      <td>T-XY-X_1</td>\n      <td>979.11</td>\n      <td>563.04</td>\n      <td>198.03</td>\n      <td>29.0</td>\n    </tr>\n    <tr>\n      <th>1</th>\n      <td>EWI_JIP_625_NISTbuild</td>\n      <td>80.0</td>\n      <td>1.3</td>\n      <td>0.02</td>\n      <td>90.18</td>\n      <td>0.02</td>\n      <td>500.0</td>\n      <td>80.0</td>\n      <td>Nitrogen</td>\n      <td>T-Z-X-5</td>\n      <td>892.86</td>\n      <td>531.30</td>\n      <td>161.46</td>\n      <td>53.0</td>\n    </tr>\n    <tr>\n      <th>2</th>\n      <td>EWI_JIP_625_NISTbuild</td>\n      <td>80.0</td>\n      <td>1.3</td>\n      <td>0.02</td>\n      <td>90.18</td>\n      <td>0.02</td>\n      <td>500.0</td>\n      <td>80.0</td>\n      <td>Nitrogen</td>\n      <td>T-XY-X_1</td>\n      <td>962.55</td>\n      <td>559.59</td>\n      <td>184.23</td>\n      <td>28.0</td>\n    </tr>\n    <tr>\n      <th>3</th>\n      <td>EWI_JIP_625_NISTbuild</td>\n      <td>80.0</td>\n      <td>1.3</td>\n      <td>0.02</td>\n      <td>90.18</td>\n      <td>0.02</td>\n      <td>500.0</td>\n      <td>80.0</td>\n      <td>Nitrogen</td>\n      <td>T-XY-X_4</td>\n      <td>962.55</td>\n      <td>561.66</td>\n      <td>171.12</td>\n      <td>25.0</td>\n    </tr>\n    <tr>\n      <th>4</th>\n      <td>EWI_JIP_625_NISTbuild</td>\n      <td>80.0</td>\n      <td>1.3</td>\n      <td>0.02</td>\n      <td>90.18</td>\n      <td>0.02</td>\n      <td>500.0</td>\n      <td>80.0</td>\n      <td>Nitrogen</td>\n      <td>T-XY-Y_2</td>\n      <td>978.42</td>\n      <td>565.90</td>\n      <td>198.03</td>\n      <td>28.0</td>\n    </tr>\n  </tbody>\n</table>\n</div>"
     },
     "metadata": {},
     "execution_count": 6
    }
   ],
   "source": [
    "try:\n",
    "    nist = nist.drop(columns=['ID_x', 'Project ID_x', 'ID_y', 'Project ID_y', 'Test Name', 'Test Filename', 'Tester',\n",
    "                              'Test Standards', 'Test Preparation', 'Test Time', 'Test Location'])\n",
    "except:\n",
    "    print('already dropped')\n",
    "\n",
    "print('shape:', nist.shape)\n",
    "print('colummns:', nist.columns.values)\n",
    "nist.head()"
   ]
  },
  {
   "cell_type": "code",
   "execution_count": 28,
   "metadata": {},
   "outputs": [
    {
     "output_type": "stream",
     "name": "stdout",
     "text": [
      "build settings: 15\ntable shape: (79, 14)\n"
     ]
    }
   ],
   "source": [
    "print('build settings:', len(nist.iloc[:,0].unique()))\n",
    "print('table shape:', nist.shape)"
   ]
  },
  {
   "cell_type": "code",
   "execution_count": null,
   "metadata": {},
   "outputs": [],
   "source": []
  }
 ],
 "metadata": {
  "interpreter": {
   "hash": "76cb93c2069d6dd32dd434bb04c7dd7d1ca6d4dd43d42c019947306608a90e43"
  },
  "kernelspec": {
   "name": "python3",
   "display_name": "Python 3.8.8 64-bit ('base': conda)"
  },
  "language_info": {
   "codemirror_mode": {
    "name": "ipython",
    "version": 3
   },
   "file_extension": ".py",
   "mimetype": "text/x-python",
   "name": "python",
   "nbconvert_exporter": "python",
   "pygments_lexer": "ipython3",
   "version": "3.8.8"
  }
 },
 "nbformat": 4,
 "nbformat_minor": 2
}