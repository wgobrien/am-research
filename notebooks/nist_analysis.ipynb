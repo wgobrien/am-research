{
 "cells": [
  {
   "cell_type": "code",
   "execution_count": 106,
   "metadata": {},
   "outputs": [],
   "source": [
    "import pandas as pd"
   ]
  },
  {
   "cell_type": "code",
   "execution_count": 107,
   "metadata": {},
   "outputs": [],
   "source": [
    "tensile = pd.read_csv('../data/interim/tensile.csv')\n",
    "parameters = pd.read_csv('../data/interim/parameters.csv')"
   ]
  },
  {
   "cell_type": "code",
   "execution_count": 108,
   "metadata": {},
   "outputs": [],
   "source": [
    "nist = parameters.merge(tensile, on=['Build ID'], how='right')"
   ]
  },
  {
   "cell_type": "code",
   "execution_count": 109,
   "metadata": {},
   "outputs": [
    {
     "name": "stdout",
     "output_type": "stream",
     "text": [
      "shape: (79, 14)\n",
      "colummns: ['Build ID' 'Build Platform Pre-heated Temperature (deg C)'\n",
      " 'Maximal O2 Set (%)' 'Start Height (mm)' 'Final Height (mm)'\n",
      " 'Layer Thickness (mm)' 'Recoating Positive Speed (mm/sec)'\n",
      " 'Recoating Negative Speed (mm/sec)' 'Atmosphere Gas Type' 'Specimen ID'\n",
      " 'Ultimate Tensile Strength (MPa)' 'Yield Strength (MPa)'\n",
      " \"Young's Modulus (GPa)\" 'Reduction of Area (%)']\n"
     ]
    },
    {
     "data": {
      "text/html": [
       "<div>\n",
       "<style scoped>\n",
       "    .dataframe tbody tr th:only-of-type {\n",
       "        vertical-align: middle;\n",
       "    }\n",
       "\n",
       "    .dataframe tbody tr th {\n",
       "        vertical-align: top;\n",
       "    }\n",
       "\n",
       "    .dataframe thead th {\n",
       "        text-align: right;\n",
       "    }\n",
       "</style>\n",
       "<table border=\"1\" class=\"dataframe\">\n",
       "  <thead>\n",
       "    <tr style=\"text-align: right;\">\n",
       "      <th></th>\n",
       "      <th>Build ID</th>\n",
       "      <th>Build Platform Pre-heated Temperature (deg C)</th>\n",
       "      <th>Maximal O2 Set (%)</th>\n",
       "      <th>Start Height (mm)</th>\n",
       "      <th>Final Height (mm)</th>\n",
       "      <th>Layer Thickness (mm)</th>\n",
       "      <th>Recoating Positive Speed (mm/sec)</th>\n",
       "      <th>Recoating Negative Speed (mm/sec)</th>\n",
       "      <th>Atmosphere Gas Type</th>\n",
       "      <th>Specimen ID</th>\n",
       "      <th>Ultimate Tensile Strength (MPa)</th>\n",
       "      <th>Yield Strength (MPa)</th>\n",
       "      <th>Young's Modulus (GPa)</th>\n",
       "      <th>Reduction of Area (%)</th>\n",
       "    </tr>\n",
       "  </thead>\n",
       "  <tbody>\n",
       "    <tr>\n",
       "      <th>0</th>\n",
       "      <td>EWI_JIP_625_NISTbuild</td>\n",
       "      <td>80.0</td>\n",
       "      <td>1.3</td>\n",
       "      <td>0.02</td>\n",
       "      <td>90.18</td>\n",
       "      <td>0.02</td>\n",
       "      <td>500.0</td>\n",
       "      <td>80.0</td>\n",
       "      <td>Nitrogen</td>\n",
       "      <td>T-XY-X_1</td>\n",
       "      <td>979.11</td>\n",
       "      <td>563.04</td>\n",
       "      <td>198.03</td>\n",
       "      <td>29.0</td>\n",
       "    </tr>\n",
       "    <tr>\n",
       "      <th>1</th>\n",
       "      <td>EWI_JIP_625_NISTbuild</td>\n",
       "      <td>80.0</td>\n",
       "      <td>1.3</td>\n",
       "      <td>0.02</td>\n",
       "      <td>90.18</td>\n",
       "      <td>0.02</td>\n",
       "      <td>500.0</td>\n",
       "      <td>80.0</td>\n",
       "      <td>Nitrogen</td>\n",
       "      <td>T-Z-X-5</td>\n",
       "      <td>892.86</td>\n",
       "      <td>531.30</td>\n",
       "      <td>161.46</td>\n",
       "      <td>53.0</td>\n",
       "    </tr>\n",
       "    <tr>\n",
       "      <th>2</th>\n",
       "      <td>EWI_JIP_625_NISTbuild</td>\n",
       "      <td>80.0</td>\n",
       "      <td>1.3</td>\n",
       "      <td>0.02</td>\n",
       "      <td>90.18</td>\n",
       "      <td>0.02</td>\n",
       "      <td>500.0</td>\n",
       "      <td>80.0</td>\n",
       "      <td>Nitrogen</td>\n",
       "      <td>T-XY-X_1</td>\n",
       "      <td>962.55</td>\n",
       "      <td>559.59</td>\n",
       "      <td>184.23</td>\n",
       "      <td>28.0</td>\n",
       "    </tr>\n",
       "    <tr>\n",
       "      <th>3</th>\n",
       "      <td>EWI_JIP_625_NISTbuild</td>\n",
       "      <td>80.0</td>\n",
       "      <td>1.3</td>\n",
       "      <td>0.02</td>\n",
       "      <td>90.18</td>\n",
       "      <td>0.02</td>\n",
       "      <td>500.0</td>\n",
       "      <td>80.0</td>\n",
       "      <td>Nitrogen</td>\n",
       "      <td>T-XY-X_4</td>\n",
       "      <td>962.55</td>\n",
       "      <td>561.66</td>\n",
       "      <td>171.12</td>\n",
       "      <td>25.0</td>\n",
       "    </tr>\n",
       "    <tr>\n",
       "      <th>4</th>\n",
       "      <td>EWI_JIP_625_NISTbuild</td>\n",
       "      <td>80.0</td>\n",
       "      <td>1.3</td>\n",
       "      <td>0.02</td>\n",
       "      <td>90.18</td>\n",
       "      <td>0.02</td>\n",
       "      <td>500.0</td>\n",
       "      <td>80.0</td>\n",
       "      <td>Nitrogen</td>\n",
       "      <td>T-XY-Y_2</td>\n",
       "      <td>978.42</td>\n",
       "      <td>565.90</td>\n",
       "      <td>198.03</td>\n",
       "      <td>28.0</td>\n",
       "    </tr>\n",
       "  </tbody>\n",
       "</table>\n",
       "</div>"
      ],
      "text/plain": [
       "                Build ID  Build Platform Pre-heated Temperature (deg C)  \\\n",
       "0  EWI_JIP_625_NISTbuild                                           80.0   \n",
       "1  EWI_JIP_625_NISTbuild                                           80.0   \n",
       "2  EWI_JIP_625_NISTbuild                                           80.0   \n",
       "3  EWI_JIP_625_NISTbuild                                           80.0   \n",
       "4  EWI_JIP_625_NISTbuild                                           80.0   \n",
       "\n",
       "   Maximal O2 Set (%)  Start Height (mm)  Final Height (mm)  \\\n",
       "0                 1.3               0.02              90.18   \n",
       "1                 1.3               0.02              90.18   \n",
       "2                 1.3               0.02              90.18   \n",
       "3                 1.3               0.02              90.18   \n",
       "4                 1.3               0.02              90.18   \n",
       "\n",
       "   Layer Thickness (mm)  Recoating Positive Speed (mm/sec)  \\\n",
       "0                  0.02                              500.0   \n",
       "1                  0.02                              500.0   \n",
       "2                  0.02                              500.0   \n",
       "3                  0.02                              500.0   \n",
       "4                  0.02                              500.0   \n",
       "\n",
       "   Recoating Negative Speed (mm/sec) Atmosphere Gas Type Specimen ID  \\\n",
       "0                               80.0            Nitrogen    T-XY-X_1   \n",
       "1                               80.0            Nitrogen     T-Z-X-5   \n",
       "2                               80.0            Nitrogen    T-XY-X_1   \n",
       "3                               80.0            Nitrogen    T-XY-X_4   \n",
       "4                               80.0            Nitrogen    T-XY-Y_2   \n",
       "\n",
       "   Ultimate Tensile Strength (MPa)  Yield Strength (MPa)  \\\n",
       "0                           979.11                563.04   \n",
       "1                           892.86                531.30   \n",
       "2                           962.55                559.59   \n",
       "3                           962.55                561.66   \n",
       "4                           978.42                565.90   \n",
       "\n",
       "   Young's Modulus (GPa)  Reduction of Area (%)  \n",
       "0                 198.03                   29.0  \n",
       "1                 161.46                   53.0  \n",
       "2                 184.23                   28.0  \n",
       "3                 171.12                   25.0  \n",
       "4                 198.03                   28.0  "
      ]
     },
     "execution_count": 109,
     "metadata": {},
     "output_type": "execute_result"
    }
   ],
   "source": [
    "try:\n",
    "    nist = nist.drop(columns=['ID_x', 'Project ID_x', 'ID_y', 'Project ID_y', 'Test Name', 'Test Filename', 'Tester',\n",
    "                              'Test Standards', 'Test Preparation', 'Test Time', 'Test Location'])\n",
    "except:\n",
    "    print('already dropped')\n",
    "\n",
    "print('shape:', nist.shape)\n",
    "print('colummns:', nist.columns.values)\n",
    "nist.head()"
   ]
  },
  {
   "cell_type": "code",
   "execution_count": 123,
   "metadata": {},
   "outputs": [
    {
     "data": {
      "text/plain": [
       "array([1.3, 1.5, 0. ])"
      ]
     },
     "execution_count": 123,
     "metadata": {},
     "output_type": "execute_result"
    }
   ],
   "source": [
    "printnist.iloc[:,2].unique()"
   ]
  },
  {
   "cell_type": "code",
   "execution_count": null,
   "metadata": {},
   "outputs": [],
   "source": []
  }
 ],
 "metadata": {
  "interpreter": {
   "hash": "b4921a9159d4c4bdbaf69cf1fe56826a8877cf1960855b937c2d5ac89b6f7fc3"
  },
  "kernelspec": {
   "display_name": "Python 3",
   "language": "python",
   "name": "python3"
  },
  "language_info": {
   "codemirror_mode": {
    "name": "ipython",
    "version": 3
   },
   "file_extension": ".py",
   "mimetype": "text/x-python",
   "name": "python",
   "nbconvert_exporter": "python",
   "pygments_lexer": "ipython3",
   "version": "3.8.5"
  }
 },
 "nbformat": 4,
 "nbformat_minor": 2
}