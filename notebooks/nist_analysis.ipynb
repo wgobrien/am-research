{
 "cells": [
  {
   "cell_type": "code",
   "execution_count": 4,
   "metadata": {},
   "outputs": [],
   "source": [
    "import pandas as pd"
   ]
  },
  {
   "cell_type": "code",
   "execution_count": 5,
   "metadata": {},
   "outputs": [],
   "source": [
    "tensile = pd.read_csv('../data/interim/tensile.csv')\n",
    "parameters = pd.read_csv('../data/interim/parameters.csv')\n",
    "orientation = pd.read_csv('../data/interim/orientation.csv')"
   ]
  },
  {
   "cell_type": "code",
   "execution_count": 6,
   "metadata": {},
   "outputs": [],
   "source": [
    "nist = parameters.merge(tensile, on=['Build ID'], how='right')"
   ]
  },
  {
   "cell_type": "code",
   "execution_count": 7,
   "metadata": {},
   "outputs": [
    {
     "output_type": "stream",
     "name": "stdout",
     "text": [
      "shape: (79, 14)\ncolummns: ['Build ID' 'Build Platform Pre-heated Temperature (deg C)'\n 'Maximal O2 Set (%)' 'Start Height (mm)' 'Final Height (mm)'\n 'Layer Thickness (mm)' 'Recoating Positive Speed (mm/sec)'\n 'Recoating Negative Speed (mm/sec)' 'Atmosphere Gas Type' 'Specimen ID'\n 'Ultimate Tensile Strength (MPa)' 'Yield Strength (MPa)'\n \"Young's Modulus (GPa)\" 'Reduction of Area (%)']\n"
     ]
    }
   ],
   "source": [
    "try:\n",
    "    nist = nist.drop(columns=['ID_x', 'Project ID_x', 'ID_y', 'Project ID_y', 'Test Name', 'Test Filename', 'Tester',\n",
    "                              'Test Standards', 'Test Preparation', 'Test Time', 'Test Location'])\n",
    "except:\n",
    "    print('already dropped')\n",
    "\n",
    "print('shape:', nist.shape)\n",
    "print('colummns:', nist.columns.values)\n"
   ]
  },
  {
   "cell_type": "code",
   "execution_count": 8,
   "metadata": {},
   "outputs": [
    {
     "output_type": "stream",
     "name": "stdout",
     "text": [
      "build settings: 52\ntable shape: (79, 14)\n"
     ]
    }
   ],
   "source": [
    "print('build settings:', len(nist.iloc[:,9].unique()))\n",
    "print('table shape:', nist.shape)"
   ]
  }
 ],
 "metadata": {
  "interpreter": {
   "hash": "76cb93c2069d6dd32dd434bb04c7dd7d1ca6d4dd43d42c019947306608a90e43"
  },
  "kernelspec": {
   "name": "python3",
   "display_name": "Python 3.8.8 64-bit ('base': conda)"
  },
  "language_info": {
   "codemirror_mode": {
    "name": "ipython",
    "version": 3
   },
   "file_extension": ".py",
   "mimetype": "text/x-python",
   "name": "python",
   "nbconvert_exporter": "python",
   "pygments_lexer": "ipython3",
   "version": "3.8.8"
  }
 },
 "nbformat": 4,
 "nbformat_minor": 2
}