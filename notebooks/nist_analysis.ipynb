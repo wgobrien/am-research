{
 "cells": [
  {
   "cell_type": "code",
   "execution_count": 1,
   "metadata": {},
   "outputs": [],
   "source": [
    "import pandas as pd"
   ]
  },
  {
   "cell_type": "code",
   "execution_count": 2,
   "metadata": {},
   "outputs": [],
   "source": [
    "tensile = pd.read_csv('../data/interim/tensile.csv')\n",
    "parameters = pd.read_csv('../data/interim/parameters.csv')\n",
    "orientation = pd.read_csv('../data/interim/orientation.csv')"
   ]
  },
  {
   "cell_type": "code",
   "execution_count": 8,
   "metadata": {},
   "outputs": [
    {
     "output_type": "execute_result",
     "data": {
      "text/plain": [
       "array([['EWI_JIP_625_NISTbuild', 'T-Z-X', 'Part_1'],\n",
       "       ['EWI_JIP_625_NISTbuild', 'MET3', 'Part_2'],\n",
       "       ['EWI_JIP_625_NISTbuild', 'F-Z-Y', 'Part_3'],\n",
       "       ['EWI_JIP_625_NISTbuild', 'T-XY-Y', 'Part_4'],\n",
       "       ['EWI_JIP_625_NISTbuild', 'MET4', 'Part_5'],\n",
       "       ['EWI_JIP_625_NISTbuild', 'F-XY-X', 'Part_6'],\n",
       "       ['EWI_JIP_625_NISTbuild', 'MET1', 'Part_7'],\n",
       "       ['EWI_JIP_625_NISTbuild', 'F-Z-X', 'Part_8'],\n",
       "       ['EWI_JIP_625_NISTbuild', 'T-XY-X', 'Part_9'],\n",
       "       ['EWI_JIP_625_NISTbuild', 'F-XY-Y', 'Part_10'],\n",
       "       ['EWI_JIP_625_NISTbuild', 'MET2', 'Part_11'],\n",
       "       ['EWI_JIP_625_NISTbuild', 'T-Z-Y', 'Part_12'],\n",
       "       ['EWI_JIP_625_NISTbuild', 'MET5', 'Part_13'],\n",
       "       ['EWI_JIP_625_DMC_Build2', 'T-Z-X', 'Part_1'],\n",
       "       ['EWI_JIP_625_DMC_Build2', 'MET3', 'Part_2'],\n",
       "       ['EWI_JIP_625_DMC_Build2', 'F-Z-Y', 'Part_3'],\n",
       "       ['EWI_JIP_625_DMC_Build2', 'T-XY-Y', 'Part_4'],\n",
       "       ['EWI_JIP_625_DMC_Build2', 'MET4', 'Part_5'],\n",
       "       ['EWI_JIP_625_DMC_Build2', 'F-XY-X', 'Part_6'],\n",
       "       ['EWI_JIP_625_DMC_Build2', 'MET1', 'Part_7'],\n",
       "       ['EWI_JIP_625_DMC_Build2', 'F-Z-X', 'Part_8'],\n",
       "       ['EWI_JIP_625_DMC_Build2', 'T-XY-X', 'Part_9'],\n",
       "       ['EWI_JIP_625_DMC_Build2', 'F-XY-Y', 'Part_10'],\n",
       "       ['EWI_JIP_625_DMC_Build2', 'MET2', 'Part_11'],\n",
       "       ['EWI_JIP_625_DMC_Build2', 'T-Z-Y', 'Part_12'],\n",
       "       ['EWI_JIP_625_DMC_Build2', 'MET5', 'Part_13'],\n",
       "       ['EWI_JIP_625_DMC_Build3', 'T-Z-X', 'Part_1'],\n",
       "       ['EWI_JIP_625_DMC_Build3', 'MET3', 'Part_2'],\n",
       "       ['EWI_JIP_625_DMC_Build3', 'F-Z-Y', 'Part_3'],\n",
       "       ['EWI_JIP_625_DMC_Build3', 'T-XY-Y', 'Part_4'],\n",
       "       ['EWI_JIP_625_DMC_Build3', 'MET4', 'Part_5'],\n",
       "       ['EWI_JIP_625_DMC_Build3', 'F-XY-X', 'Part_6'],\n",
       "       ['EWI_JIP_625_DMC_Build3', 'MET1', 'Part_7'],\n",
       "       ['EWI_JIP_625_DMC_Build3', 'F-Z-X', 'Part_8'],\n",
       "       ['EWI_JIP_625_DMC_Build3', 'T-XY-X', 'Part_9'],\n",
       "       ['EWI_JIP_625_DMC_Build3', 'F-XY-Y', 'Part_10'],\n",
       "       ['EWI_JIP_625_DMC_Build3', 'MET2', 'Part_11'],\n",
       "       ['EWI_JIP_625_DMC_Build3', 'T-Z-Y', 'Part_12'],\n",
       "       ['EWI_JIP_625_DMC_Build3', 'MET5', 'Part_13'],\n",
       "       ['EWI_JIP_625_DMC_Build4', 'T-Z-X', 'Part_1'],\n",
       "       ['EWI_JIP_625_DMC_Build4', 'MET3', 'Part_2'],\n",
       "       ['EWI_JIP_625_DMC_Build4', 'F-Z-Y', 'Part_3'],\n",
       "       ['EWI_JIP_625_DMC_Build4', 'T-XY-Y', 'Part_4'],\n",
       "       ['EWI_JIP_625_DMC_Build4', 'MET4', 'Part_5'],\n",
       "       ['EWI_JIP_625_DMC_Build4', 'F-XY-X', 'Part_6'],\n",
       "       ['EWI_JIP_625_DMC_Build4', 'MET1', 'Part_7'],\n",
       "       ['EWI_JIP_625_DMC_Build4', 'F-Z-X', 'Part_8'],\n",
       "       ['EWI_JIP_625_DMC_Build4', 'T-XY-X', 'Part_9'],\n",
       "       ['EWI_JIP_625_DMC_Build4', 'F-XY-Y', 'Part_10'],\n",
       "       ['EWI_JIP_625_DMC_Build4', 'MET2', 'Part_11'],\n",
       "       ['EWI_JIP_625_DMC_Build4', 'T-Z-Y', 'Part_12'],\n",
       "       ['EWI_JIP_625_DMC_Build4', 'MET5', 'Part_13'],\n",
       "       ['3dScanStrategyStudy_AMMT_Build', 'Part 1', 'Part 1'],\n",
       "       ['3dScanStrategyStudy_AMMT_Build', 'Part 2', 'Part 2'],\n",
       "       ['3dScanStrategyStudy_AMMT_Build', 'Part 3', 'Part 3'],\n",
       "       ['3dScanStrategyStudy_AMMT_Build', 'Part 4', 'Part 4'],\n",
       "       ['3dScanStrategyStudy_AMMT_Build', 'Part 5', 'Part 5'],\n",
       "       ['3dScanStrategyStudy_AMMT_Build', 'Part 6', 'Part 6'],\n",
       "       ['3dScanStrategyStudy_AMMT_Build', 'Part 7', 'Part 7'],\n",
       "       ['3dScanStrategyStudy_AMMT_Build', 'Part 8', 'Part 8'],\n",
       "       ['3dScanStrategyStudy_AMMT_Build', 'Part 9', 'Part 9'],\n",
       "       ['3dScanStrategyStudy_AMMT_Build', 'Part 10', 'Part 10'],\n",
       "       ['3dScanStrategyStudy_AMMT_Build', 'Part 11', 'Part 11'],\n",
       "       ['3dScanStrategyStudy_AMMT_Build', 'Part 12', 'Part 12'],\n",
       "       ['NIST-RPS-A-14_001', 'A-14_1 Tensil Bar 1', 'T-xyz-001.1'],\n",
       "       ['NIST-RPS-A-14_001', 'A-14_1 Tensil Bar 2', 'T-xyz-001.2'],\n",
       "       ['NIST-RPS-A-14_001', 'A-14_1 Tensil Bar 3', 'T-xyz-001.3'],\n",
       "       ['NIST-RPS-A-14_001', 'A-14_1 Tensil Bar 4', 'T-xyz-001.4'],\n",
       "       ['NIST-RPS-A-14_001', 'A-14_1 Tensil Bar 5', 'T-xyz-001.5'],\n",
       "       ['NIST-RPS-A-14_001', 'A-14_1 Tensil Bar 1', 'T-xyz-001.6'],\n",
       "       ['NIST-RPS-A-14_001', 'A-14_1 Test Cube Front', 'C-001.1'],\n",
       "       ['NIST-RPS-A-14_001', 'A-14_1 PBD 1', 'PBD-001.1'],\n",
       "       ['NIST-RPS-A-14_001', 'A-14_1 PBD 2', 'PBD-001.2'],\n",
       "       ['NIST-RPS-A-14_001', 'A-14_1 PBD 3', 'PBD-001.3'],\n",
       "       ['NIST-RPS-A-14_0010', 'Build 10 Tensil Bar 1', 'T-xyz-0010.1'],\n",
       "       ['NIST-RPS-A-14_0010', 'Build 10 Tensil Bar 2', 'T-xyz-0010.2'],\n",
       "       ['NIST-RPS-A-14_0010', 'Build 10 Tensil Bar 3', 'T-xyz-0010.3'],\n",
       "       ['NIST-RPS-A-14_0010', 'Build 10 Tensil Bar 4', 'T-xyz-0010.4'],\n",
       "       ['NIST-RPS-A-14_0010', 'Build 10 Tensil Bar 5', 'T-xyz-0010.5'],\n",
       "       ['NIST-RPS-A-14_0010', 'Build 10 Tensil Bar 6', 'T-xyz-0010.6'],\n",
       "       ['NIST-RPS-A-14_0010', 'Build 10 Test Cube Front', 'C-0010.1'],\n",
       "       ['NIST-RPS-A-14_0010', 'Build 10 Test Cube Center', 'C-0010.2'],\n",
       "       ['NIST-RPS-A-14_0010', 'Build 10 Test Cube Back', 'C-0010.3'],\n",
       "       ['NIST-RPS-A-14_0011', 'Build 11 Tensil Bar 1', 'T-xyz-0011.1'],\n",
       "       ['NIST-RPS-A-14_0011', 'Build 11 Tensil Bar 2', 'T-xyz-0011.2'],\n",
       "       ['NIST-RPS-A-14_0011', 'Build 11 Tensil Bar 3', 'T-xyz-0011.3'],\n",
       "       ['NIST-RPS-A-14_0011', 'Build 11 Tensil Bar 4', 'T-xyz-0011.4'],\n",
       "       ['NIST-RPS-A-14_0011', 'Build 11 Tensil Bar 5', 'T-xyz-0011.5'],\n",
       "       ['NIST-RPS-A-14_0011', 'Build 11 Tensil Bar 6', 'T-xyz-0011.6'],\n",
       "       ['NIST-RPS-A-14_0011', 'Build 11 Test Cube Front', 'C-00111.1'],\n",
       "       ['NIST-RPS-A-14_0011', 'Build 11 Test Cube Center', 'C-00111.2'],\n",
       "       ['NIST-RPS-A-14_0011', 'Build 11 Test Cube Back', 'C-00111.3'],\n",
       "       ['NIST-RPS-A-14_0011', 'Build 11 PBD 1', 'PBD-z-0011.1'],\n",
       "       ['NIST-RPS-A-14_0011', 'Build 11 PBD 2', 'PBD-z-0011.2'],\n",
       "       ['NIST-RPS-A-14_0011', 'Build 11 PBD 3', 'PBD-z-0011.3'],\n",
       "       ['NIST-RPS-A-14_002', 'Build 2 Tensil Bar 1', 'T-xyz-002.1'],\n",
       "       ['NIST-RPS-A-14_002', 'Build 2 Tensil Bar 2', 'T-xyz-002.2'],\n",
       "       ['NIST-RPS-A-14_002', 'Build 2 Tensil Bar 3', 'T-xyz-002.3'],\n",
       "       ['NIST-RPS-A-14_002', 'Build 2 Tensil Bar 4', 'T-xyz-002.4'],\n",
       "       ['NIST-RPS-A-14_002', 'Build 2 Tensil Bar 5', 'T-xyz-002.5'],\n",
       "       ['NIST-RPS-A-14_002', 'Build 2 Tensil Bar 6', 'T-xyz-002.6'],\n",
       "       ['NIST-RPS-A-14_002', 'Build 2 Test Cube Front', 'C-002.1'],\n",
       "       ['NIST-RPS-A-14_002', 'Build 2 Test Cube Center', 'C-002.2'],\n",
       "       ['NIST-RPS-A-14_002', 'Build 2 Test Cube Back', 'C-002.3'],\n",
       "       ['NIST-RPS-A-14_003', 'Build 3 Tensil Bar 1', 'T-xyz-003.1'],\n",
       "       ['NIST-RPS-A-14_003', 'Build 3 Tensil Bar 2', 'T-xyz-003.2'],\n",
       "       ['NIST-RPS-A-14_003', 'Build 3 Tensil Bar 3', 'T-xyz-003.3'],\n",
       "       ['NIST-RPS-A-14_003', 'Build 3 Tensil Bar 4', 'T-xyz-003.4'],\n",
       "       ['NIST-RPS-A-14_003', 'Build 3 Tensil Bar 5', 'T-xyz-003.5'],\n",
       "       ['NIST-RPS-A-14_003', 'Build 3 Tensil Bar 6', 'T-xyz-003.6'],\n",
       "       ['NIST-RPS-A-14_003', 'Build 3 Test Cube Front', 'C-003.1'],\n",
       "       ['NIST-RPS-A-14_003', 'Build 3 Test Cube Center', 'C-003.2'],\n",
       "       ['NIST-RPS-A-14_003', 'Build 3 Test Cube Back', 'C-003.3'],\n",
       "       ['NIST-RPS-A-14_004', 'Build 4 Tensil Bar 1', 'T-xyz-004.1'],\n",
       "       ['NIST-RPS-A-14_004', 'Build 4 Tensil Bar 2', 'T-xyz-004.2'],\n",
       "       ['NIST-RPS-A-14_004', 'Build 4 Tensil Bar 3', 'T-xyz-004.3'],\n",
       "       ['NIST-RPS-A-14_004', 'Build 4 Tensil Bar 4', 'T-xyz-004.4'],\n",
       "       ['NIST-RPS-A-14_004', 'Build 4 Tensil Bar 5', 'T-xyz-004.5'],\n",
       "       ['NIST-RPS-A-14_004', 'Build 4 Tensil Bar 6', 'T-xyz-004.6'],\n",
       "       ['NIST-RPS-A-14_004', 'Build 4 Test Cube Front', 'C-004.1'],\n",
       "       ['NIST-RPS-A-14_004', 'Build 4 Test Cube Center', 'C-004.2'],\n",
       "       ['NIST-RPS-A-14_004', 'Build 4 Test Cube Back', 'C-004.3'],\n",
       "       ['NIST-RPS-A-14_005', 'Build 5 Tensil Bar 1', 'T-xyz-005.1'],\n",
       "       ['NIST-RPS-A-14_005', 'Build 5 Tensil Bar 2', 'T-xyz-005.2'],\n",
       "       ['NIST-RPS-A-14_005', 'Build 5 Tensil Bar 3', 'T-xyz-005.3'],\n",
       "       ['NIST-RPS-A-14_005', 'Build 5 Tensil Bar 4', 'T-xyz-005.4'],\n",
       "       ['NIST-RPS-A-14_005', 'Build 5 Tensil Bar 5', 'T-xyz-005.5'],\n",
       "       ['NIST-RPS-A-14_005', 'Build 5 Tensil Bar 6', 'T-xyz-005.6'],\n",
       "       ['NIST-RPS-A-14_005', 'Build 5 Test Cube Front', 'C-005.1'],\n",
       "       ['NIST-RPS-A-14_005', 'Build 5 Test Cube Center', 'C-005.2'],\n",
       "       ['NIST-RPS-A-14_005', 'Build 5 Test Cube Back', 'C-005.3'],\n",
       "       ['NIST-RPS-A-14_006', 'Build 6 Tensil Bar 1', 'T-xyz-006.1'],\n",
       "       ['NIST-RPS-A-14_006', 'Build 6 Tensil Bar 2', 'T-xyz-006.2'],\n",
       "       ['NIST-RPS-A-14_006', 'Build 6 Tensil Bar 3', 'T-xyz-006.3'],\n",
       "       ['NIST-RPS-A-14_006', 'Build 6 Tensil Bar 4', 'T-xyz-006.4'],\n",
       "       ['NIST-RPS-A-14_006', 'Build 6 Tensil Bar 5', 'T-xyz-006.5'],\n",
       "       ['NIST-RPS-A-14_006', 'Build 6 Tensil Bar 6', 'T-xyz-006.6'],\n",
       "       ['NIST-RPS-A-14_006', 'Build 6 Test Cube Front', 'C-006.1'],\n",
       "       ['NIST-RPS-A-14_006', 'Build 6 Test Cube Center', 'C-006.2'],\n",
       "       ['NIST-RPS-A-14_006', 'Build 6 Test Cube Back', 'C-006.3'],\n",
       "       ['NIST-RPS-A-14_007', 'Build 7 Tensil Bar 1', 'T-xyz-007.1'],\n",
       "       ['NIST-RPS-A-14_007', 'Build 7 Tensil Bar 2', 'T-xyz-007.2'],\n",
       "       ['NIST-RPS-A-14_007', 'Build 7 Tensil Bar 3', 'T-xyz-007.3'],\n",
       "       ['NIST-RPS-A-14_007', 'Build 7 Tensil Bar 4', 'T-xyz-007.4'],\n",
       "       ['NIST-RPS-A-14_007', 'Build 7 Tensil Bar 5', 'T-xyz-007.5'],\n",
       "       ['NIST-RPS-A-14_007', 'Build 7 Tensil Bar 6', 'T-xyz-007.6'],\n",
       "       ['NIST-RPS-A-14_007', 'Build 7 Test Cube Front', 'C-007.1'],\n",
       "       ['NIST-RPS-A-14_007', 'Build 7 Test Cube Center', 'C-007.2'],\n",
       "       ['NIST-RPS-A-14_007', 'Build 7 Test Cube Back', 'C-007.3'],\n",
       "       ['NIST-RPS-A-14_008', 'Build 8 Tensil Bar 1', 'T-xyz-008.1'],\n",
       "       ['NIST-RPS-A-14_008', 'Build 8 Tensil Bar 2', 'T-xyz-008.2'],\n",
       "       ['NIST-RPS-A-14_008', 'Build 8 Tensil Bar 3', 'T-xyz-008.3'],\n",
       "       ['NIST-RPS-A-14_008', 'Build 8 Tensil Bar 4', 'T-xyz-008.4'],\n",
       "       ['NIST-RPS-A-14_008', 'Build 8 Tensil Bar 5', 'T-xyz-008.5'],\n",
       "       ['NIST-RPS-A-14_008', 'Build 8 Tensil Bar 6', 'T-xyz-008.6'],\n",
       "       ['NIST-RPS-A-14_008', 'Build 8 Test Cube Front', 'C-008.1'],\n",
       "       ['NIST-RPS-A-14_008', 'Build 8 Test Cube Center', 'C-008.2'],\n",
       "       ['NIST-RPS-A-14_008', 'Build 8 Test Cube Back', 'C-008.3'],\n",
       "       ['NIST-RPS-A-14_009', 'Build 9 Tensil Bar 1', 'T-xyz-009.1'],\n",
       "       ['NIST-RPS-A-14_009', 'Build 9 Tensil Bar 2', 'T-xyz-009.2'],\n",
       "       ['NIST-RPS-A-14_009', 'Build 9 Tensil Bar 3', 'T-xyz-009.3'],\n",
       "       ['NIST-RPS-A-14_009', 'Build 9 Tensil Bar 4', 'T-xyz-009.4'],\n",
       "       ['NIST-RPS-A-14_009', 'Build 9 Tensil Bar 5', 'T-xyz-009.5'],\n",
       "       ['NIST-RPS-A-14_009', 'Build 9 Tensil Bar 6', 'T-xyz-009.6'],\n",
       "       ['NIST-RPS-A-14_009', 'Build 9 Test Cube Front', 'C-009.1'],\n",
       "       ['NIST-RPS-A-14_009', 'Build 9 Test Cube Center', 'C-009.2'],\n",
       "       ['NIST-RPS-A-14_009', 'Build 9 Test Cube Back', 'C-009.3']],\n",
       "      dtype=object)"
      ]
     },
     "metadata": {},
     "execution_count": 8
    }
   ],
   "source": [
    "orientation[[\"Build ID\",\"Part Name\", \"Part Number\"]].values"
   ]
  },
  {
   "cell_type": "code",
   "execution_count": 12,
   "metadata": {},
   "outputs": [
    {
     "output_type": "execute_result",
     "data": {
      "text/plain": [
       "array(['T-XY-X_1', 'T-Z-X-5', 'T-XY-X_1', 'T-XY-X_4', 'T-XY-Y_2',\n",
       "       'T-XY-Y_1', 'T-Z-X_1', 'T-Z-X_3', 'T-Z-X_3', 'T-Z-Y_2', 'T-XY-X_1',\n",
       "       'T-Z-Y-5', 'T-XY-X_3', 'T-XY-X_4', 'T-XY-Y_2', 'T-XY-Y_5',\n",
       "       'T-Z-X_1', 'T-Z-X_3', 'T-Z-X_4', 'T-Z-Y_2', 'T-XY-X_1', 'T-Z-Y-5',\n",
       "       'T-XY-X_3', 'T-XY-X_4', 'T-XY-Y_2', 'T-XY-Y_5', 'T-Z-X_1',\n",
       "       'T-Z-X_3', 'T-Z-X_4', 'T-Z-Y_2', 'T-XY-X_1', 'T-XY-X_3',\n",
       "       'T-XY-X_4', 'T-XY-Y_2', 'T-XY-Y_5', 'T-Z-X_1', 'T-Z-X_3',\n",
       "       'T-Z-X_4', 'T-Z-Y_2', 'T-Z-Y_5', 'T-xyz-001A.1', 'T-xyz-001A.2',\n",
       "       'T-xyz-001A.3', 'T-xyz-001B.2', 'T-xyz-0010A.5', 'T-xyz-0010A.6',\n",
       "       'T-xyz-0011A.1', 'T-xyz-0011A.2', 'T-xyz-0011A.3', 'T-xyz-0011B.4',\n",
       "       'T-xyz-002B.2', 'T-xyz-002B.3', 'T-xyz-002A.4', 'T-xyz-002A.6',\n",
       "       'T-xyz-003A.2', 'T-xyz-003B.2', 'T-xyz-003A.3', 'T-xyz-003A.5',\n",
       "       'T-xyz-004B.1', 'T-xyz-004B.3', 'T-xyz-004A.4', 'T-xyz-004A.6',\n",
       "       'T-xyz-005A.1', 'T-xyz-005A.2', 'T-xyz-005A.3', 'T-xyz-006A.4',\n",
       "       'T-xyz-006A.5', 'T-xyz-006A.6', 'T-xyz-007A.1', 'T-xyz-007A.5',\n",
       "       'T-xyz-007B.6', 'T-xyz-008A.2', 'T-xyz-008A.4', 'T-xyz-008B.5',\n",
       "       'T-xyz-008A.6', 'T-xyz-009A.1', 'T-xyz-009A.2', 'T-xyz-009A.3',\n",
       "       'T-xyz-009B.4'], dtype=object)"
      ]
     },
     "metadata": {},
     "execution_count": 12
    }
   ],
   "source": [
    "tensile['Specimen ID'].values"
   ]
  },
  {
   "cell_type": "code",
   "execution_count": 5,
   "metadata": {},
   "outputs": [],
   "source": [
    "nist = parameters.merge(tensile, on=['Build ID'], how='right')"
   ]
  },
  {
   "cell_type": "code",
   "execution_count": 6,
   "metadata": {},
   "outputs": [
    {
     "output_type": "stream",
     "name": "stdout",
     "text": [
      "shape: (79, 14)\ncolummns: ['Build ID' 'Build Platform Pre-heated Temperature (deg C)'\n 'Maximal O2 Set (%)' 'Start Height (mm)' 'Final Height (mm)'\n 'Layer Thickness (mm)' 'Recoating Positive Speed (mm/sec)'\n 'Recoating Negative Speed (mm/sec)' 'Atmosphere Gas Type' 'Specimen ID'\n 'Ultimate Tensile Strength (MPa)' 'Yield Strength (MPa)'\n \"Young's Modulus (GPa)\" 'Reduction of Area (%)']\n"
     ]
    },
    {
     "output_type": "execute_result",
     "data": {
      "text/plain": [
       "                Build ID  Build Platform Pre-heated Temperature (deg C)  \\\n",
       "0  EWI_JIP_625_NISTbuild                                           80.0   \n",
       "1  EWI_JIP_625_NISTbuild                                           80.0   \n",
       "2  EWI_JIP_625_NISTbuild                                           80.0   \n",
       "3  EWI_JIP_625_NISTbuild                                           80.0   \n",
       "4  EWI_JIP_625_NISTbuild                                           80.0   \n",
       "\n",
       "   Maximal O2 Set (%)  Start Height (mm)  Final Height (mm)  \\\n",
       "0                 1.3               0.02              90.18   \n",
       "1                 1.3               0.02              90.18   \n",
       "2                 1.3               0.02              90.18   \n",
       "3                 1.3               0.02              90.18   \n",
       "4                 1.3               0.02              90.18   \n",
       "\n",
       "   Layer Thickness (mm)  Recoating Positive Speed (mm/sec)  \\\n",
       "0                  0.02                              500.0   \n",
       "1                  0.02                              500.0   \n",
       "2                  0.02                              500.0   \n",
       "3                  0.02                              500.0   \n",
       "4                  0.02                              500.0   \n",
       "\n",
       "   Recoating Negative Speed (mm/sec) Atmosphere Gas Type Specimen ID  \\\n",
       "0                               80.0            Nitrogen    T-XY-X_1   \n",
       "1                               80.0            Nitrogen     T-Z-X-5   \n",
       "2                               80.0            Nitrogen    T-XY-X_1   \n",
       "3                               80.0            Nitrogen    T-XY-X_4   \n",
       "4                               80.0            Nitrogen    T-XY-Y_2   \n",
       "\n",
       "   Ultimate Tensile Strength (MPa)  Yield Strength (MPa)  \\\n",
       "0                           979.11                563.04   \n",
       "1                           892.86                531.30   \n",
       "2                           962.55                559.59   \n",
       "3                           962.55                561.66   \n",
       "4                           978.42                565.90   \n",
       "\n",
       "   Young's Modulus (GPa)  Reduction of Area (%)  \n",
       "0                 198.03                   29.0  \n",
       "1                 161.46                   53.0  \n",
       "2                 184.23                   28.0  \n",
       "3                 171.12                   25.0  \n",
       "4                 198.03                   28.0  "
      ],
      "text/html": "<div>\n<style scoped>\n    .dataframe tbody tr th:only-of-type {\n        vertical-align: middle;\n    }\n\n    .dataframe tbody tr th {\n        vertical-align: top;\n    }\n\n    .dataframe thead th {\n        text-align: right;\n    }\n</style>\n<table border=\"1\" class=\"dataframe\">\n  <thead>\n    <tr style=\"text-align: right;\">\n      <th></th>\n      <th>Build ID</th>\n      <th>Build Platform Pre-heated Temperature (deg C)</th>\n      <th>Maximal O2 Set (%)</th>\n      <th>Start Height (mm)</th>\n      <th>Final Height (mm)</th>\n      <th>Layer Thickness (mm)</th>\n      <th>Recoating Positive Speed (mm/sec)</th>\n      <th>Recoating Negative Speed (mm/sec)</th>\n      <th>Atmosphere Gas Type</th>\n      <th>Specimen ID</th>\n      <th>Ultimate Tensile Strength (MPa)</th>\n      <th>Yield Strength (MPa)</th>\n      <th>Young's Modulus (GPa)</th>\n      <th>Reduction of Area (%)</th>\n    </tr>\n  </thead>\n  <tbody>\n    <tr>\n      <th>0</th>\n      <td>EWI_JIP_625_NISTbuild</td>\n      <td>80.0</td>\n      <td>1.3</td>\n      <td>0.02</td>\n      <td>90.18</td>\n      <td>0.02</td>\n      <td>500.0</td>\n      <td>80.0</td>\n      <td>Nitrogen</td>\n      <td>T-XY-X_1</td>\n      <td>979.11</td>\n      <td>563.04</td>\n      <td>198.03</td>\n      <td>29.0</td>\n    </tr>\n    <tr>\n      <th>1</th>\n      <td>EWI_JIP_625_NISTbuild</td>\n      <td>80.0</td>\n      <td>1.3</td>\n      <td>0.02</td>\n      <td>90.18</td>\n      <td>0.02</td>\n      <td>500.0</td>\n      <td>80.0</td>\n      <td>Nitrogen</td>\n      <td>T-Z-X-5</td>\n      <td>892.86</td>\n      <td>531.30</td>\n      <td>161.46</td>\n      <td>53.0</td>\n    </tr>\n    <tr>\n      <th>2</th>\n      <td>EWI_JIP_625_NISTbuild</td>\n      <td>80.0</td>\n      <td>1.3</td>\n      <td>0.02</td>\n      <td>90.18</td>\n      <td>0.02</td>\n      <td>500.0</td>\n      <td>80.0</td>\n      <td>Nitrogen</td>\n      <td>T-XY-X_1</td>\n      <td>962.55</td>\n      <td>559.59</td>\n      <td>184.23</td>\n      <td>28.0</td>\n    </tr>\n    <tr>\n      <th>3</th>\n      <td>EWI_JIP_625_NISTbuild</td>\n      <td>80.0</td>\n      <td>1.3</td>\n      <td>0.02</td>\n      <td>90.18</td>\n      <td>0.02</td>\n      <td>500.0</td>\n      <td>80.0</td>\n      <td>Nitrogen</td>\n      <td>T-XY-X_4</td>\n      <td>962.55</td>\n      <td>561.66</td>\n      <td>171.12</td>\n      <td>25.0</td>\n    </tr>\n    <tr>\n      <th>4</th>\n      <td>EWI_JIP_625_NISTbuild</td>\n      <td>80.0</td>\n      <td>1.3</td>\n      <td>0.02</td>\n      <td>90.18</td>\n      <td>0.02</td>\n      <td>500.0</td>\n      <td>80.0</td>\n      <td>Nitrogen</td>\n      <td>T-XY-Y_2</td>\n      <td>978.42</td>\n      <td>565.90</td>\n      <td>198.03</td>\n      <td>28.0</td>\n    </tr>\n  </tbody>\n</table>\n</div>"
     },
     "metadata": {},
     "execution_count": 6
    }
   ],
   "source": [
    "try:\n",
    "    nist = nist.drop(columns=['ID_x', 'Project ID_x', 'ID_y', 'Project ID_y', 'Test Name', 'Test Filename', 'Tester',\n",
    "                              'Test Standards', 'Test Preparation', 'Test Time', 'Test Location'])\n",
    "except:\n",
    "    print('already dropped')\n",
    "\n",
    "print('shape:', nist.shape)\n",
    "print('colummns:', nist.columns.values)\n",
    "nist.head()"
   ]
  },
  {
   "cell_type": "code",
   "execution_count": 7,
   "metadata": {},
   "outputs": [
    {
     "output_type": "stream",
     "name": "stdout",
     "text": [
      "['Nitrogen' 'Argon' nan]\n"
     ]
    }
   ],
   "source": [
    "print(nist.iloc[:,8].unique())"
   ]
  }
 ],
 "metadata": {
  "interpreter": {
   "hash": "76cb93c2069d6dd32dd434bb04c7dd7d1ca6d4dd43d42c019947306608a90e43"
  },
  "kernelspec": {
   "name": "python3",
   "display_name": "Python 3.8.8 64-bit ('base': conda)"
  },
  "language_info": {
   "codemirror_mode": {
    "name": "ipython",
    "version": 3
   },
   "file_extension": ".py",
   "mimetype": "text/x-python",
   "name": "python",
   "nbconvert_exporter": "python",
   "pygments_lexer": "ipython3",
   "version": "3.8.8"
  }
 },
 "nbformat": 4,
 "nbformat_minor": 2
}