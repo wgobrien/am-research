{
 "cells": [
  {
   "cell_type": "code",
   "execution_count": 9,
   "id": "04e492e5",
   "metadata": {},
   "outputs": [],
   "source": [
    "import pandas as pd\n",
    "import numpy as np\n",
    "from sklearn import model_selection\n",
    "from sklearn.linear_model import LinearRegression"
   ]
  },
  {
   "cell_type": "code",
   "execution_count": 10,
   "id": "2ad72aaf",
   "metadata": {
    "scrolled": true
   },
   "outputs": [
    {
     "output_type": "execute_result",
     "data": {
      "text/plain": [
       "   ID  StudySample  LaserPowerHatch  LaserSpeedHatch  HatchSpacing  \\\n",
       "0   1  Plessis_1-1            280.0           1200.0          0.14   \n",
       "1   2  Plessis_1-2            252.0           1200.0          0.14   \n",
       "2   3  Plessis_1-3            224.0           1200.0          0.14   \n",
       "3   4  Plessis_1-4            197.0           1200.0          0.14   \n",
       "4   5  Plessis_1-5            308.0           1200.0          0.14   \n",
       "\n",
       "   LaserPowerContour  Porosity  LayerHeight  EnergyDensityCalculated  \\\n",
       "0              150.0     0.013         0.03                55.555556   \n",
       "1              135.0     0.008         0.03                50.000000   \n",
       "2              120.0     0.007         0.03                44.444444   \n",
       "3              105.0     0.045         0.03                39.087302   \n",
       "4              165.0     0.017         0.03                61.111111   \n",
       "\n",
       "    Machine                    Powder MicroCTScan  HatchOffsetFromCountour  \n",
       "0  EOS M290  EOS-supplied Ti6Al4V ELI         NaN                    0.015  \n",
       "1  EOS M290  EOS-supplied Ti6Al4V ELI         NaN                    0.015  \n",
       "2  EOS M290  EOS-supplied Ti6Al4V ELI         NaN                    0.015  \n",
       "3  EOS M290  EOS-supplied Ti6Al4V ELI         NaN                    0.015  \n",
       "4  EOS M290  EOS-supplied Ti6Al4V ELI         NaN                    0.015  "
      ],
      "text/html": "<div>\n<style scoped>\n    .dataframe tbody tr th:only-of-type {\n        vertical-align: middle;\n    }\n\n    .dataframe tbody tr th {\n        vertical-align: top;\n    }\n\n    .dataframe thead th {\n        text-align: right;\n    }\n</style>\n<table border=\"1\" class=\"dataframe\">\n  <thead>\n    <tr style=\"text-align: right;\">\n      <th></th>\n      <th>ID</th>\n      <th>StudySample</th>\n      <th>LaserPowerHatch</th>\n      <th>LaserSpeedHatch</th>\n      <th>HatchSpacing</th>\n      <th>LaserPowerContour</th>\n      <th>Porosity</th>\n      <th>LayerHeight</th>\n      <th>EnergyDensityCalculated</th>\n      <th>Machine</th>\n      <th>Powder</th>\n      <th>MicroCTScan</th>\n      <th>HatchOffsetFromCountour</th>\n    </tr>\n  </thead>\n  <tbody>\n    <tr>\n      <th>0</th>\n      <td>1</td>\n      <td>Plessis_1-1</td>\n      <td>280.0</td>\n      <td>1200.0</td>\n      <td>0.14</td>\n      <td>150.0</td>\n      <td>0.013</td>\n      <td>0.03</td>\n      <td>55.555556</td>\n      <td>EOS M290</td>\n      <td>EOS-supplied Ti6Al4V ELI</td>\n      <td>NaN</td>\n      <td>0.015</td>\n    </tr>\n    <tr>\n      <th>1</th>\n      <td>2</td>\n      <td>Plessis_1-2</td>\n      <td>252.0</td>\n      <td>1200.0</td>\n      <td>0.14</td>\n      <td>135.0</td>\n      <td>0.008</td>\n      <td>0.03</td>\n      <td>50.000000</td>\n      <td>EOS M290</td>\n      <td>EOS-supplied Ti6Al4V ELI</td>\n      <td>NaN</td>\n      <td>0.015</td>\n    </tr>\n    <tr>\n      <th>2</th>\n      <td>3</td>\n      <td>Plessis_1-3</td>\n      <td>224.0</td>\n      <td>1200.0</td>\n      <td>0.14</td>\n      <td>120.0</td>\n      <td>0.007</td>\n      <td>0.03</td>\n      <td>44.444444</td>\n      <td>EOS M290</td>\n      <td>EOS-supplied Ti6Al4V ELI</td>\n      <td>NaN</td>\n      <td>0.015</td>\n    </tr>\n    <tr>\n      <th>3</th>\n      <td>4</td>\n      <td>Plessis_1-4</td>\n      <td>197.0</td>\n      <td>1200.0</td>\n      <td>0.14</td>\n      <td>105.0</td>\n      <td>0.045</td>\n      <td>0.03</td>\n      <td>39.087302</td>\n      <td>EOS M290</td>\n      <td>EOS-supplied Ti6Al4V ELI</td>\n      <td>NaN</td>\n      <td>0.015</td>\n    </tr>\n    <tr>\n      <th>4</th>\n      <td>5</td>\n      <td>Plessis_1-5</td>\n      <td>308.0</td>\n      <td>1200.0</td>\n      <td>0.14</td>\n      <td>165.0</td>\n      <td>0.017</td>\n      <td>0.03</td>\n      <td>61.111111</td>\n      <td>EOS M290</td>\n      <td>EOS-supplied Ti6Al4V ELI</td>\n      <td>NaN</td>\n      <td>0.015</td>\n    </tr>\n  </tbody>\n</table>\n</div>"
     },
     "metadata": {},
     "execution_count": 10
    }
   ],
   "source": [
    "params = pd.read_csv(\"../data/interim/interim_data.csv\")\n",
    "params.head()"
   ]
  },
  {
   "cell_type": "code",
   "execution_count": 11,
   "id": "0184e2f0",
   "metadata": {},
   "outputs": [],
   "source": [
    "machine_title = params.Machine[0]\n",
    "alloy_title = params.Powder[0]"
   ]
  },
  {
   "cell_type": "code",
   "execution_count": 13,
   "id": "7afa0148",
   "metadata": {},
   "outputs": [
    {
     "output_type": "stream",
     "name": "stdout",
     "text": [
      "already dropped columns\n"
     ]
    },
    {
     "output_type": "execute_result",
     "data": {
      "text/plain": [
       "   LaserPowerHatch  LaserSpeedHatch  HatchSpacing  LaserPowerContour  \\\n",
       "0            280.0           1200.0          0.14              150.0   \n",
       "1            252.0           1200.0          0.14              135.0   \n",
       "2            224.0           1200.0          0.14              120.0   \n",
       "3            197.0           1200.0          0.14              105.0   \n",
       "4            308.0           1200.0          0.14              165.0   \n",
       "\n",
       "   EnergyDensityCalculated  Porosity  \n",
       "0                55.555556     0.013  \n",
       "1                50.000000     0.008  \n",
       "2                44.444444     0.007  \n",
       "3                39.087302     0.045  \n",
       "4                61.111111     0.017  "
      ],
      "text/html": "<div>\n<style scoped>\n    .dataframe tbody tr th:only-of-type {\n        vertical-align: middle;\n    }\n\n    .dataframe tbody tr th {\n        vertical-align: top;\n    }\n\n    .dataframe thead th {\n        text-align: right;\n    }\n</style>\n<table border=\"1\" class=\"dataframe\">\n  <thead>\n    <tr style=\"text-align: right;\">\n      <th></th>\n      <th>LaserPowerHatch</th>\n      <th>LaserSpeedHatch</th>\n      <th>HatchSpacing</th>\n      <th>LaserPowerContour</th>\n      <th>EnergyDensityCalculated</th>\n      <th>Porosity</th>\n    </tr>\n  </thead>\n  <tbody>\n    <tr>\n      <th>0</th>\n      <td>280.0</td>\n      <td>1200.0</td>\n      <td>0.14</td>\n      <td>150.0</td>\n      <td>55.555556</td>\n      <td>0.013</td>\n    </tr>\n    <tr>\n      <th>1</th>\n      <td>252.0</td>\n      <td>1200.0</td>\n      <td>0.14</td>\n      <td>135.0</td>\n      <td>50.000000</td>\n      <td>0.008</td>\n    </tr>\n    <tr>\n      <th>2</th>\n      <td>224.0</td>\n      <td>1200.0</td>\n      <td>0.14</td>\n      <td>120.0</td>\n      <td>44.444444</td>\n      <td>0.007</td>\n    </tr>\n    <tr>\n      <th>3</th>\n      <td>197.0</td>\n      <td>1200.0</td>\n      <td>0.14</td>\n      <td>105.0</td>\n      <td>39.087302</td>\n      <td>0.045</td>\n    </tr>\n    <tr>\n      <th>4</th>\n      <td>308.0</td>\n      <td>1200.0</td>\n      <td>0.14</td>\n      <td>165.0</td>\n      <td>61.111111</td>\n      <td>0.017</td>\n    </tr>\n  </tbody>\n</table>\n</div>"
     },
     "metadata": {},
     "execution_count": 13
    }
   ],
   "source": [
    "try:\n",
    "    params = params.drop([\"ID\",\"StudySample\",\"HatchOffsetFromCountour\", \"MicroCTScan\", \"LayerHeight\", \"Machine\", \"Powder\"], axis=1)\n",
    "    print(\"dropped columns\")\n",
    "except:\n",
    "    print(\"already dropped columns\")\n",
    "params = params[[\"LaserPowerHatch\",\"LaserSpeedHatch\",\"HatchSpacing\",\"LaserPowerContour\",\"EnergyDensityCalculated\",\"Porosity\"]]\n",
    "params.head()"
   ]
  },
  {
   "cell_type": "code",
   "execution_count": 14,
   "id": "982f2395",
   "metadata": {
    "scrolled": true
   },
   "outputs": [
    {
     "output_type": "execute_result",
     "data": {
      "text/plain": [
       "   index  LaserPowerHatch  LaserSpeedHatch  HatchSpacing  LaserPowerContour  \\\n",
       "0      6            364.0           1200.0          0.14              195.0   \n",
       "1     19            280.0            800.0          0.14              150.0   \n",
       "2     11            280.0           1200.0          0.17              150.0   \n",
       "3     20            320.0            800.0          0.14              171.0   \n",
       "4     17            200.0            800.0          0.14              107.0   \n",
       "\n",
       "   EnergyDensityCalculated  Porosity  \n",
       "0                72.222222     0.037  \n",
       "1                83.333333     0.179  \n",
       "2                45.751634     0.026  \n",
       "3                95.238095     0.199  \n",
       "4                59.523810     0.036  "
      ],
      "text/html": "<div>\n<style scoped>\n    .dataframe tbody tr th:only-of-type {\n        vertical-align: middle;\n    }\n\n    .dataframe tbody tr th {\n        vertical-align: top;\n    }\n\n    .dataframe thead th {\n        text-align: right;\n    }\n</style>\n<table border=\"1\" class=\"dataframe\">\n  <thead>\n    <tr style=\"text-align: right;\">\n      <th></th>\n      <th>index</th>\n      <th>LaserPowerHatch</th>\n      <th>LaserSpeedHatch</th>\n      <th>HatchSpacing</th>\n      <th>LaserPowerContour</th>\n      <th>EnergyDensityCalculated</th>\n      <th>Porosity</th>\n    </tr>\n  </thead>\n  <tbody>\n    <tr>\n      <th>0</th>\n      <td>6</td>\n      <td>364.0</td>\n      <td>1200.0</td>\n      <td>0.14</td>\n      <td>195.0</td>\n      <td>72.222222</td>\n      <td>0.037</td>\n    </tr>\n    <tr>\n      <th>1</th>\n      <td>19</td>\n      <td>280.0</td>\n      <td>800.0</td>\n      <td>0.14</td>\n      <td>150.0</td>\n      <td>83.333333</td>\n      <td>0.179</td>\n    </tr>\n    <tr>\n      <th>2</th>\n      <td>11</td>\n      <td>280.0</td>\n      <td>1200.0</td>\n      <td>0.17</td>\n      <td>150.0</td>\n      <td>45.751634</td>\n      <td>0.026</td>\n    </tr>\n    <tr>\n      <th>3</th>\n      <td>20</td>\n      <td>320.0</td>\n      <td>800.0</td>\n      <td>0.14</td>\n      <td>171.0</td>\n      <td>95.238095</td>\n      <td>0.199</td>\n    </tr>\n    <tr>\n      <th>4</th>\n      <td>17</td>\n      <td>200.0</td>\n      <td>800.0</td>\n      <td>0.14</td>\n      <td>107.0</td>\n      <td>59.523810</td>\n      <td>0.036</td>\n    </tr>\n  </tbody>\n</table>\n</div>"
     },
     "metadata": {},
     "execution_count": 14
    }
   ],
   "source": [
    "split_pct = .25\n",
    "seed = 100\n",
    "\n",
    "train_data = params.sample(frac=1-split_pct, random_state=seed).reset_index()\n",
    "test_data = params.drop(train_data.index).sample(frac=1, random_state=seed).reset_index()\n",
    "train_data.head()"
   ]
  },
  {
   "cell_type": "code",
   "execution_count": 51,
   "metadata": {},
   "outputs": [
    {
     "output_type": "stream",
     "name": "stdout",
     "text": [
      "-421.4221349530669\n"
     ]
    }
   ],
   "source": [
    "train_vals = train_data.values\n",
    "test_vals = test_data.values\n",
    "X = train_vals[:,-2].reshape(-1,1)\n",
    "y = train_vals[:,-1].reshape(-1, 1)\n",
    "\n",
    "Xtest = test_vals[:,-2].reshape(-1, 1)\n",
    "ytest = test_vals[:,-1].reshape(-1, 1)\n",
    "\n",
    "model2 = LinearRegression()\n",
    "model2.fit(X, y.T[0])\n",
    "\n",
    "print(model2.score(Xtest, ytest))"
   ]
  },
  {
   "cell_type": "code",
   "execution_count": 31,
   "metadata": {},
   "outputs": [
    {
     "output_type": "execute_result",
     "data": {
      "text/plain": [
       "[<matplotlib.lines.Line2D at 0x2132d8fbd90>,\n",
       " <matplotlib.lines.Line2D at 0x2132d8fbf10>,\n",
       " <matplotlib.lines.Line2D at 0x2132d8fbf70>,\n",
       " <matplotlib.lines.Line2D at 0x2132d8fb190>]"
      ]
     },
     "metadata": {},
     "execution_count": 31
    },
    {
     "output_type": "display_data",
     "data": {
      "text/plain": "<Figure size 432x288 with 1 Axes>",
      "image/svg+xml": "<?xml version=\"1.0\" encoding=\"utf-8\" standalone=\"no\"?>\r\n<!DOCTYPE svg PUBLIC \"-//W3C//DTD SVG 1.1//EN\"\r\n  \"http://www.w3.org/Graphics/SVG/1.1/DTD/svg11.dtd\">\r\n<!-- Created with matplotlib (https://matplotlib.org/) -->\r\n<svg height=\"248.518125pt\" version=\"1.1\" viewBox=\"0 0 368.925 248.518125\" width=\"368.925pt\" xmlns=\"http://www.w3.org/2000/svg\" xmlns:xlink=\"http://www.w3.org/1999/xlink\">\r\n <metadata>\r\n  <rdf:RDF xmlns:cc=\"http://creativecommons.org/ns#\" xmlns:dc=\"http://purl.org/dc/elements/1.1/\" xmlns:rdf=\"http://www.w3.org/1999/02/22-rdf-syntax-ns#\">\r\n   <cc:Work>\r\n    <dc:type rdf:resource=\"http://purl.org/dc/dcmitype/StillImage\"/>\r\n    <dc:date>2021-07-13T14:01:57.986486</dc:date>\r\n    <dc:format>image/svg+xml</dc:format>\r\n    <dc:creator>\r\n     <cc:Agent>\r\n      <dc:title>Matplotlib v3.3.4, https://matplotlib.org/</dc:title>\r\n     </cc:Agent>\r\n    </dc:creator>\r\n   </cc:Work>\r\n  </rdf:RDF>\r\n </metadata>\r\n <defs>\r\n  <style type=\"text/css\">*{stroke-linecap:butt;stroke-linejoin:round;}</style>\r\n </defs>\r\n <g id=\"figure_1\">\r\n  <g id=\"patch_1\">\r\n   <path d=\"M -0 248.518125 \r\nL 368.925 248.518125 \r\nL 368.925 0 \r\nL -0 0 \r\nz\r\n\" style=\"fill:none;\"/>\r\n  </g>\r\n  <g id=\"axes_1\">\r\n   <g id=\"patch_2\">\r\n    <path d=\"M 26.925 224.64 \r\nL 361.725 224.64 \r\nL 361.725 7.2 \r\nL 26.925 7.2 \r\nz\r\n\" style=\"fill:#ffffff;\"/>\r\n   </g>\r\n   <g id=\"PathCollection_1\">\r\n    <defs>\r\n     <path d=\"M 0 3 \r\nC 0.795609 3 1.55874 2.683901 2.12132 2.12132 \r\nC 2.683901 1.55874 3 0.795609 3 0 \r\nC 3 -0.795609 2.683901 -1.55874 2.12132 -2.12132 \r\nC 1.55874 -2.683901 0.795609 -3 0 -3 \r\nC -0.795609 -3 -1.55874 -2.683901 -2.12132 -2.12132 \r\nC -2.683901 -1.55874 -3 -0.795609 -3 0 \r\nC -3 0.795609 -2.683901 1.55874 -2.12132 2.12132 \r\nC -1.55874 2.683901 -0.795609 3 0 3 \r\nz\r\n\" id=\"mbb100ac0e6\" style=\"stroke:#1f77b4;\"/>\r\n    </defs>\r\n    <g clip-path=\"url(#p36d39b9e52)\">\r\n     <use style=\"fill:#1f77b4;stroke:#1f77b4;\" x=\"56.200222\" xlink:href=\"#mbb100ac0e6\" y=\"188.6502\"/>\r\n     <use style=\"fill:#1f77b4;stroke:#1f77b4;\" x=\"54.790966\" xlink:href=\"#mbb100ac0e6\" y=\"188.697367\"/>\r\n     <use style=\"fill:#1f77b4;stroke:#1f77b4;\" x=\"53.381711\" xlink:href=\"#mbb100ac0e6\" y=\"188.706801\"/>\r\n     <use style=\"fill:#1f77b4;stroke:#1f77b4;\" x=\"52.022786\" xlink:href=\"#mbb100ac0e6\" y=\"188.348329\"/>\r\n     <use style=\"fill:#1f77b4;stroke:#1f77b4;\" x=\"57.609477\" xlink:href=\"#mbb100ac0e6\" y=\"188.612466\"/>\r\n     <use style=\"fill:#1f77b4;stroke:#1f77b4;\" x=\"59.018732\" xlink:href=\"#mbb100ac0e6\" y=\"188.574732\"/>\r\n     <use style=\"fill:#1f77b4;stroke:#1f77b4;\" x=\"60.427988\" xlink:href=\"#mbb100ac0e6\" y=\"188.423797\"/>\r\n     <use style=\"fill:#1f77b4;stroke:#1f77b4;\" x=\"49.153945\" xlink:href=\"#mbb100ac0e6\" y=\"188.452097\"/>\r\n     <use style=\"fill:#1f77b4;stroke:#1f77b4;\" x=\"56.200222\" xlink:href=\"#mbb100ac0e6\" y=\"188.669067\"/>\r\n     <use style=\"fill:#1f77b4;stroke:#1f77b4;\" x=\"47.140723\" xlink:href=\"#mbb100ac0e6\" y=\"17.083636\"/>\r\n     <use style=\"fill:#1f77b4;stroke:#1f77b4;\" x=\"49.657251\" xlink:href=\"#mbb100ac0e6\" y=\"170.000225\"/>\r\n     <use style=\"fill:#1f77b4;stroke:#1f77b4;\" x=\"53.713301\" xlink:href=\"#mbb100ac0e6\" y=\"188.527565\"/>\r\n     <use style=\"fill:#1f77b4;stroke:#1f77b4;\" x=\"51.972456\" xlink:href=\"#mbb100ac0e6\" y=\"187.131411\"/>\r\n     <use style=\"fill:#1f77b4;stroke:#1f77b4;\" x=\"50.685744\" xlink:href=\"#mbb100ac0e6\" y=\"182.961816\"/>\r\n     <use style=\"fill:#1f77b4;stroke:#1f77b4;\" x=\"48.902292\" xlink:href=\"#mbb100ac0e6\" y=\"116.135097\"/>\r\n     <use style=\"fill:#1f77b4;stroke:#1f77b4;\" x=\"51.167167\" xlink:href=\"#mbb100ac0e6\" y=\"183.301421\"/>\r\n     <use style=\"fill:#1f77b4;stroke:#1f77b4;\" x=\"54.187\" xlink:href=\"#mbb100ac0e6\" y=\"188.640766\"/>\r\n     <use style=\"fill:#1f77b4;stroke:#1f77b4;\" x=\"57.206833\" xlink:href=\"#mbb100ac0e6\" y=\"188.43323\"/>\r\n     <use style=\"fill:#1f77b4;stroke:#1f77b4;\" x=\"60.226666\" xlink:href=\"#mbb100ac0e6\" y=\"187.744587\"/>\r\n     <use style=\"fill:#1f77b4;stroke:#1f77b4;\" x=\"63.246498\" xlink:href=\"#mbb100ac0e6\" y=\"187.084244\"/>\r\n     <use style=\"fill:#1f77b4;stroke:#1f77b4;\" x=\"66.266331\" xlink:href=\"#mbb100ac0e6\" y=\"186.895574\"/>\r\n     <use style=\"fill:#1f77b4;stroke:#1f77b4;\" x=\"69.286164\" xlink:href=\"#mbb100ac0e6\" y=\"185.68809\"/>\r\n     <use style=\"fill:#1f77b4;stroke:#1f77b4;\" x=\"56.200222\" xlink:href=\"#mbb100ac0e6\" y=\"188.669067\"/>\r\n    </g>\r\n   </g>\r\n   <g id=\"matplotlib.axis_1\">\r\n    <g id=\"xtick_1\">\r\n     <g id=\"line2d_1\">\r\n      <defs>\r\n       <path d=\"M 0 0 \r\nL 0 3.5 \r\n\" id=\"m15068703a7\" style=\"stroke:#000000;stroke-width:0.8;\"/>\r\n      </defs>\r\n      <g>\r\n       <use style=\"stroke:#000000;stroke-width:0.8;\" x=\"42.107669\" xlink:href=\"#m15068703a7\" y=\"224.64\"/>\r\n      </g>\r\n     </g>\r\n     <g id=\"text_1\">\r\n      <!-- 0 -->\r\n      <g transform=\"translate(38.926419 239.238437)scale(0.1 -0.1)\">\r\n       <defs>\r\n        <path d=\"M 31.78125 66.40625 \r\nQ 24.171875 66.40625 20.328125 58.90625 \r\nQ 16.5 51.421875 16.5 36.375 \r\nQ 16.5 21.390625 20.328125 13.890625 \r\nQ 24.171875 6.390625 31.78125 6.390625 \r\nQ 39.453125 6.390625 43.28125 13.890625 \r\nQ 47.125 21.390625 47.125 36.375 \r\nQ 47.125 51.421875 43.28125 58.90625 \r\nQ 39.453125 66.40625 31.78125 66.40625 \r\nz\r\nM 31.78125 74.21875 \r\nQ 44.046875 74.21875 50.515625 64.515625 \r\nQ 56.984375 54.828125 56.984375 36.375 \r\nQ 56.984375 17.96875 50.515625 8.265625 \r\nQ 44.046875 -1.421875 31.78125 -1.421875 \r\nQ 19.53125 -1.421875 13.0625 8.265625 \r\nQ 6.59375 17.96875 6.59375 36.375 \r\nQ 6.59375 54.828125 13.0625 64.515625 \r\nQ 19.53125 74.21875 31.78125 74.21875 \r\nz\r\n\" id=\"DejaVuSans-48\"/>\r\n       </defs>\r\n       <use xlink:href=\"#DejaVuSans-48\"/>\r\n      </g>\r\n     </g>\r\n    </g>\r\n    <g id=\"xtick_2\">\r\n     <g id=\"line2d_2\">\r\n      <g>\r\n       <use style=\"stroke:#000000;stroke-width:0.8;\" x=\"92.84086\" xlink:href=\"#m15068703a7\" y=\"224.64\"/>\r\n      </g>\r\n     </g>\r\n     <g id=\"text_2\">\r\n      <!-- 200 -->\r\n      <g transform=\"translate(83.29711 239.238437)scale(0.1 -0.1)\">\r\n       <defs>\r\n        <path d=\"M 19.1875 8.296875 \r\nL 53.609375 8.296875 \r\nL 53.609375 0 \r\nL 7.328125 0 \r\nL 7.328125 8.296875 \r\nQ 12.9375 14.109375 22.625 23.890625 \r\nQ 32.328125 33.6875 34.8125 36.53125 \r\nQ 39.546875 41.84375 41.421875 45.53125 \r\nQ 43.3125 49.21875 43.3125 52.78125 \r\nQ 43.3125 58.59375 39.234375 62.25 \r\nQ 35.15625 65.921875 28.609375 65.921875 \r\nQ 23.96875 65.921875 18.8125 64.3125 \r\nQ 13.671875 62.703125 7.8125 59.421875 \r\nL 7.8125 69.390625 \r\nQ 13.765625 71.78125 18.9375 73 \r\nQ 24.125 74.21875 28.421875 74.21875 \r\nQ 39.75 74.21875 46.484375 68.546875 \r\nQ 53.21875 62.890625 53.21875 53.421875 \r\nQ 53.21875 48.921875 51.53125 44.890625 \r\nQ 49.859375 40.875 45.40625 35.40625 \r\nQ 44.1875 33.984375 37.640625 27.21875 \r\nQ 31.109375 20.453125 19.1875 8.296875 \r\nz\r\n\" id=\"DejaVuSans-50\"/>\r\n       </defs>\r\n       <use xlink:href=\"#DejaVuSans-50\"/>\r\n       <use x=\"63.623047\" xlink:href=\"#DejaVuSans-48\"/>\r\n       <use x=\"127.246094\" xlink:href=\"#DejaVuSans-48\"/>\r\n      </g>\r\n     </g>\r\n    </g>\r\n    <g id=\"xtick_3\">\r\n     <g id=\"line2d_3\">\r\n      <g>\r\n       <use style=\"stroke:#000000;stroke-width:0.8;\" x=\"143.574052\" xlink:href=\"#m15068703a7\" y=\"224.64\"/>\r\n      </g>\r\n     </g>\r\n     <g id=\"text_3\">\r\n      <!-- 400 -->\r\n      <g transform=\"translate(134.030302 239.238437)scale(0.1 -0.1)\">\r\n       <defs>\r\n        <path d=\"M 37.796875 64.3125 \r\nL 12.890625 25.390625 \r\nL 37.796875 25.390625 \r\nz\r\nM 35.203125 72.90625 \r\nL 47.609375 72.90625 \r\nL 47.609375 25.390625 \r\nL 58.015625 25.390625 \r\nL 58.015625 17.1875 \r\nL 47.609375 17.1875 \r\nL 47.609375 0 \r\nL 37.796875 0 \r\nL 37.796875 17.1875 \r\nL 4.890625 17.1875 \r\nL 4.890625 26.703125 \r\nz\r\n\" id=\"DejaVuSans-52\"/>\r\n       </defs>\r\n       <use xlink:href=\"#DejaVuSans-52\"/>\r\n       <use x=\"63.623047\" xlink:href=\"#DejaVuSans-48\"/>\r\n       <use x=\"127.246094\" xlink:href=\"#DejaVuSans-48\"/>\r\n      </g>\r\n     </g>\r\n    </g>\r\n    <g id=\"xtick_4\">\r\n     <g id=\"line2d_4\">\r\n      <g>\r\n       <use style=\"stroke:#000000;stroke-width:0.8;\" x=\"194.307243\" xlink:href=\"#m15068703a7\" y=\"224.64\"/>\r\n      </g>\r\n     </g>\r\n     <g id=\"text_4\">\r\n      <!-- 600 -->\r\n      <g transform=\"translate(184.763493 239.238437)scale(0.1 -0.1)\">\r\n       <defs>\r\n        <path d=\"M 33.015625 40.375 \r\nQ 26.375 40.375 22.484375 35.828125 \r\nQ 18.609375 31.296875 18.609375 23.390625 \r\nQ 18.609375 15.53125 22.484375 10.953125 \r\nQ 26.375 6.390625 33.015625 6.390625 \r\nQ 39.65625 6.390625 43.53125 10.953125 \r\nQ 47.40625 15.53125 47.40625 23.390625 \r\nQ 47.40625 31.296875 43.53125 35.828125 \r\nQ 39.65625 40.375 33.015625 40.375 \r\nz\r\nM 52.59375 71.296875 \r\nL 52.59375 62.3125 \r\nQ 48.875 64.0625 45.09375 64.984375 \r\nQ 41.3125 65.921875 37.59375 65.921875 \r\nQ 27.828125 65.921875 22.671875 59.328125 \r\nQ 17.53125 52.734375 16.796875 39.40625 \r\nQ 19.671875 43.65625 24.015625 45.921875 \r\nQ 28.375 48.1875 33.59375 48.1875 \r\nQ 44.578125 48.1875 50.953125 41.515625 \r\nQ 57.328125 34.859375 57.328125 23.390625 \r\nQ 57.328125 12.15625 50.6875 5.359375 \r\nQ 44.046875 -1.421875 33.015625 -1.421875 \r\nQ 20.359375 -1.421875 13.671875 8.265625 \r\nQ 6.984375 17.96875 6.984375 36.375 \r\nQ 6.984375 53.65625 15.1875 63.9375 \r\nQ 23.390625 74.21875 37.203125 74.21875 \r\nQ 40.921875 74.21875 44.703125 73.484375 \r\nQ 48.484375 72.75 52.59375 71.296875 \r\nz\r\n\" id=\"DejaVuSans-54\"/>\r\n       </defs>\r\n       <use xlink:href=\"#DejaVuSans-54\"/>\r\n       <use x=\"63.623047\" xlink:href=\"#DejaVuSans-48\"/>\r\n       <use x=\"127.246094\" xlink:href=\"#DejaVuSans-48\"/>\r\n      </g>\r\n     </g>\r\n    </g>\r\n    <g id=\"xtick_5\">\r\n     <g id=\"line2d_5\">\r\n      <g>\r\n       <use style=\"stroke:#000000;stroke-width:0.8;\" x=\"245.040435\" xlink:href=\"#m15068703a7\" y=\"224.64\"/>\r\n      </g>\r\n     </g>\r\n     <g id=\"text_5\">\r\n      <!-- 800 -->\r\n      <g transform=\"translate(235.496685 239.238437)scale(0.1 -0.1)\">\r\n       <defs>\r\n        <path d=\"M 31.78125 34.625 \r\nQ 24.75 34.625 20.71875 30.859375 \r\nQ 16.703125 27.09375 16.703125 20.515625 \r\nQ 16.703125 13.921875 20.71875 10.15625 \r\nQ 24.75 6.390625 31.78125 6.390625 \r\nQ 38.8125 6.390625 42.859375 10.171875 \r\nQ 46.921875 13.96875 46.921875 20.515625 \r\nQ 46.921875 27.09375 42.890625 30.859375 \r\nQ 38.875 34.625 31.78125 34.625 \r\nz\r\nM 21.921875 38.8125 \r\nQ 15.578125 40.375 12.03125 44.71875 \r\nQ 8.5 49.078125 8.5 55.328125 \r\nQ 8.5 64.0625 14.71875 69.140625 \r\nQ 20.953125 74.21875 31.78125 74.21875 \r\nQ 42.671875 74.21875 48.875 69.140625 \r\nQ 55.078125 64.0625 55.078125 55.328125 \r\nQ 55.078125 49.078125 51.53125 44.71875 \r\nQ 48 40.375 41.703125 38.8125 \r\nQ 48.828125 37.15625 52.796875 32.3125 \r\nQ 56.78125 27.484375 56.78125 20.515625 \r\nQ 56.78125 9.90625 50.3125 4.234375 \r\nQ 43.84375 -1.421875 31.78125 -1.421875 \r\nQ 19.734375 -1.421875 13.25 4.234375 \r\nQ 6.78125 9.90625 6.78125 20.515625 \r\nQ 6.78125 27.484375 10.78125 32.3125 \r\nQ 14.796875 37.15625 21.921875 38.8125 \r\nz\r\nM 18.3125 54.390625 \r\nQ 18.3125 48.734375 21.84375 45.5625 \r\nQ 25.390625 42.390625 31.78125 42.390625 \r\nQ 38.140625 42.390625 41.71875 45.5625 \r\nQ 45.3125 48.734375 45.3125 54.390625 \r\nQ 45.3125 60.0625 41.71875 63.234375 \r\nQ 38.140625 66.40625 31.78125 66.40625 \r\nQ 25.390625 66.40625 21.84375 63.234375 \r\nQ 18.3125 60.0625 18.3125 54.390625 \r\nz\r\n\" id=\"DejaVuSans-56\"/>\r\n       </defs>\r\n       <use xlink:href=\"#DejaVuSans-56\"/>\r\n       <use x=\"63.623047\" xlink:href=\"#DejaVuSans-48\"/>\r\n       <use x=\"127.246094\" xlink:href=\"#DejaVuSans-48\"/>\r\n      </g>\r\n     </g>\r\n    </g>\r\n    <g id=\"xtick_6\">\r\n     <g id=\"line2d_6\">\r\n      <g>\r\n       <use style=\"stroke:#000000;stroke-width:0.8;\" x=\"295.773627\" xlink:href=\"#m15068703a7\" y=\"224.64\"/>\r\n      </g>\r\n     </g>\r\n     <g id=\"text_6\">\r\n      <!-- 1000 -->\r\n      <g transform=\"translate(283.048627 239.238437)scale(0.1 -0.1)\">\r\n       <defs>\r\n        <path d=\"M 12.40625 8.296875 \r\nL 28.515625 8.296875 \r\nL 28.515625 63.921875 \r\nL 10.984375 60.40625 \r\nL 10.984375 69.390625 \r\nL 28.421875 72.90625 \r\nL 38.28125 72.90625 \r\nL 38.28125 8.296875 \r\nL 54.390625 8.296875 \r\nL 54.390625 0 \r\nL 12.40625 0 \r\nz\r\n\" id=\"DejaVuSans-49\"/>\r\n       </defs>\r\n       <use xlink:href=\"#DejaVuSans-49\"/>\r\n       <use x=\"63.623047\" xlink:href=\"#DejaVuSans-48\"/>\r\n       <use x=\"127.246094\" xlink:href=\"#DejaVuSans-48\"/>\r\n       <use x=\"190.869141\" xlink:href=\"#DejaVuSans-48\"/>\r\n      </g>\r\n     </g>\r\n    </g>\r\n    <g id=\"xtick_7\">\r\n     <g id=\"line2d_7\">\r\n      <g>\r\n       <use style=\"stroke:#000000;stroke-width:0.8;\" x=\"346.506818\" xlink:href=\"#m15068703a7\" y=\"224.64\"/>\r\n      </g>\r\n     </g>\r\n     <g id=\"text_7\">\r\n      <!-- 1200 -->\r\n      <g transform=\"translate(333.781818 239.238437)scale(0.1 -0.1)\">\r\n       <use xlink:href=\"#DejaVuSans-49\"/>\r\n       <use x=\"63.623047\" xlink:href=\"#DejaVuSans-50\"/>\r\n       <use x=\"127.246094\" xlink:href=\"#DejaVuSans-48\"/>\r\n       <use x=\"190.869141\" xlink:href=\"#DejaVuSans-48\"/>\r\n      </g>\r\n     </g>\r\n    </g>\r\n   </g>\r\n   <g id=\"matplotlib.axis_2\">\r\n    <g id=\"ytick_1\">\r\n     <g id=\"line2d_8\">\r\n      <defs>\r\n       <path d=\"M 0 0 \r\nL -3.5 0 \r\n\" id=\"m2c13c7b2df\" style=\"stroke:#000000;stroke-width:0.8;\"/>\r\n      </defs>\r\n      <g>\r\n       <use style=\"stroke:#000000;stroke-width:0.8;\" x=\"26.925\" xlink:href=\"#m2c13c7b2df\" y=\"188.772835\"/>\r\n      </g>\r\n     </g>\r\n     <g id=\"text_8\">\r\n      <!-- 0 -->\r\n      <g transform=\"translate(13.5625 192.572054)scale(0.1 -0.1)\">\r\n       <use xlink:href=\"#DejaVuSans-48\"/>\r\n      </g>\r\n     </g>\r\n    </g>\r\n    <g id=\"ytick_2\">\r\n     <g id=\"line2d_9\">\r\n      <g>\r\n       <use style=\"stroke:#000000;stroke-width:0.8;\" x=\"26.925\" xlink:href=\"#m2c13c7b2df\" y=\"141.605473\"/>\r\n      </g>\r\n     </g>\r\n     <g id=\"text_9\">\r\n      <!-- 5 -->\r\n      <g transform=\"translate(13.5625 145.404692)scale(0.1 -0.1)\">\r\n       <defs>\r\n        <path d=\"M 10.796875 72.90625 \r\nL 49.515625 72.90625 \r\nL 49.515625 64.59375 \r\nL 19.828125 64.59375 \r\nL 19.828125 46.734375 \r\nQ 21.96875 47.46875 24.109375 47.828125 \r\nQ 26.265625 48.1875 28.421875 48.1875 \r\nQ 40.625 48.1875 47.75 41.5 \r\nQ 54.890625 34.8125 54.890625 23.390625 \r\nQ 54.890625 11.625 47.5625 5.09375 \r\nQ 40.234375 -1.421875 26.90625 -1.421875 \r\nQ 22.3125 -1.421875 17.546875 -0.640625 \r\nQ 12.796875 0.140625 7.71875 1.703125 \r\nL 7.71875 11.625 \r\nQ 12.109375 9.234375 16.796875 8.0625 \r\nQ 21.484375 6.890625 26.703125 6.890625 \r\nQ 35.15625 6.890625 40.078125 11.328125 \r\nQ 45.015625 15.765625 45.015625 23.390625 \r\nQ 45.015625 31 40.078125 35.4375 \r\nQ 35.15625 39.890625 26.703125 39.890625 \r\nQ 22.75 39.890625 18.8125 39.015625 \r\nQ 14.890625 38.140625 10.796875 36.28125 \r\nz\r\n\" id=\"DejaVuSans-53\"/>\r\n       </defs>\r\n       <use xlink:href=\"#DejaVuSans-53\"/>\r\n      </g>\r\n     </g>\r\n    </g>\r\n    <g id=\"ytick_3\">\r\n     <g id=\"line2d_10\">\r\n      <g>\r\n       <use style=\"stroke:#000000;stroke-width:0.8;\" x=\"26.925\" xlink:href=\"#m2c13c7b2df\" y=\"94.438111\"/>\r\n      </g>\r\n     </g>\r\n     <g id=\"text_10\">\r\n      <!-- 10 -->\r\n      <g transform=\"translate(7.2 98.237329)scale(0.1 -0.1)\">\r\n       <use xlink:href=\"#DejaVuSans-49\"/>\r\n       <use x=\"63.623047\" xlink:href=\"#DejaVuSans-48\"/>\r\n      </g>\r\n     </g>\r\n    </g>\r\n    <g id=\"ytick_4\">\r\n     <g id=\"line2d_11\">\r\n      <g>\r\n       <use style=\"stroke:#000000;stroke-width:0.8;\" x=\"26.925\" xlink:href=\"#m2c13c7b2df\" y=\"47.270748\"/>\r\n      </g>\r\n     </g>\r\n     <g id=\"text_11\">\r\n      <!-- 15 -->\r\n      <g transform=\"translate(7.2 51.069967)scale(0.1 -0.1)\">\r\n       <use xlink:href=\"#DejaVuSans-49\"/>\r\n       <use x=\"63.623047\" xlink:href=\"#DejaVuSans-53\"/>\r\n      </g>\r\n     </g>\r\n    </g>\r\n   </g>\r\n   <g id=\"line2d_12\">\r\n    <path clip-path=\"url(#p36d39b9e52)\" d=\"M 134.442077 214.756364 \r\nL 113.134137 213.425293 \r\nL 113.134137 178.889846 \r\nL 123.280775 206.346855 \r\nL 92.84086 165.889577 \r\nL 113.134137 183.681941 \r\nL 67.474264 85.650167 \r\nL 133.427413 199.268416 \r\nL 120.236784 187.650622 \r\nL 113.134137 174.097751 \r\nL 113.134137 174.097751 \r\nL 106.03149 160.54488 \r\nL 113.134137 188.474036 \r\nL 64.937605 108.239542 \r\nL 102.987499 158.811138 \r\nL 127.33943 201.203493 \r\nL 98.928843 146.992009 \r\n\" style=\"fill:none;stroke:#1f77b4;stroke-linecap:square;stroke-width:1.5;\"/>\r\n   </g>\r\n   <g id=\"line2d_13\">\r\n    <path clip-path=\"url(#p36d39b9e52)\" d=\"M 346.506818 214.756364 \r\nL 245.040435 213.425293 \r\nL 346.506818 178.889846 \r\nL 245.040435 206.346855 \r\nL 245.040435 165.889577 \r\nL 346.506818 183.681941 \r\nL 346.506818 85.650167 \r\nL 245.040435 199.268416 \r\nL 346.506818 187.650622 \r\nL 346.506818 174.097751 \r\nL 346.506818 174.097751 \r\nL 346.506818 160.54488 \r\nL 346.506818 188.474036 \r\nL 245.040435 108.239542 \r\nL 245.040435 158.811138 \r\nL 346.506818 201.203493 \r\nL 346.506818 146.992009 \r\n\" style=\"fill:none;stroke:#ff7f0e;stroke-linecap:square;stroke-width:1.5;\"/>\r\n   </g>\r\n   <g id=\"line2d_14\">\r\n    <path clip-path=\"url(#p36d39b9e52)\" d=\"M 42.143182 214.756364 \r\nL 42.143182 213.425293 \r\nL 42.150792 178.889846 \r\nL 42.143182 206.346855 \r\nL 42.143182 165.889577 \r\nL 42.158402 183.681941 \r\nL 42.143182 85.650167 \r\nL 42.143182 199.268416 \r\nL 42.143182 187.650622 \r\nL 42.143182 174.097751 \r\nL 42.143182 174.097751 \r\nL 42.143182 160.54488 \r\nL 42.166012 188.474036 \r\nL 42.143182 108.239542 \r\nL 42.143182 158.811138 \r\nL 42.143182 201.203493 \r\nL 42.143182 146.992009 \r\n\" style=\"fill:none;stroke:#2ca02c;stroke-linecap:square;stroke-width:1.5;\"/>\r\n   </g>\r\n   <g id=\"line2d_15\">\r\n    <path clip-path=\"url(#p36d39b9e52)\" d=\"M 91.57253 214.756364 \r\nL 80.157562 213.425293 \r\nL 80.157562 178.889846 \r\nL 85.484547 206.346855 \r\nL 69.249926 165.889577 \r\nL 80.157562 183.681941 \r\nL 55.691481 85.650167 \r\nL 90.811533 199.268416 \r\nL 83.962552 187.650622 \r\nL 80.157562 174.097751 \r\nL 80.157562 174.097751 \r\nL 76.352573 160.54488 \r\nL 80.157562 188.474036 \r\nL 54.283635 108.239542 \r\nL 74.576911 158.811138 \r\nL 87.767541 201.203493 \r\nL 72.547584 146.992009 \r\n\" style=\"fill:none;stroke:#d62728;stroke-linecap:square;stroke-width:1.5;\"/>\r\n   </g>\r\n   <g id=\"patch_3\">\r\n    <path d=\"M 26.925 224.64 \r\nL 26.925 7.2 \r\n\" style=\"fill:none;stroke:#000000;stroke-linecap:square;stroke-linejoin:miter;stroke-width:0.8;\"/>\r\n   </g>\r\n   <g id=\"patch_4\">\r\n    <path d=\"M 361.725 224.64 \r\nL 361.725 7.2 \r\n\" style=\"fill:none;stroke:#000000;stroke-linecap:square;stroke-linejoin:miter;stroke-width:0.8;\"/>\r\n   </g>\r\n   <g id=\"patch_5\">\r\n    <path d=\"M 26.925 224.64 \r\nL 361.725 224.64 \r\n\" style=\"fill:none;stroke:#000000;stroke-linecap:square;stroke-linejoin:miter;stroke-width:0.8;\"/>\r\n   </g>\r\n   <g id=\"patch_6\">\r\n    <path d=\"M 26.925 7.2 \r\nL 361.725 7.2 \r\n\" style=\"fill:none;stroke:#000000;stroke-linecap:square;stroke-linejoin:miter;stroke-width:0.8;\"/>\r\n   </g>\r\n  </g>\r\n </g>\r\n <defs>\r\n  <clipPath id=\"p36d39b9e52\">\r\n   <rect height=\"217.44\" width=\"334.8\" x=\"26.925\" y=\"7.2\"/>\r\n  </clipPath>\r\n </defs>\r\n</svg>\r\n",
      "image/png": "[encoded data removed]"
     },
     "metadata": {
      "needs_background": "light"
     }
    }
   ],
   "source": [
    "import matplotlib.pyplot as plt\n",
    "\n",
    "plt.scatter(params.EnergyDensityCalculated, params.Porosity)\n",
    "plt.plot(X, model2.predict(X))"
   ]
  },
  {
   "cell_type": "code",
   "execution_count": 52,
   "metadata": {},
   "outputs": [
    {
     "output_type": "execute_result",
     "data": {
      "text/plain": [
       "array([[0.109],\n",
       "       [0.179],\n",
       "       [0.327],\n",
       "       [0.199],\n",
       "       [0.011],\n",
       "       [0.036]])"
      ]
     },
     "metadata": {},
     "execution_count": 52
    }
   ],
   "source": [
    "ytest"
   ]
  },
  {
   "cell_type": "code",
   "execution_count": 59,
   "metadata": {},
   "outputs": [
    {
     "output_type": "execute_result",
     "data": {
      "text/plain": [
       "-193.61101556072234"
      ]
     },
     "metadata": {},
     "execution_count": 59
    }
   ],
   "source": [
    "from sklearn.neural_network import MLPRegressor\n",
    "from sklearn import svm\n",
    "\n",
    "svr_model1 = svm.SVR(kernel='poly', degree=2)\n",
    "svr_model1.fit(X, y.T[0])\n",
    "\n",
    "mlp_regressor = MLPRegressor(hidden_layer_sizes=(3,3), solver='lbfgs')\n",
    "mlp_regressor.fit(X, y.T[0])\n",
    "\n",
    "mlp_regressor.score(Xtest,ytest.T[0])"
   ]
  },
  {
   "cell_type": "code",
   "execution_count": 61,
   "metadata": {},
   "outputs": [
    {
     "output_type": "execute_result",
     "data": {
      "text/plain": [
       "array([[3.640e+02, 1.200e+03, 1.400e-01, 1.950e+02],\n",
       "       [2.800e+02, 8.000e+02, 1.400e-01, 1.500e+02],\n",
       "       [2.800e+02, 1.200e+03, 1.700e-01, 1.500e+02],\n",
       "       [3.200e+02, 8.000e+02, 1.400e-01, 1.710e+02],\n",
       "       [2.000e+02, 8.000e+02, 1.400e-01, 1.070e+02],\n",
       "       [2.800e+02, 1.200e+03, 2.000e-01, 1.500e+02],\n",
       "       [1.000e+02, 1.200e+03, 1.400e-01, 5.355e+01],\n",
       "       [3.600e+02, 8.000e+02, 1.400e-01, 1.920e+02],\n",
       "       [3.080e+02, 1.200e+03, 1.400e-01, 1.650e+02],\n",
       "       [2.800e+02, 1.200e+03, 1.400e-01, 1.500e+02],\n",
       "       [2.800e+02, 1.200e+03, 1.400e-01, 1.500e+02],\n",
       "       [2.520e+02, 1.200e+03, 1.400e-01, 1.350e+02],\n",
       "       [2.800e+02, 1.200e+03, 2.300e-01, 1.500e+02],\n",
       "       [9.000e+01, 8.000e+02, 1.400e-01, 4.800e+01],\n",
       "       [2.400e+02, 8.000e+02, 1.400e-01, 1.280e+02],\n",
       "       [3.360e+02, 1.200e+03, 1.400e-01, 1.800e+02],\n",
       "       [2.240e+02, 1.200e+03, 1.400e-01, 1.200e+02]])"
      ]
     },
     "metadata": {},
     "execution_count": 61
    }
   ],
   "source": [
    "train_vals[:,1:-2]"
   ]
  },
  {
   "cell_type": "code",
   "execution_count": null,
   "metadata": {},
   "outputs": [],
   "source": []
  }
 ],
 "metadata": {
  "kernelspec": {
   "name": "python3",
   "display_name": "Python 3.8.8 64-bit ('base': conda)"
  },
  "language_info": {
   "codemirror_mode": {
    "name": "ipython",
    "version": 3
   },
   "file_extension": ".py",
   "mimetype": "text/x-python",
   "name": "python",
   "nbconvert_exporter": "python",
   "pygments_lexer": "ipython3",
   "version": "3.8.8"
  },
  "interpreter": {
   "hash": "76cb93c2069d6dd32dd434bb04c7dd7d1ca6d4dd43d42c019947306608a90e43"
  }
 },
 "nbformat": 4,
 "nbformat_minor": 5
}