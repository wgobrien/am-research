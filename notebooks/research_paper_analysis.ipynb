{
 "cells": [
  {
   "cell_type": "code",
   "execution_count": 9,
   "id": "04e492e5",
   "metadata": {},
   "outputs": [],
   "source": [
    "import pandas as pd\n",
    "import numpy as np\n",
    "from sklearn import model_selection\n",
    "from sklearn.linear_model import LinearRegression"
   ]
  },
  {
   "cell_type": "code",
   "execution_count": 68,
   "id": "2ad72aaf",
   "metadata": {
    "scrolled": true
   },
   "outputs": [
    {
     "output_type": "execute_result",
     "data": {
      "text/plain": [
       "   ID  StudySample  LaserPowerHatch  LaserSpeedHatch  HatchSpacing  \\\n",
       "0   1  Plessis_1-1            280.0           1200.0          0.14   \n",
       "1   2  Plessis_1-2            252.0           1200.0          0.14   \n",
       "2   3  Plessis_1-3            224.0           1200.0          0.14   \n",
       "3   4  Plessis_1-4            197.0           1200.0          0.14   \n",
       "4   5  Plessis_1-5            308.0           1200.0          0.14   \n",
       "\n",
       "   LaserPowerContour  Porosity  LayerHeight  EnergyDensityCalculated  \\\n",
       "0              150.0     0.013         0.03                55.555556   \n",
       "1              135.0     0.008         0.03                50.000000   \n",
       "2              120.0     0.007         0.03                44.444444   \n",
       "3              105.0     0.045         0.03                39.087302   \n",
       "4              165.0     0.017         0.03                61.111111   \n",
       "\n",
       "    Machine                    Powder MicroCTScan  HatchOffsetFromCountour  \n",
       "0  EOS M290  EOS-supplied Ti6Al4V ELI         NaN                    0.015  \n",
       "1  EOS M290  EOS-supplied Ti6Al4V ELI         NaN                    0.015  \n",
       "2  EOS M290  EOS-supplied Ti6Al4V ELI         NaN                    0.015  \n",
       "3  EOS M290  EOS-supplied Ti6Al4V ELI         NaN                    0.015  \n",
       "4  EOS M290  EOS-supplied Ti6Al4V ELI         NaN                    0.015  "
      ],
      "text/html": "<div>\n<style scoped>\n    .dataframe tbody tr th:only-of-type {\n        vertical-align: middle;\n    }\n\n    .dataframe tbody tr th {\n        vertical-align: top;\n    }\n\n    .dataframe thead th {\n        text-align: right;\n    }\n</style>\n<table border=\"1\" class=\"dataframe\">\n  <thead>\n    <tr style=\"text-align: right;\">\n      <th></th>\n      <th>ID</th>\n      <th>StudySample</th>\n      <th>LaserPowerHatch</th>\n      <th>LaserSpeedHatch</th>\n      <th>HatchSpacing</th>\n      <th>LaserPowerContour</th>\n      <th>Porosity</th>\n      <th>LayerHeight</th>\n      <th>EnergyDensityCalculated</th>\n      <th>Machine</th>\n      <th>Powder</th>\n      <th>MicroCTScan</th>\n      <th>HatchOffsetFromCountour</th>\n    </tr>\n  </thead>\n  <tbody>\n    <tr>\n      <th>0</th>\n      <td>1</td>\n      <td>Plessis_1-1</td>\n      <td>280.0</td>\n      <td>1200.0</td>\n      <td>0.14</td>\n      <td>150.0</td>\n      <td>0.013</td>\n      <td>0.03</td>\n      <td>55.555556</td>\n      <td>EOS M290</td>\n      <td>EOS-supplied Ti6Al4V ELI</td>\n      <td>NaN</td>\n      <td>0.015</td>\n    </tr>\n    <tr>\n      <th>1</th>\n      <td>2</td>\n      <td>Plessis_1-2</td>\n      <td>252.0</td>\n      <td>1200.0</td>\n      <td>0.14</td>\n      <td>135.0</td>\n      <td>0.008</td>\n      <td>0.03</td>\n      <td>50.000000</td>\n      <td>EOS M290</td>\n      <td>EOS-supplied Ti6Al4V ELI</td>\n      <td>NaN</td>\n      <td>0.015</td>\n    </tr>\n    <tr>\n      <th>2</th>\n      <td>3</td>\n      <td>Plessis_1-3</td>\n      <td>224.0</td>\n      <td>1200.0</td>\n      <td>0.14</td>\n      <td>120.0</td>\n      <td>0.007</td>\n      <td>0.03</td>\n      <td>44.444444</td>\n      <td>EOS M290</td>\n      <td>EOS-supplied Ti6Al4V ELI</td>\n      <td>NaN</td>\n      <td>0.015</td>\n    </tr>\n    <tr>\n      <th>3</th>\n      <td>4</td>\n      <td>Plessis_1-4</td>\n      <td>197.0</td>\n      <td>1200.0</td>\n      <td>0.14</td>\n      <td>105.0</td>\n      <td>0.045</td>\n      <td>0.03</td>\n      <td>39.087302</td>\n      <td>EOS M290</td>\n      <td>EOS-supplied Ti6Al4V ELI</td>\n      <td>NaN</td>\n      <td>0.015</td>\n    </tr>\n    <tr>\n      <th>4</th>\n      <td>5</td>\n      <td>Plessis_1-5</td>\n      <td>308.0</td>\n      <td>1200.0</td>\n      <td>0.14</td>\n      <td>165.0</td>\n      <td>0.017</td>\n      <td>0.03</td>\n      <td>61.111111</td>\n      <td>EOS M290</td>\n      <td>EOS-supplied Ti6Al4V ELI</td>\n      <td>NaN</td>\n      <td>0.015</td>\n    </tr>\n  </tbody>\n</table>\n</div>"
     },
     "metadata": {},
     "execution_count": 68
    }
   ],
   "source": [
    "params = pd.read_csv(\"../data/interim/interim_data.csv\")\n",
    "params.head()"
   ]
  },
  {
   "cell_type": "code",
   "execution_count": 69,
   "id": "0184e2f0",
   "metadata": {},
   "outputs": [],
   "source": [
    "machine_title = params.Machine[0]\n",
    "alloy_title = params.Powder[0]"
   ]
  },
  {
   "cell_type": "code",
   "execution_count": 70,
   "id": "7afa0148",
   "metadata": {},
   "outputs": [
    {
     "output_type": "stream",
     "name": "stdout",
     "text": [
      "dropped columns\n"
     ]
    },
    {
     "output_type": "execute_result",
     "data": {
      "text/plain": [
       "   LaserPowerHatch  LaserSpeedHatch  HatchSpacing  LayerHeight  \\\n",
       "0            280.0           1200.0          0.14         0.03   \n",
       "1            252.0           1200.0          0.14         0.03   \n",
       "2            224.0           1200.0          0.14         0.03   \n",
       "3            197.0           1200.0          0.14         0.03   \n",
       "4            308.0           1200.0          0.14         0.03   \n",
       "\n",
       "   LaserPowerContour  EnergyDensityCalculated  Porosity  \n",
       "0              150.0                55.555556     0.013  \n",
       "1              135.0                50.000000     0.008  \n",
       "2              120.0                44.444444     0.007  \n",
       "3              105.0                39.087302     0.045  \n",
       "4              165.0                61.111111     0.017  "
      ],
      "text/html": "<div>\n<style scoped>\n    .dataframe tbody tr th:only-of-type {\n        vertical-align: middle;\n    }\n\n    .dataframe tbody tr th {\n        vertical-align: top;\n    }\n\n    .dataframe thead th {\n        text-align: right;\n    }\n</style>\n<table border=\"1\" class=\"dataframe\">\n  <thead>\n    <tr style=\"text-align: right;\">\n      <th></th>\n      <th>LaserPowerHatch</th>\n      <th>LaserSpeedHatch</th>\n      <th>HatchSpacing</th>\n      <th>LayerHeight</th>\n      <th>LaserPowerContour</th>\n      <th>EnergyDensityCalculated</th>\n      <th>Porosity</th>\n    </tr>\n  </thead>\n  <tbody>\n    <tr>\n      <th>0</th>\n      <td>280.0</td>\n      <td>1200.0</td>\n      <td>0.14</td>\n      <td>0.03</td>\n      <td>150.0</td>\n      <td>55.555556</td>\n      <td>0.013</td>\n    </tr>\n    <tr>\n      <th>1</th>\n      <td>252.0</td>\n      <td>1200.0</td>\n      <td>0.14</td>\n      <td>0.03</td>\n      <td>135.0</td>\n      <td>50.000000</td>\n      <td>0.008</td>\n    </tr>\n    <tr>\n      <th>2</th>\n      <td>224.0</td>\n      <td>1200.0</td>\n      <td>0.14</td>\n      <td>0.03</td>\n      <td>120.0</td>\n      <td>44.444444</td>\n      <td>0.007</td>\n    </tr>\n    <tr>\n      <th>3</th>\n      <td>197.0</td>\n      <td>1200.0</td>\n      <td>0.14</td>\n      <td>0.03</td>\n      <td>105.0</td>\n      <td>39.087302</td>\n      <td>0.045</td>\n    </tr>\n    <tr>\n      <th>4</th>\n      <td>308.0</td>\n      <td>1200.0</td>\n      <td>0.14</td>\n      <td>0.03</td>\n      <td>165.0</td>\n      <td>61.111111</td>\n      <td>0.017</td>\n    </tr>\n  </tbody>\n</table>\n</div>"
     },
     "metadata": {},
     "execution_count": 70
    }
   ],
   "source": [
    "try:\n",
    "    params = params.drop([\"ID\",\"StudySample\",\"HatchOffsetFromCountour\", \"MicroCTScan\", \"Machine\", \"Powder\"], axis=1)\n",
    "    print(\"dropped columns\")\n",
    "except:\n",
    "    print(\"already dropped columns\")\n",
    "params = params[[\"LaserPowerHatch\",\"LaserSpeedHatch\",\"HatchSpacing\", \"LayerHeight\", \"LaserPowerContour\",\"EnergyDensityCalculated\",\"Porosity\"]]\n",
    "params.head()"
   ]
  },
  {
   "cell_type": "code",
   "execution_count": 73,
   "id": "982f2395",
   "metadata": {
    "scrolled": true
   },
   "outputs": [
    {
     "output_type": "execute_result",
     "data": {
      "text/plain": [
       "   LaserPowerHatch  LaserSpeedHatch  HatchSpacing  LayerHeight  \\\n",
       "0            280.0           1200.0          0.14         0.03   \n",
       "1            252.0           1200.0          0.14         0.03   \n",
       "2            224.0           1200.0          0.14         0.03   \n",
       "3            197.0           1200.0          0.14         0.03   \n",
       "4            308.0           1200.0          0.14         0.03   \n",
       "\n",
       "   LaserPowerContour  EnergyDensityCalculated  Porosity  \n",
       "0              150.0                55.555556     0.013  \n",
       "1              135.0                50.000000     0.008  \n",
       "2              120.0                44.444444     0.007  \n",
       "3              105.0                39.087302     0.045  \n",
       "4              165.0                61.111111     0.017  "
      ],
      "text/html": "<div>\n<style scoped>\n    .dataframe tbody tr th:only-of-type {\n        vertical-align: middle;\n    }\n\n    .dataframe tbody tr th {\n        vertical-align: top;\n    }\n\n    .dataframe thead th {\n        text-align: right;\n    }\n</style>\n<table border=\"1\" class=\"dataframe\">\n  <thead>\n    <tr style=\"text-align: right;\">\n      <th></th>\n      <th>LaserPowerHatch</th>\n      <th>LaserSpeedHatch</th>\n      <th>HatchSpacing</th>\n      <th>LayerHeight</th>\n      <th>LaserPowerContour</th>\n      <th>EnergyDensityCalculated</th>\n      <th>Porosity</th>\n    </tr>\n  </thead>\n  <tbody>\n    <tr>\n      <th>0</th>\n      <td>280.0</td>\n      <td>1200.0</td>\n      <td>0.14</td>\n      <td>0.03</td>\n      <td>150.0</td>\n      <td>55.555556</td>\n      <td>0.013</td>\n    </tr>\n    <tr>\n      <th>1</th>\n      <td>252.0</td>\n      <td>1200.0</td>\n      <td>0.14</td>\n      <td>0.03</td>\n      <td>135.0</td>\n      <td>50.000000</td>\n      <td>0.008</td>\n    </tr>\n    <tr>\n      <th>2</th>\n      <td>224.0</td>\n      <td>1200.0</td>\n      <td>0.14</td>\n      <td>0.03</td>\n      <td>120.0</td>\n      <td>44.444444</td>\n      <td>0.007</td>\n    </tr>\n    <tr>\n      <th>3</th>\n      <td>197.0</td>\n      <td>1200.0</td>\n      <td>0.14</td>\n      <td>0.03</td>\n      <td>105.0</td>\n      <td>39.087302</td>\n      <td>0.045</td>\n    </tr>\n    <tr>\n      <th>4</th>\n      <td>308.0</td>\n      <td>1200.0</td>\n      <td>0.14</td>\n      <td>0.03</td>\n      <td>165.0</td>\n      <td>61.111111</td>\n      <td>0.017</td>\n    </tr>\n  </tbody>\n</table>\n</div>"
     },
     "metadata": {},
     "execution_count": 73
    }
   ],
   "source": [
    "params.EnergyDensityCalculated = params.LaserPowerHatch / (params.LaserSpeedHatch * params.HatchSpacing * params.LayerHeight)\n",
    "\n",
    "split_pct = .25\n",
    "seed = 100\n",
    "\n",
    "train_data = params.sample(frac=1-split_pct, random_state=seed).reset_index()\n",
    "test_data = params.drop(train_data.index).sample(frac=1, random_state=seed).reset_index()\n",
    "params.head()"
   ]
  },
  {
   "cell_type": "code",
   "execution_count": 79,
   "metadata": {},
   "outputs": [
    {
     "output_type": "stream",
     "name": "stdout",
     "text": [
      "-421.422134953067\n"
     ]
    }
   ],
   "source": [
    "train_vals = train_data.values\n",
    "test_vals = test_data.values\n",
    "X = train_vals[:,-2].reshape(-1,1)\n",
    "y = train_vals[:,-1].reshape(-1, 1)\n",
    "\n",
    "Xtest = test_vals[:,-2].reshape(-1, 1)\n",
    "ytest = test_vals[:,-1].reshape(-1, 1)\n",
    "\n",
    "model2 = LinearRegression()\n",
    "model2.fit(X, y.T[0])\n",
    "\n",
    "print(model2.score(Xtest, ytest))"
   ]
  },
  {
   "cell_type": "code",
   "execution_count": 86,
   "metadata": {},
   "outputs": [
    {
     "output_type": "execute_result",
     "data": {
      "text/plain": [
       "-0.3736317569520229"
      ]
     },
     "metadata": {},
     "execution_count": 86
    }
   ],
   "source": [
    "from sklearn.neural_network import MLPRegressor\n",
    "from sklearn import svm\n",
    "\n",
    "svr_model1 = svm.SVR(kernel='poly', degree=2)\n",
    "svr_model1.fit(X, y.T[0])\n",
    "\n",
    "mlp_regressor = MLPRegressor(hidden_layer_sizes=9, solver='lbfgs',activation='tanh')\n",
    "mlp_regressor.fit(X, y.T[0])\n",
    "\n",
    "mlp_regressor.score(Xtest,ytest.T[0])"
   ]
  },
  {
   "cell_type": "code",
   "execution_count": 61,
   "metadata": {},
   "outputs": [
    {
     "output_type": "execute_result",
     "data": {
      "text/plain": [
       "array([[3.640e+02, 1.200e+03, 1.400e-01, 1.950e+02],\n",
       "       [2.800e+02, 8.000e+02, 1.400e-01, 1.500e+02],\n",
       "       [2.800e+02, 1.200e+03, 1.700e-01, 1.500e+02],\n",
       "       [3.200e+02, 8.000e+02, 1.400e-01, 1.710e+02],\n",
       "       [2.000e+02, 8.000e+02, 1.400e-01, 1.070e+02],\n",
       "       [2.800e+02, 1.200e+03, 2.000e-01, 1.500e+02],\n",
       "       [1.000e+02, 1.200e+03, 1.400e-01, 5.355e+01],\n",
       "       [3.600e+02, 8.000e+02, 1.400e-01, 1.920e+02],\n",
       "       [3.080e+02, 1.200e+03, 1.400e-01, 1.650e+02],\n",
       "       [2.800e+02, 1.200e+03, 1.400e-01, 1.500e+02],\n",
       "       [2.800e+02, 1.200e+03, 1.400e-01, 1.500e+02],\n",
       "       [2.520e+02, 1.200e+03, 1.400e-01, 1.350e+02],\n",
       "       [2.800e+02, 1.200e+03, 2.300e-01, 1.500e+02],\n",
       "       [9.000e+01, 8.000e+02, 1.400e-01, 4.800e+01],\n",
       "       [2.400e+02, 8.000e+02, 1.400e-01, 1.280e+02],\n",
       "       [3.360e+02, 1.200e+03, 1.400e-01, 1.800e+02],\n",
       "       [2.240e+02, 1.200e+03, 1.400e-01, 1.200e+02]])"
      ]
     },
     "metadata": {},
     "execution_count": 61
    }
   ],
   "source": [
    "train_vals[:,1:-2]"
   ]
  },
  {
   "cell_type": "code",
   "execution_count": 77,
   "metadata": {},
   "outputs": [
    {
     "output_type": "display_data",
     "data": {
      "text/plain": "<Figure size 432x288 with 1 Axes>",
      "image/svg+xml": "<?xml version=\"1.0\" encoding=\"utf-8\" standalone=\"no\"?>\r\n<!DOCTYPE svg PUBLIC \"-//W3C//DTD SVG 1.1//EN\"\r\n  \"http://www.w3.org/Graphics/SVG/1.1/DTD/svg11.dtd\">\r\n<!-- Created with matplotlib (https://matplotlib.org/) -->\r\n<svg height=\"248.518125pt\" version=\"1.1\" viewBox=\"0 0 379.7 248.518125\" width=\"379.7pt\" xmlns=\"http://www.w3.org/2000/svg\" xmlns:xlink=\"http://www.w3.org/1999/xlink\">\r\n <metadata>\r\n  <rdf:RDF xmlns:cc=\"http://creativecommons.org/ns#\" xmlns:dc=\"http://purl.org/dc/elements/1.1/\" xmlns:rdf=\"http://www.w3.org/1999/02/22-rdf-syntax-ns#\">\r\n   <cc:Work>\r\n    <dc:type rdf:resource=\"http://purl.org/dc/dcmitype/StillImage\"/>\r\n    <dc:date>2021-07-14T15:10:41.001474</dc:date>\r\n    <dc:format>image/svg+xml</dc:format>\r\n    <dc:creator>\r\n     <cc:Agent>\r\n      <dc:title>Matplotlib v3.3.4, https://matplotlib.org/</dc:title>\r\n     </cc:Agent>\r\n    </dc:creator>\r\n   </cc:Work>\r\n  </rdf:RDF>\r\n </metadata>\r\n <defs>\r\n  <style type=\"text/css\">*{stroke-linecap:butt;stroke-linejoin:round;}</style>\r\n </defs>\r\n <g id=\"figure_1\">\r\n  <g id=\"patch_1\">\r\n   <path d=\"M 0 248.518125 \r\nL 379.7 248.518125 \r\nL 379.7 0 \r\nL 0 0 \r\nz\r\n\" style=\"fill:none;\"/>\r\n  </g>\r\n  <g id=\"axes_1\">\r\n   <g id=\"patch_2\">\r\n    <path d=\"M 37.7 224.64 \r\nL 372.5 224.64 \r\nL 372.5 7.2 \r\nL 37.7 7.2 \r\nz\r\n\" style=\"fill:#ffffff;\"/>\r\n   </g>\r\n   <g id=\"matplotlib.axis_1\">\r\n    <g id=\"xtick_1\">\r\n     <g id=\"line2d_1\">\r\n      <defs>\r\n       <path d=\"M 0 0 \r\nL 0 3.5 \r\n\" id=\"m1062d6b935\" style=\"stroke:#000000;stroke-width:0.8;\"/>\r\n      </defs>\r\n      <g>\r\n       <use style=\"stroke:#000000;stroke-width:0.8;\" x=\"344.829888\" xlink:href=\"#m1062d6b935\" y=\"224.64\"/>\r\n      </g>\r\n     </g>\r\n     <g id=\"text_1\">\r\n      <!-- $\\mathdefault{10^{2}}$ -->\r\n      <g transform=\"translate(336.029888 239.238437)scale(0.1 -0.1)\">\r\n       <defs>\r\n        <path d=\"M 12.40625 8.296875 \r\nL 28.515625 8.296875 \r\nL 28.515625 63.921875 \r\nL 10.984375 60.40625 \r\nL 10.984375 69.390625 \r\nL 28.421875 72.90625 \r\nL 38.28125 72.90625 \r\nL 38.28125 8.296875 \r\nL 54.390625 8.296875 \r\nL 54.390625 0 \r\nL 12.40625 0 \r\nz\r\n\" id=\"DejaVuSans-49\"/>\r\n        <path d=\"M 31.78125 66.40625 \r\nQ 24.171875 66.40625 20.328125 58.90625 \r\nQ 16.5 51.421875 16.5 36.375 \r\nQ 16.5 21.390625 20.328125 13.890625 \r\nQ 24.171875 6.390625 31.78125 6.390625 \r\nQ 39.453125 6.390625 43.28125 13.890625 \r\nQ 47.125 21.390625 47.125 36.375 \r\nQ 47.125 51.421875 43.28125 58.90625 \r\nQ 39.453125 66.40625 31.78125 66.40625 \r\nz\r\nM 31.78125 74.21875 \r\nQ 44.046875 74.21875 50.515625 64.515625 \r\nQ 56.984375 54.828125 56.984375 36.375 \r\nQ 56.984375 17.96875 50.515625 8.265625 \r\nQ 44.046875 -1.421875 31.78125 -1.421875 \r\nQ 19.53125 -1.421875 13.0625 8.265625 \r\nQ 6.59375 17.96875 6.59375 36.375 \r\nQ 6.59375 54.828125 13.0625 64.515625 \r\nQ 19.53125 74.21875 31.78125 74.21875 \r\nz\r\n\" id=\"DejaVuSans-48\"/>\r\n        <path d=\"M 19.1875 8.296875 \r\nL 53.609375 8.296875 \r\nL 53.609375 0 \r\nL 7.328125 0 \r\nL 7.328125 8.296875 \r\nQ 12.9375 14.109375 22.625 23.890625 \r\nQ 32.328125 33.6875 34.8125 36.53125 \r\nQ 39.546875 41.84375 41.421875 45.53125 \r\nQ 43.3125 49.21875 43.3125 52.78125 \r\nQ 43.3125 58.59375 39.234375 62.25 \r\nQ 35.15625 65.921875 28.609375 65.921875 \r\nQ 23.96875 65.921875 18.8125 64.3125 \r\nQ 13.671875 62.703125 7.8125 59.421875 \r\nL 7.8125 69.390625 \r\nQ 13.765625 71.78125 18.9375 73 \r\nQ 24.125 74.21875 28.421875 74.21875 \r\nQ 39.75 74.21875 46.484375 68.546875 \r\nQ 53.21875 62.890625 53.21875 53.421875 \r\nQ 53.21875 48.921875 51.53125 44.890625 \r\nQ 49.859375 40.875 45.40625 35.40625 \r\nQ 44.1875 33.984375 37.640625 27.21875 \r\nQ 31.109375 20.453125 19.1875 8.296875 \r\nz\r\n\" id=\"DejaVuSans-50\"/>\r\n       </defs>\r\n       <use transform=\"translate(0 0.765625)\" xlink:href=\"#DejaVuSans-49\"/>\r\n       <use transform=\"translate(63.623047 0.765625)\" xlink:href=\"#DejaVuSans-48\"/>\r\n       <use transform=\"translate(128.203125 39.046875)scale(0.7)\" xlink:href=\"#DejaVuSans-50\"/>\r\n      </g>\r\n     </g>\r\n    </g>\r\n    <g id=\"xtick_2\">\r\n     <g id=\"line2d_2\">\r\n      <defs>\r\n       <path d=\"M 0 0 \r\nL 0 2 \r\n\" id=\"mda240e2515\" style=\"stroke:#000000;stroke-width:0.6;\"/>\r\n      </defs>\r\n      <g>\r\n       <use style=\"stroke:#000000;stroke-width:0.6;\" x=\"54.356288\" xlink:href=\"#mda240e2515\" y=\"224.64\"/>\r\n      </g>\r\n     </g>\r\n     <g id=\"text_2\">\r\n      <!-- $\\mathdefault{2\\times10^{1}}$ -->\r\n      <g transform=\"translate(36.256288 237.638437)scale(0.1 -0.1)\">\r\n       <defs>\r\n        <path d=\"M 70.125 53.71875 \r\nL 47.796875 31.296875 \r\nL 70.125 8.984375 \r\nL 64.3125 3.078125 \r\nL 41.890625 25.484375 \r\nL 19.484375 3.078125 \r\nL 13.71875 8.984375 \r\nL 35.984375 31.296875 \r\nL 13.71875 53.71875 \r\nL 19.484375 59.625 \r\nL 41.890625 37.203125 \r\nL 64.3125 59.625 \r\nz\r\n\" id=\"DejaVuSans-215\"/>\r\n       </defs>\r\n       <use transform=\"translate(0 0.684375)\" xlink:href=\"#DejaVuSans-50\"/>\r\n       <use transform=\"translate(83.105469 0.684375)\" xlink:href=\"#DejaVuSans-215\"/>\r\n       <use transform=\"translate(186.376953 0.684375)\" xlink:href=\"#DejaVuSans-49\"/>\r\n       <use transform=\"translate(250 0.684375)\" xlink:href=\"#DejaVuSans-48\"/>\r\n       <use transform=\"translate(314.580078 38.965625)scale(0.7)\" xlink:href=\"#DejaVuSans-49\"/>\r\n      </g>\r\n     </g>\r\n    </g>\r\n    <g id=\"xtick_3\">\r\n     <g id=\"line2d_3\">\r\n      <g>\r\n       <use style=\"stroke:#000000;stroke-width:0.6;\" x=\"127.535197\" xlink:href=\"#mda240e2515\" y=\"224.64\"/>\r\n      </g>\r\n     </g>\r\n     <g id=\"text_3\">\r\n      <!-- $\\mathdefault{3\\times10^{1}}$ -->\r\n      <g transform=\"translate(109.435197 237.638437)scale(0.1 -0.1)\">\r\n       <defs>\r\n        <path d=\"M 40.578125 39.3125 \r\nQ 47.65625 37.796875 51.625 33 \r\nQ 55.609375 28.21875 55.609375 21.1875 \r\nQ 55.609375 10.40625 48.1875 4.484375 \r\nQ 40.765625 -1.421875 27.09375 -1.421875 \r\nQ 22.515625 -1.421875 17.65625 -0.515625 \r\nQ 12.796875 0.390625 7.625 2.203125 \r\nL 7.625 11.71875 \r\nQ 11.71875 9.328125 16.59375 8.109375 \r\nQ 21.484375 6.890625 26.8125 6.890625 \r\nQ 36.078125 6.890625 40.9375 10.546875 \r\nQ 45.796875 14.203125 45.796875 21.1875 \r\nQ 45.796875 27.640625 41.28125 31.265625 \r\nQ 36.765625 34.90625 28.71875 34.90625 \r\nL 20.21875 34.90625 \r\nL 20.21875 43.015625 \r\nL 29.109375 43.015625 \r\nQ 36.375 43.015625 40.234375 45.921875 \r\nQ 44.09375 48.828125 44.09375 54.296875 \r\nQ 44.09375 59.90625 40.109375 62.90625 \r\nQ 36.140625 65.921875 28.71875 65.921875 \r\nQ 24.65625 65.921875 20.015625 65.03125 \r\nQ 15.375 64.15625 9.8125 62.3125 \r\nL 9.8125 71.09375 \r\nQ 15.4375 72.65625 20.34375 73.4375 \r\nQ 25.25 74.21875 29.59375 74.21875 \r\nQ 40.828125 74.21875 47.359375 69.109375 \r\nQ 53.90625 64.015625 53.90625 55.328125 \r\nQ 53.90625 49.265625 50.4375 45.09375 \r\nQ 46.96875 40.921875 40.578125 39.3125 \r\nz\r\n\" id=\"DejaVuSans-51\"/>\r\n       </defs>\r\n       <use transform=\"translate(0 0.684375)\" xlink:href=\"#DejaVuSans-51\"/>\r\n       <use transform=\"translate(83.105469 0.684375)\" xlink:href=\"#DejaVuSans-215\"/>\r\n       <use transform=\"translate(186.376953 0.684375)\" xlink:href=\"#DejaVuSans-49\"/>\r\n       <use transform=\"translate(250 0.684375)\" xlink:href=\"#DejaVuSans-48\"/>\r\n       <use transform=\"translate(314.580078 38.965625)scale(0.7)\" xlink:href=\"#DejaVuSans-49\"/>\r\n      </g>\r\n     </g>\r\n    </g>\r\n    <g id=\"xtick_4\">\r\n     <g id=\"line2d_4\">\r\n      <g>\r\n       <use style=\"stroke:#000000;stroke-width:0.6;\" x=\"179.456459\" xlink:href=\"#mda240e2515\" y=\"224.64\"/>\r\n      </g>\r\n     </g>\r\n     <g id=\"text_4\">\r\n      <!-- $\\mathdefault{4\\times10^{1}}$ -->\r\n      <g transform=\"translate(161.356459 237.638437)scale(0.1 -0.1)\">\r\n       <defs>\r\n        <path d=\"M 37.796875 64.3125 \r\nL 12.890625 25.390625 \r\nL 37.796875 25.390625 \r\nz\r\nM 35.203125 72.90625 \r\nL 47.609375 72.90625 \r\nL 47.609375 25.390625 \r\nL 58.015625 25.390625 \r\nL 58.015625 17.1875 \r\nL 47.609375 17.1875 \r\nL 47.609375 0 \r\nL 37.796875 0 \r\nL 37.796875 17.1875 \r\nL 4.890625 17.1875 \r\nL 4.890625 26.703125 \r\nz\r\n\" id=\"DejaVuSans-52\"/>\r\n       </defs>\r\n       <use transform=\"translate(0 0.684375)\" xlink:href=\"#DejaVuSans-52\"/>\r\n       <use transform=\"translate(83.105469 0.684375)\" xlink:href=\"#DejaVuSans-215\"/>\r\n       <use transform=\"translate(186.376953 0.684375)\" xlink:href=\"#DejaVuSans-49\"/>\r\n       <use transform=\"translate(250 0.684375)\" xlink:href=\"#DejaVuSans-48\"/>\r\n       <use transform=\"translate(314.580078 38.965625)scale(0.7)\" xlink:href=\"#DejaVuSans-49\"/>\r\n      </g>\r\n     </g>\r\n    </g>\r\n    <g id=\"xtick_5\">\r\n     <g id=\"line2d_5\">\r\n      <g>\r\n       <use style=\"stroke:#000000;stroke-width:0.6;\" x=\"219.729718\" xlink:href=\"#mda240e2515\" y=\"224.64\"/>\r\n      </g>\r\n     </g>\r\n    </g>\r\n    <g id=\"xtick_6\">\r\n     <g id=\"line2d_6\">\r\n      <g>\r\n       <use style=\"stroke:#000000;stroke-width:0.6;\" x=\"252.635367\" xlink:href=\"#mda240e2515\" y=\"224.64\"/>\r\n      </g>\r\n     </g>\r\n     <g id=\"text_5\">\r\n      <!-- $\\mathdefault{6\\times10^{1}}$ -->\r\n      <g transform=\"translate(234.535367 237.638437)scale(0.1 -0.1)\">\r\n       <defs>\r\n        <path d=\"M 33.015625 40.375 \r\nQ 26.375 40.375 22.484375 35.828125 \r\nQ 18.609375 31.296875 18.609375 23.390625 \r\nQ 18.609375 15.53125 22.484375 10.953125 \r\nQ 26.375 6.390625 33.015625 6.390625 \r\nQ 39.65625 6.390625 43.53125 10.953125 \r\nQ 47.40625 15.53125 47.40625 23.390625 \r\nQ 47.40625 31.296875 43.53125 35.828125 \r\nQ 39.65625 40.375 33.015625 40.375 \r\nz\r\nM 52.59375 71.296875 \r\nL 52.59375 62.3125 \r\nQ 48.875 64.0625 45.09375 64.984375 \r\nQ 41.3125 65.921875 37.59375 65.921875 \r\nQ 27.828125 65.921875 22.671875 59.328125 \r\nQ 17.53125 52.734375 16.796875 39.40625 \r\nQ 19.671875 43.65625 24.015625 45.921875 \r\nQ 28.375 48.1875 33.59375 48.1875 \r\nQ 44.578125 48.1875 50.953125 41.515625 \r\nQ 57.328125 34.859375 57.328125 23.390625 \r\nQ 57.328125 12.15625 50.6875 5.359375 \r\nQ 44.046875 -1.421875 33.015625 -1.421875 \r\nQ 20.359375 -1.421875 13.671875 8.265625 \r\nQ 6.984375 17.96875 6.984375 36.375 \r\nQ 6.984375 53.65625 15.1875 63.9375 \r\nQ 23.390625 74.21875 37.203125 74.21875 \r\nQ 40.921875 74.21875 44.703125 73.484375 \r\nQ 48.484375 72.75 52.59375 71.296875 \r\nz\r\n\" id=\"DejaVuSans-54\"/>\r\n       </defs>\r\n       <use transform=\"translate(0 0.684375)\" xlink:href=\"#DejaVuSans-54\"/>\r\n       <use transform=\"translate(83.105469 0.684375)\" xlink:href=\"#DejaVuSans-215\"/>\r\n       <use transform=\"translate(186.376953 0.684375)\" xlink:href=\"#DejaVuSans-49\"/>\r\n       <use transform=\"translate(250 0.684375)\" xlink:href=\"#DejaVuSans-48\"/>\r\n       <use transform=\"translate(314.580078 38.965625)scale(0.7)\" xlink:href=\"#DejaVuSans-49\"/>\r\n      </g>\r\n     </g>\r\n    </g>\r\n    <g id=\"xtick_7\">\r\n     <g id=\"line2d_7\">\r\n      <g>\r\n       <use style=\"stroke:#000000;stroke-width:0.6;\" x=\"280.456697\" xlink:href=\"#mda240e2515\" y=\"224.64\"/>\r\n      </g>\r\n     </g>\r\n    </g>\r\n    <g id=\"xtick_8\">\r\n     <g id=\"line2d_8\">\r\n      <g>\r\n       <use style=\"stroke:#000000;stroke-width:0.6;\" x=\"304.556629\" xlink:href=\"#mda240e2515\" y=\"224.64\"/>\r\n      </g>\r\n     </g>\r\n    </g>\r\n    <g id=\"xtick_9\">\r\n     <g id=\"line2d_9\">\r\n      <g>\r\n       <use style=\"stroke:#000000;stroke-width:0.6;\" x=\"325.814276\" xlink:href=\"#mda240e2515\" y=\"224.64\"/>\r\n      </g>\r\n     </g>\r\n    </g>\r\n   </g>\r\n   <g id=\"matplotlib.axis_2\">\r\n    <g id=\"ytick_1\">\r\n     <g id=\"line2d_10\">\r\n      <defs>\r\n       <path d=\"M 0 0 \r\nL -3.5 0 \r\n\" id=\"m567506e8dc\" style=\"stroke:#000000;stroke-width:0.8;\"/>\r\n      </defs>\r\n      <g>\r\n       <use style=\"stroke:#000000;stroke-width:0.8;\" x=\"37.7\" xlink:href=\"#m567506e8dc\" y=\"205.79\"/>\r\n      </g>\r\n     </g>\r\n     <g id=\"text_6\">\r\n      <!-- $\\mathdefault{10^{-2}}$ -->\r\n      <g transform=\"translate(7.2 209.589219)scale(0.1 -0.1)\">\r\n       <defs>\r\n        <path d=\"M 10.59375 35.5 \r\nL 73.1875 35.5 \r\nL 73.1875 27.203125 \r\nL 10.59375 27.203125 \r\nz\r\n\" id=\"DejaVuSans-8722\"/>\r\n       </defs>\r\n       <use transform=\"translate(0 0.765625)\" xlink:href=\"#DejaVuSans-49\"/>\r\n       <use transform=\"translate(63.623047 0.765625)\" xlink:href=\"#DejaVuSans-48\"/>\r\n       <use transform=\"translate(128.203125 39.046875)scale(0.7)\" xlink:href=\"#DejaVuSans-8722\"/>\r\n       <use transform=\"translate(186.855469 39.046875)scale(0.7)\" xlink:href=\"#DejaVuSans-50\"/>\r\n      </g>\r\n     </g>\r\n    </g>\r\n    <g id=\"ytick_2\">\r\n     <g id=\"line2d_11\">\r\n      <g>\r\n       <use style=\"stroke:#000000;stroke-width:0.8;\" x=\"37.7\" xlink:href=\"#m567506e8dc\" y=\"147.90588\"/>\r\n      </g>\r\n     </g>\r\n     <g id=\"text_7\">\r\n      <!-- $\\mathdefault{10^{-1}}$ -->\r\n      <g transform=\"translate(7.2 151.705099)scale(0.1 -0.1)\">\r\n       <use transform=\"translate(0 0.684375)\" xlink:href=\"#DejaVuSans-49\"/>\r\n       <use transform=\"translate(63.623047 0.684375)\" xlink:href=\"#DejaVuSans-48\"/>\r\n       <use transform=\"translate(128.203125 38.965625)scale(0.7)\" xlink:href=\"#DejaVuSans-8722\"/>\r\n       <use transform=\"translate(186.855469 38.965625)scale(0.7)\" xlink:href=\"#DejaVuSans-49\"/>\r\n      </g>\r\n     </g>\r\n    </g>\r\n    <g id=\"ytick_3\">\r\n     <g id=\"line2d_12\">\r\n      <g>\r\n       <use style=\"stroke:#000000;stroke-width:0.8;\" x=\"37.7\" xlink:href=\"#m567506e8dc\" y=\"90.02176\"/>\r\n      </g>\r\n     </g>\r\n     <g id=\"text_8\">\r\n      <!-- $\\mathdefault{10^{0}}$ -->\r\n      <g transform=\"translate(13.1 93.820979)scale(0.1 -0.1)\">\r\n       <use transform=\"translate(0 0.765625)\" xlink:href=\"#DejaVuSans-49\"/>\r\n       <use transform=\"translate(63.623047 0.765625)\" xlink:href=\"#DejaVuSans-48\"/>\r\n       <use transform=\"translate(128.203125 39.046875)scale(0.7)\" xlink:href=\"#DejaVuSans-48\"/>\r\n      </g>\r\n     </g>\r\n    </g>\r\n    <g id=\"ytick_4\">\r\n     <g id=\"line2d_13\">\r\n      <g>\r\n       <use style=\"stroke:#000000;stroke-width:0.8;\" x=\"37.7\" xlink:href=\"#m567506e8dc\" y=\"32.13764\"/>\r\n      </g>\r\n     </g>\r\n     <g id=\"text_9\">\r\n      <!-- $\\mathdefault{10^{1}}$ -->\r\n      <g transform=\"translate(13.1 35.936859)scale(0.1 -0.1)\">\r\n       <use transform=\"translate(0 0.684375)\" xlink:href=\"#DejaVuSans-49\"/>\r\n       <use transform=\"translate(63.623047 0.684375)\" xlink:href=\"#DejaVuSans-48\"/>\r\n       <use transform=\"translate(128.203125 38.965625)scale(0.7)\" xlink:href=\"#DejaVuSans-49\"/>\r\n      </g>\r\n     </g>\r\n    </g>\r\n    <g id=\"ytick_5\">\r\n     <g id=\"line2d_14\">\r\n      <defs>\r\n       <path d=\"M 0 0 \r\nL -2 0 \r\n\" id=\"mc613b955c3\" style=\"stroke:#000000;stroke-width:0.6;\"/>\r\n      </defs>\r\n      <g>\r\n       <use style=\"stroke:#000000;stroke-width:0.6;\" x=\"37.7\" xlink:href=\"#mc613b955c3\" y=\"223.214856\"/>\r\n      </g>\r\n     </g>\r\n    </g>\r\n    <g id=\"ytick_6\">\r\n     <g id=\"line2d_15\">\r\n      <g>\r\n       <use style=\"stroke:#000000;stroke-width:0.6;\" x=\"37.7\" xlink:href=\"#mc613b955c3\" y=\"218.63152\"/>\r\n      </g>\r\n     </g>\r\n    </g>\r\n    <g id=\"ytick_7\">\r\n     <g id=\"line2d_16\">\r\n      <g>\r\n       <use style=\"stroke:#000000;stroke-width:0.6;\" x=\"37.7\" xlink:href=\"#mc613b955c3\" y=\"214.756364\"/>\r\n      </g>\r\n     </g>\r\n    </g>\r\n    <g id=\"ytick_8\">\r\n     <g id=\"line2d_17\">\r\n      <g>\r\n       <use style=\"stroke:#000000;stroke-width:0.6;\" x=\"37.7\" xlink:href=\"#mc613b955c3\" y=\"211.399551\"/>\r\n      </g>\r\n     </g>\r\n    </g>\r\n    <g id=\"ytick_9\">\r\n     <g id=\"line2d_18\">\r\n      <g>\r\n       <use style=\"stroke:#000000;stroke-width:0.6;\" x=\"37.7\" xlink:href=\"#mc613b955c3\" y=\"208.438632\"/>\r\n      </g>\r\n     </g>\r\n    </g>\r\n    <g id=\"ytick_10\">\r\n     <g id=\"line2d_19\">\r\n      <g>\r\n       <use style=\"stroke:#000000;stroke-width:0.6;\" x=\"37.7\" xlink:href=\"#mc613b955c3\" y=\"188.365144\"/>\r\n      </g>\r\n     </g>\r\n    </g>\r\n    <g id=\"ytick_11\">\r\n     <g id=\"line2d_20\">\r\n      <g>\r\n       <use style=\"stroke:#000000;stroke-width:0.6;\" x=\"37.7\" xlink:href=\"#mc613b955c3\" y=\"178.172256\"/>\r\n      </g>\r\n     </g>\r\n    </g>\r\n    <g id=\"ytick_12\">\r\n     <g id=\"line2d_21\">\r\n      <g>\r\n       <use style=\"stroke:#000000;stroke-width:0.6;\" x=\"37.7\" xlink:href=\"#mc613b955c3\" y=\"170.940287\"/>\r\n      </g>\r\n     </g>\r\n    </g>\r\n    <g id=\"ytick_13\">\r\n     <g id=\"line2d_22\">\r\n      <g>\r\n       <use style=\"stroke:#000000;stroke-width:0.6;\" x=\"37.7\" xlink:href=\"#mc613b955c3\" y=\"165.330736\"/>\r\n      </g>\r\n     </g>\r\n    </g>\r\n    <g id=\"ytick_14\">\r\n     <g id=\"line2d_23\">\r\n      <g>\r\n       <use style=\"stroke:#000000;stroke-width:0.6;\" x=\"37.7\" xlink:href=\"#mc613b955c3\" y=\"160.7474\"/>\r\n      </g>\r\n     </g>\r\n    </g>\r\n    <g id=\"ytick_15\">\r\n     <g id=\"line2d_24\">\r\n      <g>\r\n       <use style=\"stroke:#000000;stroke-width:0.6;\" x=\"37.7\" xlink:href=\"#mc613b955c3\" y=\"156.872244\"/>\r\n      </g>\r\n     </g>\r\n    </g>\r\n    <g id=\"ytick_16\">\r\n     <g id=\"line2d_25\">\r\n      <g>\r\n       <use style=\"stroke:#000000;stroke-width:0.6;\" x=\"37.7\" xlink:href=\"#mc613b955c3\" y=\"153.515431\"/>\r\n      </g>\r\n     </g>\r\n    </g>\r\n    <g id=\"ytick_17\">\r\n     <g id=\"line2d_26\">\r\n      <g>\r\n       <use style=\"stroke:#000000;stroke-width:0.6;\" x=\"37.7\" xlink:href=\"#mc613b955c3\" y=\"150.554512\"/>\r\n      </g>\r\n     </g>\r\n    </g>\r\n    <g id=\"ytick_18\">\r\n     <g id=\"line2d_27\">\r\n      <g>\r\n       <use style=\"stroke:#000000;stroke-width:0.6;\" x=\"37.7\" xlink:href=\"#mc613b955c3\" y=\"130.481024\"/>\r\n      </g>\r\n     </g>\r\n    </g>\r\n    <g id=\"ytick_19\">\r\n     <g id=\"line2d_28\">\r\n      <g>\r\n       <use style=\"stroke:#000000;stroke-width:0.6;\" x=\"37.7\" xlink:href=\"#mc613b955c3\" y=\"120.288136\"/>\r\n      </g>\r\n     </g>\r\n    </g>\r\n    <g id=\"ytick_20\">\r\n     <g id=\"line2d_29\">\r\n      <g>\r\n       <use style=\"stroke:#000000;stroke-width:0.6;\" x=\"37.7\" xlink:href=\"#mc613b955c3\" y=\"113.056167\"/>\r\n      </g>\r\n     </g>\r\n    </g>\r\n    <g id=\"ytick_21\">\r\n     <g id=\"line2d_30\">\r\n      <g>\r\n       <use style=\"stroke:#000000;stroke-width:0.6;\" x=\"37.7\" xlink:href=\"#mc613b955c3\" y=\"107.446616\"/>\r\n      </g>\r\n     </g>\r\n    </g>\r\n    <g id=\"ytick_22\">\r\n     <g id=\"line2d_31\">\r\n      <g>\r\n       <use style=\"stroke:#000000;stroke-width:0.6;\" x=\"37.7\" xlink:href=\"#mc613b955c3\" y=\"102.86328\"/>\r\n      </g>\r\n     </g>\r\n    </g>\r\n    <g id=\"ytick_23\">\r\n     <g id=\"line2d_32\">\r\n      <g>\r\n       <use style=\"stroke:#000000;stroke-width:0.6;\" x=\"37.7\" xlink:href=\"#mc613b955c3\" y=\"98.988124\"/>\r\n      </g>\r\n     </g>\r\n    </g>\r\n    <g id=\"ytick_24\">\r\n     <g id=\"line2d_33\">\r\n      <g>\r\n       <use style=\"stroke:#000000;stroke-width:0.6;\" x=\"37.7\" xlink:href=\"#mc613b955c3\" y=\"95.631311\"/>\r\n      </g>\r\n     </g>\r\n    </g>\r\n    <g id=\"ytick_25\">\r\n     <g id=\"line2d_34\">\r\n      <g>\r\n       <use style=\"stroke:#000000;stroke-width:0.6;\" x=\"37.7\" xlink:href=\"#mc613b955c3\" y=\"92.670392\"/>\r\n      </g>\r\n     </g>\r\n    </g>\r\n    <g id=\"ytick_26\">\r\n     <g id=\"line2d_35\">\r\n      <g>\r\n       <use style=\"stroke:#000000;stroke-width:0.6;\" x=\"37.7\" xlink:href=\"#mc613b955c3\" y=\"72.596903\"/>\r\n      </g>\r\n     </g>\r\n    </g>\r\n    <g id=\"ytick_27\">\r\n     <g id=\"line2d_36\">\r\n      <g>\r\n       <use style=\"stroke:#000000;stroke-width:0.6;\" x=\"37.7\" xlink:href=\"#mc613b955c3\" y=\"62.404016\"/>\r\n      </g>\r\n     </g>\r\n    </g>\r\n    <g id=\"ytick_28\">\r\n     <g id=\"line2d_37\">\r\n      <g>\r\n       <use style=\"stroke:#000000;stroke-width:0.6;\" x=\"37.7\" xlink:href=\"#mc613b955c3\" y=\"55.172047\"/>\r\n      </g>\r\n     </g>\r\n    </g>\r\n    <g id=\"ytick_29\">\r\n     <g id=\"line2d_38\">\r\n      <g>\r\n       <use style=\"stroke:#000000;stroke-width:0.6;\" x=\"37.7\" xlink:href=\"#mc613b955c3\" y=\"49.562496\"/>\r\n      </g>\r\n     </g>\r\n    </g>\r\n    <g id=\"ytick_30\">\r\n     <g id=\"line2d_39\">\r\n      <g>\r\n       <use style=\"stroke:#000000;stroke-width:0.6;\" x=\"37.7\" xlink:href=\"#mc613b955c3\" y=\"44.979159\"/>\r\n      </g>\r\n     </g>\r\n    </g>\r\n    <g id=\"ytick_31\">\r\n     <g id=\"line2d_40\">\r\n      <g>\r\n       <use style=\"stroke:#000000;stroke-width:0.6;\" x=\"37.7\" xlink:href=\"#mc613b955c3\" y=\"41.104003\"/>\r\n      </g>\r\n     </g>\r\n    </g>\r\n    <g id=\"ytick_32\">\r\n     <g id=\"line2d_41\">\r\n      <g>\r\n       <use style=\"stroke:#000000;stroke-width:0.6;\" x=\"37.7\" xlink:href=\"#mc613b955c3\" y=\"37.747191\"/>\r\n      </g>\r\n     </g>\r\n    </g>\r\n    <g id=\"ytick_33\">\r\n     <g id=\"line2d_42\">\r\n      <g>\r\n       <use style=\"stroke:#000000;stroke-width:0.6;\" x=\"37.7\" xlink:href=\"#mc613b955c3\" y=\"34.786272\"/>\r\n      </g>\r\n     </g>\r\n    </g>\r\n    <g id=\"ytick_34\">\r\n     <g id=\"line2d_43\">\r\n      <g>\r\n       <use style=\"stroke:#000000;stroke-width:0.6;\" x=\"37.7\" xlink:href=\"#mc613b955c3\" y=\"14.712783\"/>\r\n      </g>\r\n     </g>\r\n    </g>\r\n   </g>\r\n   <g id=\"line2d_44\">\r\n    <defs>\r\n     <path d=\"M 0 3 \r\nC 0.795609 3 1.55874 2.683901 2.12132 2.12132 \r\nC 2.683901 1.55874 3 0.795609 3 0 \r\nC 3 -0.795609 2.683901 -1.55874 2.12132 -2.12132 \r\nC 1.55874 -2.683901 0.795609 -3 0 -3 \r\nC -0.795609 -3 -1.55874 -2.683901 -2.12132 -2.12132 \r\nC -2.683901 -1.55874 -3 -0.795609 -3 0 \r\nC -3 0.795609 -2.683901 1.55874 -2.12132 2.12132 \r\nC -1.55874 2.683901 -0.795609 3 0 3 \r\nz\r\n\" id=\"m4f00ff9d26\" style=\"stroke:#1f77b4;\"/>\r\n    </defs>\r\n    <g clip-path=\"url(#p98e7b56ff0)\">\r\n     <use style=\"fill:#1f77b4;stroke:#1f77b4;\" x=\"238.745331\" xlink:href=\"#m4f00ff9d26\" y=\"199.194489\"/>\r\n     <use style=\"fill:#1f77b4;stroke:#1f77b4;\" x=\"219.729718\" xlink:href=\"#m4f00ff9d26\" y=\"211.399551\"/>\r\n     <use style=\"fill:#1f77b4;stroke:#1f77b4;\" x=\"198.472071\" xlink:href=\"#m4f00ff9d26\" y=\"214.756364\"/>\r\n     <use style=\"fill:#1f77b4;stroke:#1f77b4;\" x=\"175.290622\" xlink:href=\"#m4f00ff9d26\" y=\"167.979368\"/>\r\n     <use style=\"fill:#1f77b4;stroke:#1f77b4;\" x=\"255.947045\" xlink:href=\"#m4f00ff9d26\" y=\"192.450667\"/>\r\n     <use style=\"fill:#1f77b4;stroke:#1f77b4;\" x=\"271.65098\" xlink:href=\"#m4f00ff9d26\" y=\"187.13862\"/>\r\n     <use style=\"fill:#1f77b4;stroke:#1f77b4;\" x=\"286.0972\" xlink:href=\"#m4f00ff9d26\" y=\"172.900143\"/>\r\n     <use style=\"fill:#1f77b4;stroke:#1f77b4;\" x=\"113.645161\" xlink:href=\"#m4f00ff9d26\" y=\"175.025811\"/>\r\n     <use style=\"fill:#1f77b4;stroke:#1f77b4;\" x=\"238.745331\" xlink:href=\"#m4f00ff9d26\" y=\"203.394021\"/>\r\n     <use style=\"fill:#1f77b4;stroke:#1f77b4;\" x=\"52.918182\" xlink:href=\"#m4f00ff9d26\" y=\"17.083636\"/>\r\n     <use style=\"fill:#1f77b4;stroke:#1f77b4;\" x=\"126.09709\" xlink:href=\"#m4f00ff9d26\" y=\"72.722913\"/>\r\n     <use style=\"fill:#1f77b4;stroke:#1f77b4;\" x=\"203.703783\" xlink:href=\"#m4f00ff9d26\" y=\"181.769633\"/>\r\n     <use style=\"fill:#1f77b4;stroke:#1f77b4;\" x=\"174.372139\" xlink:href=\"#m4f00ff9d26\" y=\"133.981898\"/>\r\n     <use style=\"fill:#1f77b4;stroke:#1f77b4;\" x=\"149.147709\" xlink:href=\"#m4f00ff9d26\" y=\"102.201695\"/>\r\n     <use style=\"fill:#1f77b4;stroke:#1f77b4;\" x=\"107.081477\" xlink:href=\"#m4f00ff9d26\" y=\"38.708024\"/>\r\n     <use style=\"fill:#1f77b4;stroke:#1f77b4;\" x=\"159.002739\" xlink:href=\"#m4f00ff9d26\" y=\"103.715522\"/>\r\n     <use style=\"fill:#1f77b4;stroke:#1f77b4;\" x=\"210.924001\" xlink:href=\"#m4f00ff9d26\" y=\"197.331507\"/>\r\n     <use style=\"fill:#1f77b4;stroke:#1f77b4;\" x=\"251.197261\" xlink:href=\"#m4f00ff9d26\" y=\"173.588919\"/>\r\n     <use style=\"fill:#1f77b4;stroke:#1f77b4;\" x=\"284.10291\" xlink:href=\"#m4f00ff9d26\" y=\"145.73948\"/>\r\n     <use style=\"fill:#1f77b4;stroke:#1f77b4;\" x=\"311.924239\" xlink:href=\"#m4f00ff9d26\" y=\"133.269705\"/>\r\n     <use style=\"fill:#1f77b4;stroke:#1f77b4;\" x=\"336.024172\" xlink:href=\"#m4f00ff9d26\" y=\"130.607033\"/>\r\n     <use style=\"fill:#1f77b4;stroke:#1f77b4;\" x=\"357.281818\" xlink:href=\"#m4f00ff9d26\" y=\"118.121736\"/>\r\n     <use style=\"fill:#1f77b4;stroke:#1f77b4;\" x=\"238.745331\" xlink:href=\"#m4f00ff9d26\" y=\"203.394021\"/>\r\n    </g>\r\n   </g>\r\n   <g id=\"patch_3\">\r\n    <path d=\"M 37.7 224.64 \r\nL 37.7 7.2 \r\n\" style=\"fill:none;stroke:#000000;stroke-linecap:square;stroke-linejoin:miter;stroke-width:0.8;\"/>\r\n   </g>\r\n   <g id=\"patch_4\">\r\n    <path d=\"M 372.5 224.64 \r\nL 372.5 7.2 \r\n\" style=\"fill:none;stroke:#000000;stroke-linecap:square;stroke-linejoin:miter;stroke-width:0.8;\"/>\r\n   </g>\r\n   <g id=\"patch_5\">\r\n    <path d=\"M 37.7 224.64 \r\nL 372.5 224.64 \r\n\" style=\"fill:none;stroke:#000000;stroke-linecap:square;stroke-linejoin:miter;stroke-width:0.8;\"/>\r\n   </g>\r\n   <g id=\"patch_6\">\r\n    <path d=\"M 37.7 7.2 \r\nL 372.5 7.2 \r\n\" style=\"fill:none;stroke:#000000;stroke-linecap:square;stroke-linejoin:miter;stroke-width:0.8;\"/>\r\n   </g>\r\n  </g>\r\n </g>\r\n <defs>\r\n  <clipPath id=\"p98e7b56ff0\">\r\n   <rect height=\"217.44\" width=\"334.8\" x=\"37.7\" y=\"7.2\"/>\r\n  </clipPath>\r\n </defs>\r\n</svg>\r\n",
      "image/png": "[encoded data removed]"
     },
     "metadata": {
      "needs_background": "light"
     }
    }
   ],
   "source": [
    "import matplotlib.pyplot as plt\n",
    "\n",
    "plt.loglog(params.EnergyDensityCalculated, params.Porosity, 'o')\n",
    "plt.show()"
   ]
  },
  {
   "cell_type": "code",
   "execution_count": null,
   "metadata": {},
   "outputs": [],
   "source": []
  }
 ],
 "metadata": {
  "kernelspec": {
   "name": "python3",
   "display_name": "Python 3.8.8 64-bit ('base': conda)"
  },
  "language_info": {
   "codemirror_mode": {
    "name": "ipython",
    "version": 3
   },
   "file_extension": ".py",
   "mimetype": "text/x-python",
   "name": "python",
   "nbconvert_exporter": "python",
   "pygments_lexer": "ipython3",
   "version": "3.8.8"
  },
  "interpreter": {
   "hash": "76cb93c2069d6dd32dd434bb04c7dd7d1ca6d4dd43d42c019947306608a90e43"
  }
 },
 "nbformat": 4,
 "nbformat_minor": 5
}